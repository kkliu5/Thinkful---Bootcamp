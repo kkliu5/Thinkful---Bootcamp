{
 "cells": [
  {
   "cell_type": "code",
   "execution_count": 29,
   "metadata": {},
   "outputs": [],
   "source": [
    "import tensorflow as tf\n",
    "import keras\n",
    "import matplotlib.pyplot as plt"
   ]
  },
  {
   "cell_type": "code",
   "execution_count": 30,
   "metadata": {},
   "outputs": [],
   "source": [
    "# Import the dataset\n",
    "from keras.datasets import mnist\n",
    "\n",
    "from keras.models import Sequential\n",
    "from keras.layers import Dense, Dropout, Flatten, Conv2D, MaxPooling2D\n",
    "from keras.layers import LSTM, Input, TimeDistributed\n",
    "from keras.models import Model\n",
    "\n",
    "# Import the backend\n",
    "from keras import backend as K\n",
    "\n",
    "from keras import optimizers\n",
    "\n",
    "from sklearn.model_selection import GridSearchCV\n",
    "from keras.wrappers.scikit_learn import KerasClassifier\n",
    "\n",
    "(x_train, y_train), (x_test, y_test) = mnist.load_data()"
   ]
  },
  {
   "cell_type": "code",
   "execution_count": 31,
   "metadata": {},
   "outputs": [],
   "source": [
    "# Reshape \n",
    "x_train = x_train.reshape(60000, 784)\n",
    "x_test = x_test.reshape(10000, 784)\n",
    "\n",
    "# Convert to float32 for type consistency\n",
    "x_train = x_train.astype('float32')\n",
    "x_test = x_test.astype('float32')\n",
    "\n",
    "# Normalize values to 1 from 0 to 255 (256 values of pixels)\n",
    "x_train /= 255\n",
    "x_test /= 255\n",
    "\n",
    "# # Print sample sizes\n",
    "# print(x_train.shape[0], 'train samples')\n",
    "# print(x_test.shape[0], 'test samples')\n",
    "\n",
    "# Convert class vectors to binary class matrices\n",
    "y_train = keras.utils.to_categorical(y_train, 10)\n",
    "y_test = keras.utils.to_categorical(y_test, 10)"
   ]
  },
  {
   "cell_type": "code",
   "execution_count": 121,
   "metadata": {},
   "outputs": [],
   "source": [
    "# Start with a simple sequential model\n",
    "model = Sequential()\n",
    "\n",
    "# Multi Layer Perceptron \n",
    "model.add(Dense(512\n",
    "                , activation = \n",
    "                #'elu'\n",
    "                #'softmax'\n",
    "                #'selu'\n",
    "                #'softplus'\n",
    "                #'softsign'\n",
    "                'relu' #this one\n",
    "                #'tanh'\n",
    "                #'sigmoid'\n",
    "                #'hard_sigmoid'\n",
    "                #'exponential'\n",
    "                #'linear'\n",
    "                , input_shape = (784,)))\n",
    "model.add(Dropout(0.05))\n",
    "# model.add(Dense(1024, activation='relu'))\n",
    "# model.add(Dropout(0.05))\n",
    "model.add(Dense(10, activation='softmax'))\n",
    "\n",
    "# model.summary()\n",
    "\n",
    "# Compile the model to put it all together.\n",
    "model.compile(loss = 'categorical_crossentropy',\n",
    "              optimizer =  \n",
    "              #'SGD'\n",
    "              'RMSprop' #this one\n",
    "              #'Adagrad'\n",
    "              #'Adadelta'\n",
    "              #'Adam' #maybe this one\n",
    "              #'Adamax'\n",
    "              #'Nadam'\n",
    "              , metrics = ['accuracy'])"
   ]
  },
  {
   "cell_type": "code",
   "execution_count": 122,
   "metadata": {},
   "outputs": [
    {
     "name": "stdout",
     "output_type": "stream",
     "text": [
      "Train on 60000 samples, validate on 10000 samples\n",
      "Epoch 1/15\n",
      "60000/60000 [==============================] - 5s 89us/step - loss: 0.2623 - accuracy: 0.9238 - val_loss: 0.1332 - val_accuracy: 0.9602\n",
      "Epoch 2/15\n",
      "60000/60000 [==============================] - 5s 80us/step - loss: 0.1076 - accuracy: 0.9678 - val_loss: 0.0890 - val_accuracy: 0.9732\n",
      "Epoch 3/15\n",
      "60000/60000 [==============================] - 5s 80us/step - loss: 0.0715 - accuracy: 0.9782 - val_loss: 0.0756 - val_accuracy: 0.9765\n",
      "Epoch 4/15\n",
      "60000/60000 [==============================] - 5s 86us/step - loss: 0.0531 - accuracy: 0.9836 - val_loss: 0.0783 - val_accuracy: 0.9768\n",
      "Epoch 5/15\n",
      "60000/60000 [==============================] - 5s 81us/step - loss: 0.0413 - accuracy: 0.9875 - val_loss: 0.0727 - val_accuracy: 0.9785\n",
      "Epoch 6/15\n",
      "60000/60000 [==============================] - 5s 83us/step - loss: 0.0330 - accuracy: 0.9897 - val_loss: 0.0669 - val_accuracy: 0.9808\n",
      "Epoch 7/15\n",
      "60000/60000 [==============================] - 5s 86us/step - loss: 0.0258 - accuracy: 0.9922 - val_loss: 0.0648 - val_accuracy: 0.9817\n",
      "Epoch 8/15\n",
      "60000/60000 [==============================] - 5s 89us/step - loss: 0.0201 - accuracy: 0.9941 - val_loss: 0.0676 - val_accuracy: 0.9815\n",
      "Epoch 9/15\n",
      "60000/60000 [==============================] - 5s 84us/step - loss: 0.0168 - accuracy: 0.9947 - val_loss: 0.0678 - val_accuracy: 0.9809\n",
      "Epoch 10/15\n",
      "60000/60000 [==============================] - 5s 86us/step - loss: 0.0128 - accuracy: 0.9965 - val_loss: 0.0722 - val_accuracy: 0.9816\n",
      "Epoch 11/15\n",
      "60000/60000 [==============================] - 5s 87us/step - loss: 0.0108 - accuracy: 0.9970 - val_loss: 0.0706 - val_accuracy: 0.9824\n",
      "Epoch 12/15\n",
      "60000/60000 [==============================] - 6s 102us/step - loss: 0.0085 - accuracy: 0.9977 - val_loss: 0.0752 - val_accuracy: 0.9817\n",
      "Epoch 13/15\n",
      "60000/60000 [==============================] - 6s 98us/step - loss: 0.0070 - accuracy: 0.9981 - val_loss: 0.0808 - val_accuracy: 0.9830\n",
      "Epoch 14/15\n",
      "60000/60000 [==============================] - 5s 91us/step - loss: 0.0061 - accuracy: 0.9982 - val_loss: 0.0818 - val_accuracy: 0.9805\n",
      "Epoch 15/15\n",
      "60000/60000 [==============================] - 5s 89us/step - loss: 0.0050 - accuracy: 0.9987 - val_loss: 0.0779 - val_accuracy: 0.9837\n"
     ]
    },
    {
     "data": {
      "image/png": "[encoded data removed]",
      "text/plain": [
       "<Figure size 432x288 with 1 Axes>"
      ]
     },
     "metadata": {
      "needs_background": "light"
     },
     "output_type": "display_data"
    },
    {
     "name": "stdout",
     "output_type": "stream",
     "text": [
      "Test loss: 0.0779\n",
      "Test accuracy: 0.984\n"
     ]
    }
   ],
   "source": [
    "history = model.fit(x_train, y_train,\n",
    "                    batch_size=128,\n",
    "                    epochs=15,\n",
    "                    verbose=1,\n",
    "                    validation_data=(x_test, y_test))\n",
    "\n",
    "loss, accuracy = model.evaluate(x_test, y_test, verbose=0)\n",
    "\n",
    "plt.plot(history.history['accuracy'])\n",
    "plt.plot(history.history['val_accuracy'])\n",
    "plt.title('model accuracy')\n",
    "plt.ylabel('accuracy')\n",
    "plt.xlabel('epoch')\n",
    "plt.legend(['training', 'validation'], loc='best')\n",
    "plt.show()\n",
    "\n",
    "print(f'Test loss: {loss:.3}')\n",
    "print(f'Test accuracy: {accuracy:.3}')"
   ]
  },
  {
   "cell_type": "markdown",
   "metadata": {},
   "source": [
    "After tuning the layers, nodes, activation, optimizers, batch size, and epochs. I created a MLP with a single layer of 512 nodes, using the relu activation, RMSprop optimizer, with batch size of 128 and 15 epochs. \n",
    "\n",
    "I found that smaller batch sizes and more epochs produced higher accuracies to a certain point. \n",
    "\n",
    "Test loss: 0.0779\n",
    "Test accuracy: 0.984"
   ]
  },
  {
   "cell_type": "code",
   "execution_count": 6,
   "metadata": {},
   "outputs": [],
   "source": [
    "# using GRID SEARCH\n",
    "\n",
    "# def create_model(optimizer='RMSprop', activation='relu'):\n",
    "#     model = Sequential()\n",
    "#     model.add(Dense(64, activation = activation, input_shape=(784,)))\n",
    "#     model.add(Dropout(0.1))\n",
    "#     model.add(Dense(128, activation = 'softmax'))\n",
    "#     model.add(Dense(10, activation = 'softmax'))\n",
    "    \n",
    "#     # Compile the model \n",
    "#     model.compile(loss='categorical_crossentropy',\n",
    "#                   optimizer = optimizer,\n",
    "#                   metrics=['accuracy'])\n",
    "\n",
    "#     return model"
   ]
  },
  {
   "cell_type": "code",
   "execution_count": 7,
   "metadata": {},
   "outputs": [],
   "source": [
    "# model.summary()"
   ]
  },
  {
   "cell_type": "code",
   "execution_count": 8,
   "metadata": {},
   "outputs": [],
   "source": [
    "# import time\n",
    "# start_time = time.time()\n",
    "\n",
    "# model = KerasClassifier(build_fn=create_model, verbose=1)\n",
    "\n",
    "# # define the grid search parameters\n",
    "# batch_size = [32, 64, 128, 256, 512, 1024]\n",
    "# epochs = [5, 10, 50, 100]\n",
    "# optimizer = ['SGD', 'RMSprop', 'Adagrad', 'Adadelta', 'Adam', 'Adamax']\n",
    "# activation = ['softmax', 'softplus', 'softsign', 'relu', 'tanh', 'sigmoid']\n",
    "\n",
    "# param_grid = dict(batch_size=batch_size,\n",
    "#                   epochs=epochs,\n",
    "#                   optimizer=optimizer,\n",
    "#                   activation=activation\n",
    "#                  )\n",
    "\n",
    "# grid = GridSearchCV(estimator=model,\n",
    "#                     param_grid=param_grid,\n",
    "#                     n_jobs=-1,\n",
    "#                     cv=3\n",
    "#                    )\n",
    "# grid_result = grid.fit(x_train, y_train,\n",
    "#                       validation_data=(x_test, y_test)\n",
    "#                       )\n",
    "\n",
    "# # summarize results\n",
    "# print(\"Best: %f using %s\" % (grid_result.best_score_, grid_result.best_params_))\n",
    "\n",
    "# print('')\n",
    "\n",
    "# means = grid_result.cv_results_['mean_test_score']\n",
    "# stds = grid_result.cv_results_['std_test_score']\n",
    "# params = grid_result.cv_results_['params']\n",
    "\n",
    "# # for mean, stdev, param in zip(means, stds, params):\n",
    "# #     print(\"%f (%f) with: %r\" % (mean, stdev, param))\n",
    "\n",
    "# print('')\n",
    "\n",
    "# print(\"--- %s seconds ---\" % (time.time() - start_time))"
   ]
  },
  {
   "cell_type": "code",
   "execution_count": 9,
   "metadata": {},
   "outputs": [],
   "source": [
    "# print(grid_result.best_params_)"
   ]
  },
  {
   "cell_type": "code",
   "execution_count": 10,
   "metadata": {},
   "outputs": [],
   "source": [
    "# {'activation': 'tanh', 'batch_size': 64, 'epochs': 100, 'optimizer': 'Adamax'}\n",
    "\n",
    "#optimizers - https://keras.io/optimizers/:\n",
    "#     #SGD\n",
    "#     #RMSprop\n",
    "#     #Adagrad\n",
    "#     #Adadelta\n",
    "#     #Adam\n",
    "#     #Adamax\n",
    "#     #Nadam\n",
    "\n",
    "# model = KerasClassifier(build_fn=create_model, verbose=0)\n",
    "# model.set_params(**grid_result.best_params_)\n",
    "\n",
    "# # define the grid search parameters\n",
    "# optimizer = ['SGD', 'RMSprop']#, 'Adagrad', 'Adadelta', 'Adam', 'Adamax', 'Nadam']\n",
    "# activation = ['softmax', 'softplus']#, 'softsign', 'relu', 'tanh', 'sigmoid', 'hard_sigmoid', 'linear']\n",
    "# param_grid = dict(optimizer=optimizer, activation=activation)\n",
    "# grid = GridSearchCV(estimator=model, param_grid=param_grid, n_jobs=-1, cv=3)\n",
    "# grid_result = grid.fit(x_train, y_train,\n",
    "#                       validation_data=(x_test, y_test)\n",
    "#                       )\n",
    "\n",
    "# # summarize results\n",
    "# print(\"Best: %f using %s\" % (grid_result.best_score_, grid_result.best_params_))\n",
    "\n",
    "# print('')\n",
    "\n",
    "# means = grid_result.cv_results_['mean_test_score']\n",
    "# stds = grid_result.cv_results_['std_test_score']\n",
    "# params = grid_result.cv_results_['params']\n",
    "\n",
    "# # for mean, stdev, param in zip(means, stds, params):\n",
    "# #     print(\"%f (%f) with: %r\" % (mean, stdev, param))"
   ]
  },
  {
   "cell_type": "code",
   "execution_count": 11,
   "metadata": {},
   "outputs": [],
   "source": [
    "#activations - https://keras.io/activations/:\n",
    "    #elu\n",
    "    #softmax\n",
    "    #selu\n",
    "    #softplus\n",
    "    #softsign\n",
    "    #relu\n",
    "    #tanh\n",
    "    #sigmoid\n",
    "    #hard_sigmoid\n",
    "    #exponential\n",
    "    #linear"
   ]
  },
  {
   "cell_type": "code",
   "execution_count": 12,
   "metadata": {
    "scrolled": false
   },
   "outputs": [],
   "source": [
    "# history = model.fit(x_train, y_train,\n",
    "#                     batch_size=64,\n",
    "#                     epochs=100,\n",
    "#                     verbose=1,\n",
    "#                     validation_data=(x_test, y_test))\n",
    "# score = model.evaluate(x_test, y_test, verbose=0)\n",
    "# print('Test loss:', score[0])\n",
    "# print('Test accuracy:', score[1])"
   ]
  },
  {
   "cell_type": "code",
   "execution_count": null,
   "metadata": {},
   "outputs": [],
   "source": []
  }
 ],
 "metadata": {
  "kernelspec": {
   "display_name": "Python 3",
   "language": "python",
   "name": "python3"
  },
  "language_info": {
   "codemirror_mode": {
    "name": "ipython",
    "version": 3
   },
   "file_extension": ".py",
   "mimetype": "text/x-python",
   "name": "python",
   "nbconvert_exporter": "python",
   "pygments_lexer": "ipython3",
   "version": "3.7.3"
  }
 },
 "nbformat": 4,
 "nbformat_minor": 2
}
