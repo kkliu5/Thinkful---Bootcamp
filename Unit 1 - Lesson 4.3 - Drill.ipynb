{
 "cells": [
  {
   "cell_type": "markdown",
   "metadata": {},
   "source": [
    "# You're testing advertising emails for a bathing suit company and you test one version of the email in February and the other in May.\n",
    "* Seasonality bias. Since the emails are tested in different months, there is potential for people to be more willing to buy a bathing suit in May compared to February since it will be the summer time. Instead should sample an entire year or similar/ multiple months.\n",
    "\n",
    "\n",
    "# You open a clinic to treat anxiety and find that the people who visit show a higher rate of anxiety than the general population.\n",
    "* Sampling bias. Since people coming in are voluntarily coming in (since they believe they might have anxiety) that is not a true representation of the general population. Can sample people at a different location that better reflects the general population. \n",
    "\n",
    "# You launch a new ad billboard based campaign and see an increase in website visits in the first week.\n",
    "* Assuming that there are no other marketing campaigns or other leads that would attract customers, there could potentially be bias if one is comparing against a week that have unusually low website visits.\n",
    "\n",
    "# You launch a loyalty program but see no change in visits in the first week.\n",
    "* Assuming that the there is no external factor that would decrease the number of visits, there could be bias if the loyalty program is not marketed and customers are unaware."
   ]
  }
 ],
 "metadata": {
  "kernelspec": {
   "display_name": "Python 3",
   "language": "python",
   "name": "python3"
  },
  "language_info": {
   "codemirror_mode": {
    "name": "ipython",
    "version": 3
   },
   "file_extension": ".py",
   "mimetype": "text/x-python",
   "name": "python",
   "nbconvert_exporter": "python",
   "pygments_lexer": "ipython3",
   "version": "3.7.2"
  }
 },
 "nbformat": 4,
 "nbformat_minor": 2
}
