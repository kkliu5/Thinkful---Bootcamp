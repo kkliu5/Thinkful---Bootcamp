{
 "cells": [
  {
   "cell_type": "code",
   "execution_count": 1,
   "metadata": {},
   "outputs": [],
   "source": [
    "%matplotlib inline\n",
    "import numpy as np\n",
    "import pandas as pd\n",
    "import scipy\n",
    "import sklearn\n",
    "import spacy\n",
    "import matplotlib.pyplot as plt\n",
    "import seaborn as sns\n",
    "import re\n",
    "from nltk.corpus import gutenberg, stopwords\n",
    "from collections import Counter\n",
    "import nltk\n",
    "from sklearn.model_selection import train_test_split\n",
    "from sklearn.preprocessing import normalize\n",
    "from sklearn.decomposition import PCA\n",
    "from sklearn import metrics\n",
    "from sklearn.metrics import roc_curve\n",
    "from sklearn.metrics import auc \n",
    "from sklearn.metrics import classification_report\n",
    "\n",
    "from sklearn.cluster import KMeans\n",
    "from sklearn.metrics import adjusted_rand_score\n",
    "\n",
    "from sklearn import linear_model\n",
    "from sklearn.neural_network import BernoulliRBM\n",
    "from sklearn.pipeline import Pipeline\n",
    "from sklearn.base import clone\n",
    "\n",
    "#import warnings filter - ignore all future warnings\n",
    "from warnings import simplefilter\n",
    "simplefilter(action='ignore', category=FutureWarning)"
   ]
  },
  {
   "cell_type": "markdown",
   "metadata": {},
   "source": [
    "# Loading data"
   ]
  },
  {
   "cell_type": "code",
   "execution_count": 2,
   "metadata": {},
   "outputs": [
    {
     "data": {
      "text/plain": [
       "['austen-emma.txt',\n",
       " 'austen-persuasion.txt',\n",
       " 'austen-sense.txt',\n",
       " 'bible-kjv.txt',\n",
       " 'blake-poems.txt',\n",
       " 'bryant-stories.txt',\n",
       " 'burgess-busterbrown.txt',\n",
       " 'carroll-alice.txt',\n",
       " 'chesterton-ball.txt',\n",
       " 'chesterton-brown.txt',\n",
       " 'chesterton-thursday.txt',\n",
       " 'edgeworth-parents.txt',\n",
       " 'melville-moby_dick.txt',\n",
       " 'milton-paradise.txt',\n",
       " 'shakespeare-caesar.txt',\n",
       " 'shakespeare-hamlet.txt',\n",
       " 'shakespeare-macbeth.txt',\n",
       " 'whitman-leaves.txt']"
      ]
     },
     "execution_count": 2,
     "metadata": {},
     "output_type": "execute_result"
    }
   ],
   "source": [
    "#listing books to choose from\n",
    "gutenberg.fileids()"
   ]
  },
  {
   "cell_type": "code",
   "execution_count": 3,
   "metadata": {},
   "outputs": [],
   "source": [
    "# Load the data.\n",
    "austen = gutenberg.raw('austen-emma.txt')\n",
    "bryant = gutenberg.raw('bryant-stories.txt')\n",
    "burgess = gutenberg.raw('burgess-busterbrown.txt')\n",
    "carroll = gutenberg.raw('carroll-alice.txt')\n",
    "chesterton = gutenberg.raw('chesterton-ball.txt')\n",
    "edgeworth = gutenberg.raw('edgeworth-parents.txt')\n",
    "melville = gutenberg.raw('melville-moby_dick.txt')\n",
    "milton = gutenberg.raw('milton-paradise.txt')\n",
    "shakespeare = gutenberg.raw('shakespeare-caesar.txt')\n",
    "whitman = gutenberg.raw('whitman-leaves.txt')"
   ]
  },
  {
   "cell_type": "code",
   "execution_count": 4,
   "metadata": {},
   "outputs": [
    {
     "name": "stdout",
     "output_type": "stream",
     "text": [
      "887,071\n",
      "249,439\n",
      "84,663\n",
      "144,395\n",
      "457,450\n",
      "935,158\n",
      "1,242,990\n",
      "468,220\n",
      "112,310\n",
      "711,215\n"
     ]
    }
   ],
   "source": [
    "#seeing the length of each book\n",
    "print(\"{:,}\".format(len(austen)))\n",
    "print(\"{:,}\".format(len(bryant)))\n",
    "print(\"{:,}\".format(len(burgess)))\n",
    "print(\"{:,}\".format(len(carroll)))\n",
    "print(\"{:,}\".format(len(chesterton)))\n",
    "print(\"{:,}\".format(len(edgeworth)))\n",
    "print(\"{:,}\".format(len(melville)))\n",
    "print(\"{:,}\".format(len(milton)))\n",
    "print(\"{:,}\".format(len(shakespeare)))\n",
    "print(\"{:,}\".format(len(whitman)))"
   ]
  },
  {
   "cell_type": "markdown",
   "metadata": {},
   "source": [
    "# Cleaning  data"
   ]
  },
  {
   "cell_type": "code",
   "execution_count": 5,
   "metadata": {},
   "outputs": [],
   "source": [
    "#limiting text to 50%\n",
    "\n",
    "len_percent = 0.5\n",
    "\n",
    "austen_len = int(len(austen) * len_percent)\n",
    "bryant_len = int(len(bryant) * len_percent)\n",
    "burgess_len = int(len(burgess) * len_percent)\n",
    "carroll_len = int(len(carroll) * len_percent)\n",
    "chesterton_len = int(len(chesterton) * len_percent)\n",
    "edgeworth_len = int(len(edgeworth) * len_percent)\n",
    "melville_len = int(len(melville) * len_percent)\n",
    "milton_len = int(len(milton) * len_percent)\n",
    "shakespeare_len = int(len(shakespeare) * len_percent)\n",
    "whitman_len = int(len(whitman) * len_percent)\n",
    "\n",
    "austen = austen[:austen_len]\n",
    "bryant = bryant[:bryant_len]\n",
    "burgess = burgess[:burgess_len]\n",
    "carroll = carroll[:carroll_len]\n",
    "chesterton = chesterton[:chesterton_len]\n",
    "edgeworth = edgeworth[:edgeworth_len]\n",
    "melville = melville[:melville_len]\n",
    "milton = milton[:milton_len]\n",
    "shakespeare = shakespeare[:shakespeare_len]\n",
    "whitman = whitman[:whitman_len]"
   ]
  },
  {
   "cell_type": "code",
   "execution_count": 6,
   "metadata": {},
   "outputs": [],
   "source": [
    "# Check - Print the first 1000 characters\n",
    "#austen[0:1000]\n",
    "#bryant[0:1000]\n",
    "#burgess[0:1000]\n",
    "#carroll[0:1000]\n",
    "#chesterton[0:1000]\n",
    "#edgeworth[0:1000]\n",
    "#melville[0:1000]\n",
    "#milton[0:1000]\n",
    "#shakespeare[0:1000]\n",
    "#whitman[0:1000]"
   ]
  },
  {
   "cell_type": "code",
   "execution_count": 7,
   "metadata": {},
   "outputs": [],
   "source": [
    "# Function for text cleaning.\n",
    "def text_cleaner(text):\n",
    "    text = re.sub('--',' ',text)\n",
    "    text = re.sub(\"[\\[].*?[\\]]\", \"\", text)\n",
    "    text = re.sub('\\'','', text)\n",
    "    text = re.sub('`','', text)\n",
    "    text = re.sub('_','', text)\n",
    "    text = ' '.join(text.split())\n",
    "    return text"
   ]
  },
  {
   "cell_type": "code",
   "execution_count": 8,
   "metadata": {},
   "outputs": [],
   "source": [
    "#applying text cleaning function\n",
    "austen = text_cleaner(austen)\n",
    "bryant = text_cleaner(bryant)\n",
    "burgess = text_cleaner(burgess)\n",
    "carroll = text_cleaner(carroll)\n",
    "chesterton = text_cleaner(chesterton)\n",
    "edgeworth = text_cleaner(edgeworth)\n",
    "melville = text_cleaner(melville)\n",
    "milton = text_cleaner(milton)\n",
    "shakespeare = text_cleaner(shakespeare)\n",
    "whitman = text_cleaner(whitman)"
   ]
  },
  {
   "cell_type": "code",
   "execution_count": 9,
   "metadata": {},
   "outputs": [],
   "source": [
    "#check \n",
    "\n",
    "#austen\n",
    "#bryant\n",
    "#burgess\n",
    "#carroll\n",
    "#chesterton\n",
    "#edgeworth\n",
    "#melville\n",
    "#milton\n",
    "#shakespeare\n",
    "#whitman"
   ]
  },
  {
   "cell_type": "code",
   "execution_count": 10,
   "metadata": {},
   "outputs": [],
   "source": [
    "#parsing \n",
    "nlp = spacy.load('en')\n",
    "\n",
    "austen_doc = nlp(austen)\n",
    "bryant_doc = nlp(bryant)\n",
    "burgess_doc = nlp(burgess)\n",
    "carroll_doc = nlp(carroll)\n",
    "chesterton_doc = nlp(chesterton)\n",
    "edgeworth_doc = nlp(edgeworth)\n",
    "melville_doc = nlp(melville)\n",
    "milton_doc = nlp(milton)\n",
    "shakespeare_doc = nlp(shakespeare)\n",
    "whitman_doc = nlp(whitman)"
   ]
  },
  {
   "cell_type": "code",
   "execution_count": 11,
   "metadata": {},
   "outputs": [],
   "source": [
    "#Check\n",
    "#austen_doc\n",
    "#bryant_doc\n",
    "#burgess_doc\n",
    "#carroll_doc\n",
    "#chesterton_doc\n",
    "#edgeworth_doc\n",
    "#melville_doc\n",
    "#milton_doc\n",
    "#shakespeare_doc\n",
    "#whitman_doc"
   ]
  },
  {
   "cell_type": "code",
   "execution_count": 12,
   "metadata": {},
   "outputs": [],
   "source": [
    "# Group into sentences.\n",
    "austen_sents = [str(sent) for sent in austen_doc.sents]\n",
    "bryant_sents = [str(sent) for sent in bryant_doc.sents]\n",
    "burgess_sents = [str(sent) for sent in burgess_doc.sents]\n",
    "carroll_sents = [str(sent) for sent in carroll_doc.sents]\n",
    "chesterton_sents = [str(sent) for sent in chesterton_doc.sents]\n",
    "edgeworth_sents = [str(sent) for sent in edgeworth_doc.sents]\n",
    "melville_sents = [str(sent) for sent in melville_doc.sents]\n",
    "milton_sents = [str(sent) for sent in milton_doc.sents]\n",
    "shakespeare_sents = [str(sent) for sent in shakespeare_doc.sents]\n",
    "whitman_sents = [str(sent) for sent in whitman_doc.sents]"
   ]
  },
  {
   "cell_type": "code",
   "execution_count": 13,
   "metadata": {},
   "outputs": [],
   "source": [
    "# #Check\n",
    "#austen_sents\n",
    "#bryant_sents\n",
    "#burgess_sents\n",
    "#carroll_sents\n",
    "#chesterton_sents\n",
    "#edgeworth_sents\n",
    "#melville_sents\n",
    "#milton_sents\n",
    "#shakespeare_sents\n",
    "#whitman_sents"
   ]
  },
  {
   "cell_type": "code",
   "execution_count": 14,
   "metadata": {},
   "outputs": [],
   "source": [
    "# #Check\n",
    "# print(len(austen_sents))\n",
    "# print(len(bryant_sents))\n",
    "# print(len(burgess_sents))\n",
    "# print(len(carroll_sents))\n",
    "# print(len(chesterton_sents))\n",
    "# print(len(edgeworth_sents))\n",
    "# print(len(melville_sents))\n",
    "# print(len(milton_sents))\n",
    "# print(len(shakespeare_sents))\n",
    "# print(len(whitman_sents))"
   ]
  },
  {
   "cell_type": "markdown",
   "metadata": {},
   "source": [
    "# Feature Creation - TF-IDF"
   ]
  },
  {
   "cell_type": "code",
   "execution_count": 15,
   "metadata": {},
   "outputs": [],
   "source": [
    "from sklearn.feature_extraction.text import TfidfVectorizer\n",
    "\n",
    "vectorizer = TfidfVectorizer(#max_df=.5, \n",
    "                             #min_df=2, \n",
    "                             max_features = 10,\n",
    "                             stop_words='english', \n",
    "                             lowercase=True, \n",
    "                             use_idf=True,\n",
    "                             norm=u'l2', \n",
    "                             smooth_idf=True \n",
    "                            )"
   ]
  },
  {
   "cell_type": "code",
   "execution_count": 16,
   "metadata": {},
   "outputs": [],
   "source": [
    "austen_tfidf = vectorizer.fit_transform(austen_sents)\n",
    "\n",
    "austen_feature_names = vectorizer.get_feature_names()\n",
    "\n",
    "dense = austen_tfidf.todense()\n",
    "denselist = dense.tolist()\n",
    "\n",
    "df_austen = pd.DataFrame(denselist, columns=austen_feature_names)"
   ]
  },
  {
   "cell_type": "code",
   "execution_count": 17,
   "metadata": {},
   "outputs": [],
   "source": [
    "bryant_tfidf = vectorizer.fit_transform(bryant_sents)\n",
    "\n",
    "bryant_feature_names = vectorizer.get_feature_names()\n",
    "\n",
    "dense = bryant_tfidf.todense()\n",
    "denselist = dense.tolist()\n",
    "\n",
    "df_bryant = pd.DataFrame(denselist, columns=bryant_feature_names)"
   ]
  },
  {
   "cell_type": "code",
   "execution_count": 18,
   "metadata": {},
   "outputs": [],
   "source": [
    "burgess_tfidf = vectorizer.fit_transform(burgess_sents)\n",
    "\n",
    "burgess_feature_names = vectorizer.get_feature_names()\n",
    "\n",
    "dense = burgess_tfidf.todense()\n",
    "denselist = dense.tolist()\n",
    "\n",
    "df_burgess = pd.DataFrame(denselist, columns=burgess_feature_names)"
   ]
  },
  {
   "cell_type": "code",
   "execution_count": 19,
   "metadata": {},
   "outputs": [],
   "source": [
    "carroll_tfidf = vectorizer.fit_transform(carroll_sents)\n",
    "\n",
    "carroll_feature_names = vectorizer.get_feature_names()\n",
    "\n",
    "dense = carroll_tfidf.todense()\n",
    "denselist = dense.tolist()\n",
    "\n",
    "df_carroll = pd.DataFrame(denselist, columns=carroll_feature_names)"
   ]
  },
  {
   "cell_type": "code",
   "execution_count": 20,
   "metadata": {},
   "outputs": [],
   "source": [
    "chesterton_tfidf = vectorizer.fit_transform(chesterton_sents)\n",
    "\n",
    "chesterton_feature_names = vectorizer.get_feature_names()\n",
    "\n",
    "dense = chesterton_tfidf.todense()\n",
    "denselist = dense.tolist()\n",
    "\n",
    "df_chesterton = pd.DataFrame(denselist, columns=chesterton_feature_names)"
   ]
  },
  {
   "cell_type": "code",
   "execution_count": 21,
   "metadata": {},
   "outputs": [],
   "source": [
    "edgeworth_tfidf = vectorizer.fit_transform(edgeworth_sents)\n",
    "\n",
    "edgeworth_feature_names = vectorizer.get_feature_names()\n",
    "\n",
    "dense = edgeworth_tfidf.todense()\n",
    "denselist = dense.tolist()\n",
    "\n",
    "df_edgeworth = pd.DataFrame(denselist, columns=edgeworth_feature_names)"
   ]
  },
  {
   "cell_type": "code",
   "execution_count": 22,
   "metadata": {},
   "outputs": [],
   "source": [
    "melville_tfidf = vectorizer.fit_transform(melville_sents)\n",
    "\n",
    "melville_feature_names = vectorizer.get_feature_names()\n",
    "\n",
    "dense = melville_tfidf.todense()\n",
    "denselist = dense.tolist()\n",
    "\n",
    "df_melville = pd.DataFrame(denselist, columns=melville_feature_names)"
   ]
  },
  {
   "cell_type": "code",
   "execution_count": 23,
   "metadata": {},
   "outputs": [],
   "source": [
    "milton_tfidf = vectorizer.fit_transform(milton_sents)\n",
    "\n",
    "milton_feature_names = vectorizer.get_feature_names()\n",
    "\n",
    "dense = milton_tfidf.todense()\n",
    "denselist = dense.tolist()\n",
    "\n",
    "df_milton = pd.DataFrame(denselist, columns=milton_feature_names)"
   ]
  },
  {
   "cell_type": "code",
   "execution_count": 24,
   "metadata": {},
   "outputs": [],
   "source": [
    "shakespeare_tfidf = vectorizer.fit_transform(shakespeare_sents)\n",
    "\n",
    "shakespeare_feature_names = vectorizer.get_feature_names()\n",
    "\n",
    "dense = shakespeare_tfidf.todense()\n",
    "denselist = dense.tolist()\n",
    "\n",
    "df_shakespeare = pd.DataFrame(denselist, columns=shakespeare_feature_names)"
   ]
  },
  {
   "cell_type": "code",
   "execution_count": 25,
   "metadata": {},
   "outputs": [],
   "source": [
    "whitman_tfidf = vectorizer.fit_transform(whitman_sents)\n",
    "\n",
    "whitman_feature_names = vectorizer.get_feature_names()\n",
    "\n",
    "dense = whitman_tfidf.todense()\n",
    "denselist = dense.tolist()\n",
    "\n",
    "df_whitman = pd.DataFrame(denselist, columns=whitman_feature_names)"
   ]
  },
  {
   "cell_type": "code",
   "execution_count": 26,
   "metadata": {},
   "outputs": [],
   "source": [
    "# #check\n",
    "# df_austen\n",
    "# df_bryant\n",
    "# df_burgess\n",
    "# df_carroll\n",
    "# df_chesterton\n",
    "# df_edgeworth\n",
    "# df_melville\n",
    "# df_milton\n",
    "# df_shakespeare\n",
    "# df_whitman"
   ]
  },
  {
   "cell_type": "code",
   "execution_count": 27,
   "metadata": {},
   "outputs": [],
   "source": [
    "# #check\n",
    "# print(df_austen.shape)\n",
    "# print(df_bryant.shape)\n",
    "# print(df_burgess.shape)\n",
    "# print(df_carroll.shape)\n",
    "# print(df_chesterton.shape)\n",
    "# print(df_edgeworth.shape)\n",
    "# print(df_melville.shape)\n",
    "# print(df_milton.shape)\n",
    "# print(df_shakespeare.shape)\n",
    "# print(df_whitman.shape)"
   ]
  },
  {
   "cell_type": "code",
   "execution_count": 28,
   "metadata": {},
   "outputs": [],
   "source": [
    "#Adding author column \n",
    "df_austen['text_source'] = \"austen\"\n",
    "df_bryant['text_source'] = \"bryant\"\n",
    "df_burgess['text_source'] = \"burgess\"\n",
    "df_carroll['text_source'] = \"carroll\"\n",
    "df_chesterton['text_source'] = \"chesterton\"\n",
    "df_edgeworth['text_source'] = \"edgeworth\"\n",
    "df_melville['text_source'] = \"melville\"\n",
    "df_milton['text_source'] = \"milton\"\n",
    "df_shakespeare['text_source'] = \"shakespeare\"\n",
    "df_whitman['text_source'] = \"whitman\""
   ]
  },
  {
   "cell_type": "code",
   "execution_count": 29,
   "metadata": {},
   "outputs": [],
   "source": [
    "df_list = [\n",
    "    df_austen,\n",
    "    df_bryant,\n",
    "    df_burgess,\n",
    "    df_carroll,\n",
    "    df_chesterton,\n",
    "    df_edgeworth,\n",
    "    df_melville,\n",
    "    df_milton,\n",
    "    df_shakespeare,\n",
    "    df_whitman\n",
    "]"
   ]
  },
  {
   "cell_type": "code",
   "execution_count": 30,
   "metadata": {},
   "outputs": [],
   "source": [
    "# #check\n",
    "# for dataframe in df_list:\n",
    "#     print(dataframe.isna().sum())"
   ]
  },
  {
   "cell_type": "code",
   "execution_count": 31,
   "metadata": {},
   "outputs": [],
   "source": [
    "#check\n",
    "# for dataframe in df_list:\n",
    "#     print(dataframe.shape)"
   ]
  },
  {
   "cell_type": "code",
   "execution_count": 32,
   "metadata": {},
   "outputs": [],
   "source": [
    "# Iterating through all dataframs to add 'row_sum'\n",
    "for dataframe in df_list:\n",
    "    #creating column that summarizes each row of data\n",
    "    dataframe['row_sum'] = dataframe.sum(axis=1)"
   ]
  },
  {
   "cell_type": "code",
   "execution_count": 33,
   "metadata": {},
   "outputs": [],
   "source": [
    "#failed code - usuable code below\n",
    "\n",
    "# def limit_largest(df):\n",
    "#     #limiting data to the largest rows\n",
    "#     df = df.nlargest(500, ['row_sum'])\n",
    "\n",
    "# for dataframe in df_list:\n",
    "#     #limiting data to the largest rows\n",
    "#     dataframe = dataframe.nlargest(500, ['row_sum'])"
   ]
  },
  {
   "cell_type": "code",
   "execution_count": 34,
   "metadata": {},
   "outputs": [],
   "source": [
    "n_limit = 40\n",
    "\n",
    "df_austen = df_austen.nlargest(n_limit, ['row_sum'])\n",
    "df_bryant = df_bryant.nlargest(n_limit, ['row_sum'])\n",
    "df_burgess = df_burgess.nlargest(n_limit, ['row_sum'])\n",
    "df_carroll = df_carroll.nlargest(n_limit, ['row_sum'])\n",
    "df_chesterton = df_chesterton.nlargest(n_limit, ['row_sum'])\n",
    "df_edgeworth = df_edgeworth.nlargest(n_limit, ['row_sum'])\n",
    "df_melville = df_melville.nlargest(n_limit, ['row_sum'])\n",
    "df_milton = df_milton.nlargest(n_limit, ['row_sum'])\n",
    "df_shakespeare = df_shakespeare.nlargest(n_limit, ['row_sum'])\n",
    "df_whitman = df_whitman.nlargest(n_limit, ['row_sum'])"
   ]
  },
  {
   "cell_type": "code",
   "execution_count": 35,
   "metadata": {},
   "outputs": [],
   "source": [
    "df_list = [\n",
    "    df_austen,\n",
    "    df_bryant,\n",
    "    df_burgess,\n",
    "    df_carroll,\n",
    "    df_chesterton,\n",
    "    df_edgeworth,\n",
    "    df_melville,\n",
    "    df_milton,\n",
    "    df_shakespeare,\n",
    "    df_whitman\n",
    "]"
   ]
  },
  {
   "cell_type": "code",
   "execution_count": 36,
   "metadata": {
    "scrolled": true
   },
   "outputs": [],
   "source": [
    "# #check\n",
    "# for dataframe in df_list:\n",
    "#     print(dataframe.shape)"
   ]
  },
  {
   "cell_type": "code",
   "execution_count": 37,
   "metadata": {},
   "outputs": [],
   "source": [
    "#combining all datasets into one main dataset\n",
    "df_tfidf = pd.concat([df_austen,\n",
    "                      df_bryant,\n",
    "                      df_burgess,\n",
    "                      df_carroll,\n",
    "                      df_chesterton,\n",
    "                      df_edgeworth,\n",
    "                      df_melville,\n",
    "                      df_milton,\n",
    "                      df_shakespeare,\n",
    "                      df_whitman\n",
    "                     ], sort=False)"
   ]
  },
  {
   "cell_type": "code",
   "execution_count": 38,
   "metadata": {},
   "outputs": [],
   "source": [
    "#filling all the NaN values to 0\n",
    "df_tfidf = df_tfidf.fillna(0)"
   ]
  },
  {
   "cell_type": "code",
   "execution_count": 39,
   "metadata": {},
   "outputs": [],
   "source": [
    "##check\n",
    "#df_tfidf.isna().sum()"
   ]
  },
  {
   "cell_type": "code",
   "execution_count": 40,
   "metadata": {},
   "outputs": [],
   "source": [
    "#checking to see how dataset looks\n",
    "# df_tfidf.describe()"
   ]
  },
  {
   "cell_type": "code",
   "execution_count": 41,
   "metadata": {},
   "outputs": [
    {
     "name": "stdout",
     "output_type": "stream",
     "text": [
      "Row: 400\n",
      "Column: 69\n"
     ]
    }
   ],
   "source": [
    "#seeing the shape of the dataset\n",
    "df_row = df_tfidf.shape[0]\n",
    "df_col = df_tfidf.shape[1]\n",
    "\n",
    "print(\"Row: {:,}\".format(df_row))\n",
    "print(\"Column: {:,}\".format(df_col))"
   ]
  },
  {
   "cell_type": "code",
   "execution_count": 42,
   "metadata": {},
   "outputs": [
    {
     "name": "stdout",
     "output_type": "stream",
     "text": [
      "emma\n",
      "Number of 0s in column: 383\n",
      "Percentage of 0s in column: 95.75%\n",
      "good\n",
      "Number of 0s in column: 368\n",
      "Percentage of 0s in column: 92.00%\n",
      "harriet\n",
      "Number of 0s in column: 386\n",
      "Percentage of 0s in column: 96.50%\n",
      "little\n",
      "Number of 0s in column: 278\n",
      "Percentage of 0s in column: 69.50%\n",
      "miss\n",
      "Number of 0s in column: 386\n",
      "Percentage of 0s in column: 96.50%\n",
      "mr\n",
      "Number of 0s in column: 361\n",
      "Percentage of 0s in column: 90.25%\n",
      "mrs\n",
      "Number of 0s in column: 384\n",
      "Percentage of 0s in column: 96.00%\n",
      "said\n",
      "Number of 0s in column: 280\n",
      "Percentage of 0s in column: 70.00%\n",
      "thing\n",
      "Number of 0s in column: 387\n",
      "Percentage of 0s in column: 96.75%\n",
      "think\n",
      "Number of 0s in column: 379\n",
      "Percentage of 0s in column: 94.75%\n",
      "text_source\n",
      "Number of 0s in column: 0\n",
      "Percentage of 0s in column: 0.00%\n",
      "row_sum\n",
      "Number of 0s in column: 0\n",
      "Percentage of 0s in column: 0.00%\n",
      "away\n",
      "Number of 0s in column: 391\n",
      "Percentage of 0s in column: 97.75%\n",
      "boy\n",
      "Number of 0s in column: 376\n",
      "Percentage of 0s in column: 94.00%\n",
      "came\n",
      "Number of 0s in column: 387\n",
      "Percentage of 0s in column: 96.75%\n",
      "day\n",
      "Number of 0s in column: 378\n",
      "Percentage of 0s in column: 94.50%\n",
      "jackal\n",
      "Number of 0s in column: 384\n",
      "Percentage of 0s in column: 96.00%\n",
      "mouse\n",
      "Number of 0s in column: 387\n",
      "Percentage of 0s in column: 96.75%\n",
      "old\n",
      "Number of 0s in column: 353\n",
      "Percentage of 0s in column: 88.25%\n",
      "time\n",
      "Number of 0s in column: 386\n",
      "Percentage of 0s in column: 96.50%\n",
      "bear\n",
      "Number of 0s in column: 370\n",
      "Percentage of 0s in column: 92.50%\n",
      "browns\n",
      "Number of 0s in column: 384\n",
      "Percentage of 0s in column: 96.00%\n",
      "buster\n",
      "Number of 0s in column: 367\n",
      "Percentage of 0s in column: 91.75%\n",
      "farmer\n",
      "Number of 0s in column: 384\n",
      "Percentage of 0s in column: 96.00%\n",
      "fish\n",
      "Number of 0s in column: 396\n",
      "Percentage of 0s in column: 99.00%\n",
      "joe\n",
      "Number of 0s in column: 373\n",
      "Percentage of 0s in column: 93.25%\n",
      "otter\n",
      "Number of 0s in column: 380\n",
      "Percentage of 0s in column: 95.00%\n",
      "pool\n",
      "Number of 0s in column: 390\n",
      "Percentage of 0s in column: 97.50%\n",
      "alice\n",
      "Number of 0s in column: 369\n",
      "Percentage of 0s in column: 92.25%\n",
      "im\n",
      "Number of 0s in column: 395\n",
      "Percentage of 0s in column: 98.75%\n",
      "know\n",
      "Number of 0s in column: 372\n",
      "Percentage of 0s in column: 93.00%\n",
      "like\n",
      "Number of 0s in column: 336\n",
      "Percentage of 0s in column: 84.00%\n",
      "thought\n",
      "Number of 0s in column: 390\n",
      "Percentage of 0s in column: 97.50%\n",
      "way\n",
      "Number of 0s in column: 393\n",
      "Percentage of 0s in column: 98.25%\n",
      "went\n",
      "Number of 0s in column: 393\n",
      "Percentage of 0s in column: 98.25%\n",
      "did\n",
      "Number of 0s in column: 382\n",
      "Percentage of 0s in column: 95.50%\n",
      "god\n",
      "Number of 0s in column: 381\n",
      "Percentage of 0s in column: 95.25%\n",
      "macian\n",
      "Number of 0s in column: 373\n",
      "Percentage of 0s in column: 93.25%\n",
      "man\n",
      "Number of 0s in column: 353\n",
      "Percentage of 0s in column: 88.25%\n",
      "turnbull\n",
      "Number of 0s in column: 378\n",
      "Percentage of 0s in column: 94.50%\n",
      "come\n",
      "Number of 0s in column: 390\n",
      "Percentage of 0s in column: 97.50%\n",
      "sir\n",
      "Number of 0s in column: 386\n",
      "Percentage of 0s in column: 96.50%\n",
      "susan\n",
      "Number of 0s in column: 383\n",
      "Percentage of 0s in column: 95.75%\n",
      "captain\n",
      "Number of 0s in column: 380\n",
      "Percentage of 0s in column: 95.00%\n",
      "sea\n",
      "Number of 0s in column: 377\n",
      "Percentage of 0s in column: 94.25%\n",
      "ship\n",
      "Number of 0s in column: 378\n",
      "Percentage of 0s in column: 94.50%\n",
      "whale\n",
      "Number of 0s in column: 390\n",
      "Percentage of 0s in column: 97.50%\n",
      "whales\n",
      "Number of 0s in column: 398\n",
      "Percentage of 0s in column: 99.50%\n",
      "ye\n",
      "Number of 0s in column: 393\n",
      "Percentage of 0s in column: 98.25%\n",
      "earth\n",
      "Number of 0s in column: 383\n",
      "Percentage of 0s in column: 95.75%\n",
      "heaven\n",
      "Number of 0s in column: 382\n",
      "Percentage of 0s in column: 95.50%\n",
      "hell\n",
      "Number of 0s in column: 390\n",
      "Percentage of 0s in column: 97.50%\n",
      "high\n",
      "Number of 0s in column: 388\n",
      "Percentage of 0s in column: 97.00%\n",
      "shall\n",
      "Number of 0s in column: 368\n",
      "Percentage of 0s in column: 92.00%\n",
      "stood\n",
      "Number of 0s in column: 398\n",
      "Percentage of 0s in column: 99.50%\n",
      "thee\n",
      "Number of 0s in column: 378\n",
      "Percentage of 0s in column: 94.50%\n",
      "thou\n",
      "Number of 0s in column: 374\n",
      "Percentage of 0s in column: 93.50%\n",
      "thy\n",
      "Number of 0s in column: 370\n",
      "Percentage of 0s in column: 92.50%\n",
      "bru\n",
      "Number of 0s in column: 390\n",
      "Percentage of 0s in column: 97.50%\n",
      "brutus\n",
      "Number of 0s in column: 380\n",
      "Percentage of 0s in column: 95.00%\n",
      "caes\n",
      "Number of 0s in column: 396\n",
      "Percentage of 0s in column: 99.00%\n",
      "caesar\n",
      "Number of 0s in column: 391\n",
      "Percentage of 0s in column: 97.75%\n",
      "cask\n",
      "Number of 0s in column: 397\n",
      "Percentage of 0s in column: 99.25%\n",
      "cassi\n",
      "Number of 0s in column: 395\n",
      "Percentage of 0s in column: 98.75%\n",
      "haue\n",
      "Number of 0s in column: 382\n",
      "Percentage of 0s in column: 95.50%\n",
      "men\n",
      "Number of 0s in column: 377\n",
      "Percentage of 0s in column: 94.25%\n",
      "life\n",
      "Number of 0s in column: 383\n",
      "Percentage of 0s in column: 95.75%\n",
      "long\n",
      "Number of 0s in column: 382\n",
      "Percentage of 0s in column: 95.50%\n",
      "love\n",
      "Number of 0s in column: 388\n",
      "Percentage of 0s in column: 97.00%\n"
     ]
    }
   ],
   "source": [
    "#calculating the number of 0s in the dataset\n",
    "for column in df_tfidf.columns:\n",
    "    col_0 = sum(df_tfidf[column] == 0)\n",
    "    print(\"{}\".format(column))\n",
    "    print(\"Number of 0s in column: {:,}\".format(col_0))\n",
    "    print(\"Percentage of 0s in column: {:.2%}\".format(col_0/df_row))"
   ]
  },
  {
   "cell_type": "code",
   "execution_count": 43,
   "metadata": {},
   "outputs": [],
   "source": [
    "# #creating column that summarizes each row of data\n",
    "# df_tfidf['row_sum'] = df_tfidf.sum(axis=1)\n",
    "# #limiting data to the largest rows\n",
    "# df_tfidf = df_tfidf.nlargest(2000, ['row_sum'])\n",
    "\n",
    "# df_tfidf.describe()"
   ]
  },
  {
   "cell_type": "code",
   "execution_count": 44,
   "metadata": {},
   "outputs": [
    {
     "data": {
      "text/plain": [
       "array(['austen', 'bryant', 'burgess', 'carroll', 'chesterton',\n",
       "       'edgeworth', 'melville', 'milton', 'shakespeare', 'whitman'],\n",
       "      dtype=object)"
      ]
     },
     "execution_count": 44,
     "metadata": {},
     "output_type": "execute_result"
    }
   ],
   "source": [
    "#check that all authors are still in dataset\n",
    "df_tfidf.text_source.unique()"
   ]
  },
  {
   "cell_type": "markdown",
   "metadata": {},
   "source": [
    "# Model Preprocessing"
   ]
  },
  {
   "cell_type": "code",
   "execution_count": 45,
   "metadata": {},
   "outputs": [],
   "source": [
    "#creating x and y variables with training and test splits\n",
    "x_tfidf = df_tfidf.drop(columns=['text_source'])\n",
    "y_tfidf = df_tfidf['text_source']\n",
    "\n",
    "x_tfidf_train, x_tfidf_test, y_train, y_test = train_test_split(\n",
    "    x_tfidf, y_tfidf, test_size=0.25, random_state=1)"
   ]
  },
  {
   "cell_type": "markdown",
   "metadata": {},
   "source": [
    "## Unsupervised Feature Generation"
   ]
  },
  {
   "cell_type": "code",
   "execution_count": 46,
   "metadata": {},
   "outputs": [],
   "source": [
    "from sklearn.decomposition import TruncatedSVD\n",
    "from sklearn.pipeline import make_pipeline\n",
    "from sklearn.preprocessing import Normalizer\n",
    "\n",
    "#Singular Value Decomposition (SVD) data reducer.\n",
    "svd= TruncatedSVD(10)\n",
    "lsa = make_pipeline(svd, Normalizer(copy=False))\n",
    "\n",
    "# Run SVD on the training data\n",
    "x_lsa_train = lsa.fit_transform(x_tfidf_train)\n",
    "x_lsa_test = lsa.transform(x_tfidf_test)"
   ]
  },
  {
   "cell_type": "markdown",
   "metadata": {},
   "source": [
    "***\n",
    "# Using Supervised features within Models"
   ]
  },
  {
   "cell_type": "markdown",
   "metadata": {},
   "source": [
    "# Clustering Models"
   ]
  },
  {
   "cell_type": "markdown",
   "metadata": {},
   "source": [
    "# K-Mean Model"
   ]
  },
  {
   "cell_type": "code",
   "execution_count": 47,
   "metadata": {},
   "outputs": [
    {
     "data": {
      "text/plain": [
       "KMeans(algorithm='auto', copy_x=True, init='k-means++', max_iter=300,\n",
       "       n_clusters=10, n_init=10, n_jobs=None, precompute_distances='auto',\n",
       "       random_state=1, tol=0.0001, verbose=0)"
      ]
     },
     "execution_count": 47,
     "metadata": {},
     "output_type": "execute_result"
    }
   ],
   "source": [
    "true_k = 10\n",
    "kmeans_model = KMeans(n_clusters=true_k,\n",
    "                     random_state=1\n",
    "                     )\n",
    "\n",
    "kmeans_model.fit(x_tfidf_train)"
   ]
  },
  {
   "cell_type": "code",
   "execution_count": 48,
   "metadata": {},
   "outputs": [
    {
     "name": "stdout",
     "output_type": "stream",
     "text": [
      "Comparing k-means clusters against the data:\n",
      "text_source  austen  bryant  burgess  carroll  chesterton  edgeworth  \\\n",
      "row_0                                                                  \n",
      "0                 0       1        0        0           0          0   \n",
      "1                 0       0        0        5           0          0   \n",
      "2                 0       0       11        0           0          0   \n",
      "3                 9       0        0        0           0          1   \n",
      "4                 0       0        0        1           0          0   \n",
      "5                 0       0        0        0           8          0   \n",
      "6                 0       0        0        0           0          0   \n",
      "7                 0       0        0        0           0          0   \n",
      "8                 0       5        0        0           1         12   \n",
      "9                 0       1        0        0           0          0   \n",
      "\n",
      "text_source  melville  milton  shakespeare  whitman  \n",
      "row_0                                                \n",
      "0                   0       0            1        4  \n",
      "1                   0       0            0        0  \n",
      "2                   0       0            0        0  \n",
      "3                   0       0            0        0  \n",
      "4                   0       2            0        2  \n",
      "5                   2       0            0        0  \n",
      "6                   0      10            0        0  \n",
      "7                   0       0            9        0  \n",
      "8                   0       0            0        0  \n",
      "9                   8       0            0        7  \n",
      "Adj Rand Score: 0.65\n"
     ]
    }
   ],
   "source": [
    "# Calculate predicted values.\n",
    "y_pred_kmeans = kmeans_model.fit_predict(x_tfidf_test)\n",
    "\n",
    "# Check the solution against the data.\n",
    "print('Comparing k-means clusters against the data:')\n",
    "print(pd.crosstab(y_pred_kmeans, y_test))\n",
    "\n",
    "ars_kmeans = metrics.adjusted_rand_score(y_test, y_pred_kmeans)\n",
    "print(\"Adj Rand Score: {:.2}\".format(ars_kmeans))"
   ]
  },
  {
   "cell_type": "markdown",
   "metadata": {},
   "source": [
    "# K-Mean Model - PCA"
   ]
  },
  {
   "cell_type": "code",
   "execution_count": 49,
   "metadata": {},
   "outputs": [
    {
     "data": {
      "text/plain": [
       "KMeans(algorithm='auto', copy_x=True, init='k-means++', max_iter=300,\n",
       "       n_clusters=10, n_init=10, n_jobs=None, precompute_distances='auto',\n",
       "       random_state=1, tol=0.0001, verbose=0)"
      ]
     },
     "execution_count": 49,
     "metadata": {},
     "output_type": "execute_result"
    }
   ],
   "source": [
    "# Reduce it to two components.\n",
    "x_tfidf_train_pca = PCA(2).fit_transform(x_tfidf_train)\n",
    "x_tfidf_test_pca = PCA(2).fit_transform(x_tfidf_test)\n",
    "\n",
    "kmeans_model.fit(x_tfidf_train_pca)"
   ]
  },
  {
   "cell_type": "code",
   "execution_count": 50,
   "metadata": {},
   "outputs": [
    {
     "name": "stdout",
     "output_type": "stream",
     "text": [
      "Comparing k-means clusters against the data:\n",
      "text_source  austen  bryant  burgess  carroll  chesterton  edgeworth  \\\n",
      "row_0                                                                  \n",
      "0                 0       0        0        0           0          0   \n",
      "1                 2       0        9        0           0          0   \n",
      "2                 0       0        0        4           1          0   \n",
      "3                 0       0        0        0           4          0   \n",
      "4                 0       0        0        0           0          0   \n",
      "5                 0       3        0        1           0          5   \n",
      "6                 0       0        2        0           0          0   \n",
      "7                 0       0        0        0           0          0   \n",
      "8                 7       3        0        1           0          8   \n",
      "9                 0       1        0        0           4          0   \n",
      "\n",
      "text_source  melville  milton  shakespeare  whitman  \n",
      "row_0                                                \n",
      "0                   0       3            3        5  \n",
      "1                   0       0            0        0  \n",
      "2                   1       0            0        0  \n",
      "3                   4       0            0        0  \n",
      "4                   0       9            0        0  \n",
      "5                   0       0            0        2  \n",
      "6                   0       0            0        0  \n",
      "7                   0       0            7        1  \n",
      "8                   0       0            0        0  \n",
      "9                   5       0            0        5  \n",
      "Adj Rand Score: 0.37\n"
     ]
    }
   ],
   "source": [
    "# Calculate predicted values.\n",
    "y_pred_kmeans_pca = kmeans_model.fit_predict(x_tfidf_test_pca)\n",
    "\n",
    "# Check the solution against the data.\n",
    "print('Comparing k-means clusters against the data:')\n",
    "print(pd.crosstab(y_pred_kmeans_pca, y_test))\n",
    "\n",
    "ars_kmeans_pca = metrics.adjusted_rand_score(y_test, y_pred_kmeans_pca)\n",
    "print(\"Adj Rand Score: {:.2}\".format(ars_kmeans_pca))"
   ]
  },
  {
   "cell_type": "code",
   "execution_count": 51,
   "metadata": {},
   "outputs": [
    {
     "data": {
      "image/png": "[encoded data removed]",
      "text/plain": [
       "<Figure size 432x288 with 1 Axes>"
      ]
     },
     "metadata": {
      "needs_background": "light"
     },
     "output_type": "display_data"
    }
   ],
   "source": [
    "# Plot the solution.\n",
    "plt.scatter(x_tfidf_test_pca[:, 0], x_tfidf_test_pca[:, 1], c=y_pred_kmeans_pca)\n",
    "plt.title(\"K-Means - PCA\")\n",
    "plt.show()"
   ]
  },
  {
   "cell_type": "markdown",
   "metadata": {},
   "source": [
    "# Normalized K-Mean Model"
   ]
  },
  {
   "cell_type": "code",
   "execution_count": 52,
   "metadata": {},
   "outputs": [
    {
     "data": {
      "text/plain": [
       "KMeans(algorithm='auto', copy_x=True, init='k-means++', max_iter=300,\n",
       "       n_clusters=10, n_init=10, n_jobs=None, precompute_distances='auto',\n",
       "       random_state=1, tol=0.0001, verbose=0)"
      ]
     },
     "execution_count": 52,
     "metadata": {},
     "output_type": "execute_result"
    }
   ],
   "source": [
    "# Normalize the data.\n",
    "x_tfidf_train_norm = normalize(x_tfidf_train)\n",
    "x_tfidf_test_norm = normalize(x_tfidf_test)\n",
    "\n",
    "kmeans_model.fit(x_tfidf_train_norm)"
   ]
  },
  {
   "cell_type": "code",
   "execution_count": 53,
   "metadata": {},
   "outputs": [
    {
     "name": "stdout",
     "output_type": "stream",
     "text": [
      "Comparing k-means clusters against the data:\n",
      "text_source  austen  bryant  burgess  carroll  chesterton  edgeworth  \\\n",
      "row_0                                                                  \n",
      "0                 0       0       11        1           0          0   \n",
      "1                 0       0        0        4           7          0   \n",
      "2                 0       0        0        0           0         11   \n",
      "3                 0       0        0        0           0          0   \n",
      "4                 0       0        0        0           0          0   \n",
      "5                 0       5        0        0           0          0   \n",
      "6                 9       1        0        1           1          2   \n",
      "7                 0       0        0        0           0          0   \n",
      "8                 0       0        0        0           1          0   \n",
      "9                 0       1        0        0           0          0   \n",
      "\n",
      "text_source  melville  milton  shakespeare  whitman  \n",
      "row_0                                                \n",
      "0                   0       0            0        0  \n",
      "1                   1       0            0        0  \n",
      "2                   0       0            0        0  \n",
      "3                   0       0            9        0  \n",
      "4                   0      10            1        1  \n",
      "5                   0       0            0        0  \n",
      "6                   0       0            0        0  \n",
      "7                   0       0            0        7  \n",
      "8                   6       0            0        0  \n",
      "9                   3       2            0        5  \n",
      "Adj Rand Score: 0.62\n"
     ]
    }
   ],
   "source": [
    "# Calculate predicted values.\n",
    "y_pred_kmeans_norm = kmeans_model.fit_predict(x_tfidf_test_norm)\n",
    "\n",
    "# Check the solution against the data.\n",
    "print('Comparing k-means clusters against the data:')\n",
    "print(pd.crosstab(y_pred_kmeans_norm, y_test))\n",
    "\n",
    "ars_kmeans_norm = metrics.adjusted_rand_score(y_test, y_pred_kmeans_norm)\n",
    "print(\"Adj Rand Score: {:.2}\".format(ars_kmeans_norm))"
   ]
  },
  {
   "cell_type": "code",
   "execution_count": 54,
   "metadata": {},
   "outputs": [
    {
     "data": {
      "image/png": "[encoded data removed]",
      "text/plain": [
       "<Figure size 432x288 with 1 Axes>"
      ]
     },
     "metadata": {
      "needs_background": "light"
     },
     "output_type": "display_data"
    },
    {
     "name": "stdout",
     "output_type": "stream",
     "text": [
      "Adj Rand Score: 0.28\n"
     ]
    }
   ],
   "source": [
    "# Reduce it to two components.\n",
    "x_norm_pca = PCA(2).fit_transform(x_tfidf_test_norm)\n",
    "\n",
    "# Calculate predicted values.\n",
    "y_pred_norm_pca = kmeans_model.fit_predict(x_norm_pca)\n",
    "\n",
    "# Plot the solution.\n",
    "plt.scatter(x_norm_pca[:, 0], x_norm_pca[:, 1], c=y_pred_norm_pca)\n",
    "plt.title(\"K-Means - PCA & Normalized\")\n",
    "plt.show()\n",
    "\n",
    "ars_kmeans_norm_pca = metrics.adjusted_rand_score(y_test, y_pred_norm_pca)\n",
    "print(\"Adj Rand Score: {:.2}\".format(ars_kmeans_norm_pca))"
   ]
  },
  {
   "cell_type": "markdown",
   "metadata": {},
   "source": [
    "# Mean Shift Model"
   ]
  },
  {
   "cell_type": "code",
   "execution_count": 55,
   "metadata": {},
   "outputs": [
    {
     "name": "stdout",
     "output_type": "stream",
     "text": [
      "Estimated Bandwidth: 1.3155701421285142\n",
      "Number of estimated clusters: 10\n",
      "\n",
      "\n",
      "Comparing the assigned categories to the ones in the data:\n",
      "col_0         0   1   2   3   4   5   6  7  8  9\n",
      "text_source                                     \n",
      "austen       31   0   0   0   0   0   0  0  0  0\n",
      "bryant       23   0   0   0   0   3   0  7  0  0\n",
      "burgess       0   0  17   0   0   0  12  0  0  0\n",
      "carroll      34   0   0   0   0   0   0  0  0  0\n",
      "chesterton   31   0   0   0   0   0   0  0  0  0\n",
      "edgeworth    26   0   0   0   0   0   0  1  0  0\n",
      "melville     25   0   0   0   0   0   0  5  0  0\n",
      "milton        0  28   0   0   0   0   0  0  0  0\n",
      "shakespeare   0   0   0  18  10   0   0  0  1  1\n",
      "whitman       0   0   0   1   5  20   0  1  0  0\n",
      "Adj Rand Score: 0.26\n"
     ]
    }
   ],
   "source": [
    "from sklearn.cluster import MeanShift, estimate_bandwidth\n",
    "\n",
    "# Set the bandwidth. \n",
    "bandwidth = estimate_bandwidth(x_tfidf_train, quantile=0.2, n_samples=500)\n",
    "print(\"Estimated Bandwidth: {}\".format(bandwidth))\n",
    "\n",
    "# Declare and fit the model.\n",
    "meanshift_model = MeanShift(bandwidth=.94, bin_seeding=True)\n",
    "meanshift_model.fit(x_tfidf_train)\n",
    "\n",
    "# Extract cluster assignments for each data point.\n",
    "labels = meanshift_model.labels_\n",
    "\n",
    "# Coordinates of the cluster centers.\n",
    "cluster_centers = meanshift_model.cluster_centers_\n",
    "\n",
    "# Count our clusters.\n",
    "n_clusters_ = len(np.unique(labels))\n",
    "\n",
    "print(\"Number of estimated clusters: {}\".format(n_clusters_))\n",
    "print('\\n')\n",
    "print('Comparing the assigned categories to the ones in the data:')\n",
    "print(pd.crosstab(y_train,labels))\n",
    "\n",
    "y_pred_meanshift = meanshift_model.predict(x_tfidf_test)\n",
    "\n",
    "ars_meanshift = metrics.adjusted_rand_score(y_test, y_pred_meanshift)\n",
    "print(\"Adj Rand Score: {:.2}\".format(ars_meanshift))"
   ]
  },
  {
   "cell_type": "code",
   "execution_count": 56,
   "metadata": {},
   "outputs": [],
   "source": [
    "# Reduce it to two components.\n",
    "x_meanshift_pca = PCA(2).fit_transform(x_tfidf_train)"
   ]
  },
  {
   "cell_type": "code",
   "execution_count": 57,
   "metadata": {},
   "outputs": [
    {
     "data": {
      "image/png": "[encoded data removed]",
      "text/plain": [
       "<Figure size 432x288 with 1 Axes>"
      ]
     },
     "metadata": {
      "needs_background": "light"
     },
     "output_type": "display_data"
    }
   ],
   "source": [
    "# Plot result\n",
    "import matplotlib.pyplot as plt\n",
    "from itertools import cycle\n",
    "\n",
    "plt.figure(1)\n",
    "plt.clf()\n",
    "\n",
    "colors = cycle('bgrcmykbgrcmykbgrcmykbgrcmyk')\n",
    "for k, col in zip(range(n_clusters_), colors):\n",
    "    my_members = labels == k\n",
    "#    cluster_center = cluster_centers[k]\n",
    "    plt.plot(x_meanshift_pca[my_members, 0], x_meanshift_pca[my_members, 1], col + '.')\n",
    "#    plt.plot(cluster_center[0], cluster_center[1], 'o', markerfacecolor=col,\n",
    "#             markeredgecolor='k', markersize=14)\n",
    "#plt.title('Estimated number of clusters: %d' % n_clusters_)\n",
    "plt.title(\"Mean Shift\")\n",
    "plt.show()"
   ]
  },
  {
   "cell_type": "markdown",
   "metadata": {},
   "source": [
    "# Supervised Learning Models"
   ]
  },
  {
   "cell_type": "markdown",
   "metadata": {},
   "source": [
    "# Random Forest"
   ]
  },
  {
   "cell_type": "code",
   "execution_count": 58,
   "metadata": {},
   "outputs": [],
   "source": [
    "from sklearn import ensemble\n",
    "\n",
    "rfc = ensemble.RandomForestClassifier(random_state=1, class_weight = \"balanced\")"
   ]
  },
  {
   "cell_type": "code",
   "execution_count": 59,
   "metadata": {
    "scrolled": false
   },
   "outputs": [
    {
     "name": "stdout",
     "output_type": "stream",
     "text": [
      "Training set score: 1.0\n",
      "\n",
      "Test set score: 0.96\n"
     ]
    }
   ],
   "source": [
    "#tfidf\n",
    "tfidf_train = rfc.fit(x_tfidf_train, y_train)\n",
    "\n",
    "print('Training set score:', rfc.score(x_tfidf_train, y_train))\n",
    "print('\\nTest set score:', rfc.score(x_tfidf_test, y_test))"
   ]
  },
  {
   "cell_type": "code",
   "execution_count": 60,
   "metadata": {},
   "outputs": [
    {
     "name": "stdout",
     "output_type": "stream",
     "text": [
      "              precision    recall  f1-score   support\n",
      "\n",
      "      austen       1.00      1.00      1.00         9\n",
      "      bryant       0.78      1.00      0.88         7\n",
      "     burgess       1.00      1.00      1.00        11\n",
      "     carroll       1.00      1.00      1.00         6\n",
      "  chesterton       1.00      1.00      1.00         9\n",
      "   edgeworth       1.00      0.85      0.92        13\n",
      "    melville       1.00      1.00      1.00        10\n",
      "      milton       1.00      0.92      0.96        12\n",
      " shakespeare       1.00      0.90      0.95        10\n",
      "     whitman       0.87      1.00      0.93        13\n",
      "\n",
      "    accuracy                           0.96       100\n",
      "   macro avg       0.96      0.97      0.96       100\n",
      "weighted avg       0.97      0.96      0.96       100\n",
      "\n"
     ]
    }
   ],
   "source": [
    "y_pred_rfc = rfc.predict(x_tfidf_test)\n",
    "\n",
    "class_rep_rfc = classification_report(y_test, y_pred_rfc)\n",
    "\n",
    "print(class_rep_rfc)"
   ]
  },
  {
   "cell_type": "markdown",
   "metadata": {},
   "source": [
    "# Logistic Regression"
   ]
  },
  {
   "cell_type": "code",
   "execution_count": 61,
   "metadata": {
    "scrolled": false
   },
   "outputs": [],
   "source": [
    "from sklearn.linear_model import LogisticRegression\n",
    "\n",
    "lr = LogisticRegression(class_weight = \"balanced\") "
   ]
  },
  {
   "cell_type": "code",
   "execution_count": 62,
   "metadata": {},
   "outputs": [
    {
     "name": "stdout",
     "output_type": "stream",
     "text": [
      "Training set score: 0.9933333333333333\n",
      "\n",
      "Test set score: 0.99\n"
     ]
    }
   ],
   "source": [
    "#tfidf\n",
    "tfidf_train = lr.fit(x_tfidf_train, y_train)\n",
    "\n",
    "print('Training set score:', lr.score(x_tfidf_train, y_train))\n",
    "print('\\nTest set score:', lr.score(x_tfidf_test, y_test))"
   ]
  },
  {
   "cell_type": "code",
   "execution_count": 63,
   "metadata": {},
   "outputs": [
    {
     "name": "stdout",
     "output_type": "stream",
     "text": [
      "              precision    recall  f1-score   support\n",
      "\n",
      "      austen       1.00      1.00      1.00         9\n",
      "      bryant       1.00      1.00      1.00         7\n",
      "     burgess       1.00      1.00      1.00        11\n",
      "     carroll       1.00      1.00      1.00         6\n",
      "  chesterton       1.00      1.00      1.00         9\n",
      "   edgeworth       1.00      1.00      1.00        13\n",
      "    melville       1.00      1.00      1.00        10\n",
      "      milton       1.00      1.00      1.00        12\n",
      " shakespeare       0.91      1.00      0.95        10\n",
      "     whitman       1.00      0.92      0.96        13\n",
      "\n",
      "    accuracy                           0.99       100\n",
      "   macro avg       0.99      0.99      0.99       100\n",
      "weighted avg       0.99      0.99      0.99       100\n",
      "\n"
     ]
    }
   ],
   "source": [
    "y_pred_lr = lr.predict(x_tfidf_test)\n",
    "\n",
    "class_rep_lr = classification_report(y_test, y_pred_lr)\n",
    "\n",
    "print(class_rep_lr)"
   ]
  },
  {
   "cell_type": "markdown",
   "metadata": {},
   "source": [
    "# Gradient Boosting"
   ]
  },
  {
   "cell_type": "code",
   "execution_count": 64,
   "metadata": {},
   "outputs": [],
   "source": [
    "clf = ensemble.GradientBoostingClassifier()"
   ]
  },
  {
   "cell_type": "code",
   "execution_count": 65,
   "metadata": {
    "scrolled": true
   },
   "outputs": [
    {
     "name": "stdout",
     "output_type": "stream",
     "text": [
      "Training set score: 1.0\n",
      "\n",
      "Test set score: 0.93\n"
     ]
    }
   ],
   "source": [
    "#tfidf\n",
    "tfidf_train = clf.fit(x_tfidf_train, y_train)\n",
    "\n",
    "print('Training set score:', clf.score(x_tfidf_train, y_train))\n",
    "print('\\nTest set score:', clf.score(x_tfidf_test, y_test))"
   ]
  },
  {
   "cell_type": "code",
   "execution_count": 66,
   "metadata": {},
   "outputs": [
    {
     "name": "stdout",
     "output_type": "stream",
     "text": [
      "              precision    recall  f1-score   support\n",
      "\n",
      "      austen       1.00      1.00      1.00         9\n",
      "      bryant       0.86      0.86      0.86         7\n",
      "     burgess       1.00      1.00      1.00        11\n",
      "     carroll       0.80      0.67      0.73         6\n",
      "  chesterton       0.89      0.89      0.89         9\n",
      "   edgeworth       0.86      0.92      0.89        13\n",
      "    melville       0.90      0.90      0.90        10\n",
      "      milton       1.00      0.92      0.96        12\n",
      " shakespeare       0.91      1.00      0.95        10\n",
      "     whitman       1.00      1.00      1.00        13\n",
      "\n",
      "    accuracy                           0.93       100\n",
      "   macro avg       0.92      0.92      0.92       100\n",
      "weighted avg       0.93      0.93      0.93       100\n",
      "\n"
     ]
    }
   ],
   "source": [
    "y_pred_clf = clf.predict(x_tfidf_test)\n",
    "\n",
    "class_rep_clf = classification_report(y_test, y_pred_clf)\n",
    "\n",
    "print(class_rep_clf)"
   ]
  },
  {
   "cell_type": "markdown",
   "metadata": {},
   "source": [
    "# Evaluation of Models"
   ]
  },
  {
   "cell_type": "code",
   "execution_count": 67,
   "metadata": {
    "scrolled": false
   },
   "outputs": [
    {
     "name": "stdout",
     "output_type": "stream",
     "text": [
      "Random Forest Classifier\n",
      "Cross Validation Score: [0.84, 0.84, 0.81]\n",
      "Average: 0.83\n"
     ]
    }
   ],
   "source": [
    "from sklearn.model_selection import cross_val_score\n",
    "import statistics\n",
    "\n",
    "cvs_rfc = cross_val_score(rfc, x_tfidf_test, y_test, cv=3)\n",
    "cvs_rfc = [\"%.2f\"%i for i in cvs_rfc]\n",
    "cvs_rfc = list(map(float, cvs_rfc))\n",
    "\n",
    "print('Random Forest Classifier')\n",
    "print('Cross Validation Score: {}'.format(cvs_rfc))\n",
    "print('Average: {0:.2f}'.format(statistics.mean(cvs_rfc)))"
   ]
  },
  {
   "cell_type": "code",
   "execution_count": 68,
   "metadata": {},
   "outputs": [
    {
     "name": "stdout",
     "output_type": "stream",
     "text": [
      "Logistic Regression\n",
      "Cross Validation Score: [0.89, 0.97, 0.87]\n",
      "Average: 0.91\n"
     ]
    }
   ],
   "source": [
    "cvs_lr = cross_val_score(lr, x_tfidf_test, y_test, cv=3)\n",
    "cvs_lr = [\"%.2f\"%i for i in cvs_lr]\n",
    "cvs_lr = list(map(float, cvs_lr))\n",
    "\n",
    "print('Logistic Regression')\n",
    "print('Cross Validation Score: {}'.format(cvs_lr))\n",
    "print('Average: {0:.2f}'.format(statistics.mean(cvs_lr)))"
   ]
  },
  {
   "cell_type": "code",
   "execution_count": 69,
   "metadata": {},
   "outputs": [
    {
     "name": "stdout",
     "output_type": "stream",
     "text": [
      "Gradient Boosting\n",
      "Cross Validation Score: [0.73, 0.81, 0.84]\n",
      "Average: 0.79\n"
     ]
    }
   ],
   "source": [
    "cvs_clf = cross_val_score(clf, x_tfidf_test, y_test, cv=3)\n",
    "cvs_clf = [\"%.2f\"%i for i in cvs_clf]\n",
    "cvs_clf = list(map(float, cvs_clf))\n",
    "\n",
    "print('Gradient Boosting')\n",
    "print('Cross Validation Score: {}'.format(cvs_clf))\n",
    "print('Average: {0:.2f}'.format(statistics.mean(cvs_clf)))"
   ]
  },
  {
   "cell_type": "markdown",
   "metadata": {},
   "source": [
    "# Unsupervised Learning Model"
   ]
  },
  {
   "cell_type": "markdown",
   "metadata": {},
   "source": [
    "# Restricted Boltzmann Machine"
   ]
  },
  {
   "cell_type": "code",
   "execution_count": 70,
   "metadata": {},
   "outputs": [],
   "source": [
    "logistic = linear_model.LogisticRegression(solver='newton-cg',\n",
    "                                           tol=1,\n",
    "                                           multi_class='multinomial'\n",
    "                                          )\n",
    "\n",
    "rbm = BernoulliRBM(#random_state=2,\n",
    "                   #verbose=True\n",
    "                  )\n",
    "\n",
    "rbm_features_classifier = Pipeline(\n",
    "    steps=[('rbm', rbm), ('logistic', logistic)])"
   ]
  },
  {
   "cell_type": "code",
   "execution_count": 71,
   "metadata": {},
   "outputs": [
    {
     "data": {
      "text/plain": [
       "Pipeline(memory=None,\n",
       "         steps=[('rbm',\n",
       "                 BernoulliRBM(batch_size=10, learning_rate=0.1,\n",
       "                              n_components=256, n_iter=10, random_state=None,\n",
       "                              verbose=0)),\n",
       "                ('logistic',\n",
       "                 LogisticRegression(C=1.0, class_weight=None, dual=False,\n",
       "                                    fit_intercept=True, intercept_scaling=1,\n",
       "                                    l1_ratio=None, max_iter=100,\n",
       "                                    multi_class='multinomial', n_jobs=None,\n",
       "                                    penalty='l2', random_state=None,\n",
       "                                    solver='newton-cg', tol=1, verbose=0,\n",
       "                                    warm_start=False))],\n",
       "         verbose=False)"
      ]
     },
     "execution_count": 71,
     "metadata": {},
     "output_type": "execute_result"
    }
   ],
   "source": [
    "# Training RBM-Logistic Pipeline\n",
    "rbm_features_classifier.fit(x_tfidf_train, y_train)"
   ]
  },
  {
   "cell_type": "code",
   "execution_count": 72,
   "metadata": {
    "scrolled": true
   },
   "outputs": [
    {
     "name": "stdout",
     "output_type": "stream",
     "text": [
      "Restricted Boltzmann Machine:\n",
      "              precision    recall  f1-score   support\n",
      "\n",
      "      austen       0.00      0.00      0.00         9\n",
      "      bryant       0.00      0.00      0.00         7\n",
      "     burgess       0.00      0.00      0.00        11\n",
      "     carroll       0.06      1.00      0.11         6\n",
      "  chesterton       0.00      0.00      0.00         9\n",
      "   edgeworth       0.00      0.00      0.00        13\n",
      "    melville       0.00      0.00      0.00        10\n",
      "      milton       0.00      0.00      0.00        12\n",
      " shakespeare       0.00      0.00      0.00        10\n",
      "     whitman       0.00      0.00      0.00        13\n",
      "\n",
      "    accuracy                           0.06       100\n",
      "   macro avg       0.01      0.10      0.01       100\n",
      "weighted avg       0.00      0.06      0.01       100\n",
      "\n"
     ]
    },
    {
     "name": "stderr",
     "output_type": "stream",
     "text": [
      "/Users/Kevin/anaconda3/lib/python3.7/site-packages/sklearn/metrics/classification.py:1437: UndefinedMetricWarning: Precision and F-score are ill-defined and being set to 0.0 in labels with no predicted samples.\n",
      "  'precision', 'predicted', average, warn_for)\n"
     ]
    }
   ],
   "source": [
    "# Evaluation\n",
    "y_pred_rbm = rbm_features_classifier.predict(x_tfidf_test)\n",
    "class_rep_rbm = classification_report(y_test, y_pred_rbm)\n",
    "\n",
    "print(\"Restricted Boltzmann Machine:\")\n",
    "print(class_rep_rbm)"
   ]
  },
  {
   "cell_type": "markdown",
   "metadata": {},
   "source": [
    "***\n",
    "# <font color='blue'> Using Unsupervised features within Models</font>"
   ]
  },
  {
   "cell_type": "markdown",
   "metadata": {},
   "source": [
    "# <font color='blue'> Clustering Models - LSA</font>"
   ]
  },
  {
   "cell_type": "markdown",
   "metadata": {},
   "source": [
    "# <font color='blue'>K-Mean Model</font>"
   ]
  },
  {
   "cell_type": "code",
   "execution_count": 73,
   "metadata": {},
   "outputs": [
    {
     "data": {
      "text/plain": [
       "KMeans(algorithm='auto', copy_x=True, init='k-means++', max_iter=300,\n",
       "       n_clusters=10, n_init=10, n_jobs=None, precompute_distances='auto',\n",
       "       random_state=1, tol=0.0001, verbose=0)"
      ]
     },
     "execution_count": 73,
     "metadata": {},
     "output_type": "execute_result"
    }
   ],
   "source": [
    "kmeans_model.fit(x_lsa_train)"
   ]
  },
  {
   "cell_type": "code",
   "execution_count": 74,
   "metadata": {},
   "outputs": [
    {
     "name": "stdout",
     "output_type": "stream",
     "text": [
      "Comparing k-means clusters against the data:\n",
      "text_source  austen  bryant  burgess  carroll  chesterton  edgeworth  \\\n",
      "row_0                                                                  \n",
      "0                 0       0        0        0           0          0   \n",
      "1                 1       4        0        1           1          5   \n",
      "2                 0       2        0        0           0          0   \n",
      "3                 0       0        0        0           8          0   \n",
      "4                 0       0        0        0           0          0   \n",
      "5                 0       0        0        0           0          0   \n",
      "6                 8       0        0        0           0          3   \n",
      "7                 0       1        0        0           0          0   \n",
      "8                 0       0       11        0           0          0   \n",
      "9                 0       0        0        5           0          5   \n",
      "\n",
      "text_source  melville  milton  shakespeare  whitman  \n",
      "row_0                                                \n",
      "0                   0      12            0        0  \n",
      "1                   0       0            0        0  \n",
      "2                   0       0            0        7  \n",
      "3                   1       0            0        0  \n",
      "4                   0       0           10        1  \n",
      "5                   2       0            0        5  \n",
      "6                   0       0            0        0  \n",
      "7                   7       0            0        0  \n",
      "8                   0       0            0        0  \n",
      "9                   0       0            0        0  \n",
      "Adj Rand Score: 0.64\n"
     ]
    }
   ],
   "source": [
    "# Calculate predicted values.\n",
    "y_pred_kmeans_lsa = kmeans_model.fit_predict(x_lsa_test)\n",
    "\n",
    "# Check the solution against the data.\n",
    "print('Comparing k-means clusters against the data:')\n",
    "print(pd.crosstab(y_pred_kmeans_lsa, y_test))\n",
    "\n",
    "ars_kmeans_lsa = metrics.adjusted_rand_score(y_test, y_pred_kmeans_lsa)\n",
    "print(\"Adj Rand Score: {:.2}\".format(ars_kmeans_lsa))"
   ]
  },
  {
   "cell_type": "code",
   "execution_count": 75,
   "metadata": {},
   "outputs": [
    {
     "data": {
      "image/png": "[encoded data removed]",
      "text/plain": [
       "<Figure size 432x288 with 1 Axes>"
      ]
     },
     "metadata": {
      "needs_background": "light"
     },
     "output_type": "display_data"
    }
   ],
   "source": [
    "# Plot the solution.\n",
    "plt.scatter(x_lsa_test[:, 0], x_lsa_test[:, 1], c=y_pred_kmeans_lsa)\n",
    "plt.show()"
   ]
  },
  {
   "cell_type": "markdown",
   "metadata": {},
   "source": [
    "# <font color='blue'>Normalized K-Mean Model</font>"
   ]
  },
  {
   "cell_type": "code",
   "execution_count": 76,
   "metadata": {},
   "outputs": [],
   "source": [
    "# Normalize the data.\n",
    "x_lsa_train_norm = normalize(x_lsa_train)\n",
    "x_lsa_test_norm = normalize(x_lsa_test)"
   ]
  },
  {
   "cell_type": "code",
   "execution_count": 77,
   "metadata": {},
   "outputs": [
    {
     "data": {
      "text/plain": [
       "KMeans(algorithm='auto', copy_x=True, init='k-means++', max_iter=300,\n",
       "       n_clusters=10, n_init=10, n_jobs=None, precompute_distances='auto',\n",
       "       random_state=1, tol=0.0001, verbose=0)"
      ]
     },
     "execution_count": 77,
     "metadata": {},
     "output_type": "execute_result"
    }
   ],
   "source": [
    "kmeans_model.fit(x_lsa_train_norm)"
   ]
  },
  {
   "cell_type": "code",
   "execution_count": 78,
   "metadata": {},
   "outputs": [
    {
     "name": "stdout",
     "output_type": "stream",
     "text": [
      "Comparing k-means clusters against the data:\n",
      "text_source  austen  bryant  burgess  carroll  chesterton  edgeworth  \\\n",
      "row_0                                                                  \n",
      "0                 0       0        0        0           0          0   \n",
      "1                 1       4        0        1           1          5   \n",
      "2                 0       2        0        0           0          0   \n",
      "3                 0       0        0        0           8          0   \n",
      "4                 0       0        0        0           0          0   \n",
      "5                 0       0        0        0           0          0   \n",
      "6                 8       0        0        0           0          3   \n",
      "7                 0       1        0        0           0          0   \n",
      "8                 0       0       11        0           0          0   \n",
      "9                 0       0        0        5           0          5   \n",
      "\n",
      "text_source  melville  milton  shakespeare  whitman  \n",
      "row_0                                                \n",
      "0                   0      12            0        0  \n",
      "1                   0       0            0        0  \n",
      "2                   0       0            0        7  \n",
      "3                   1       0            0        0  \n",
      "4                   0       0           10        1  \n",
      "5                   2       0            0        5  \n",
      "6                   0       0            0        0  \n",
      "7                   7       0            0        0  \n",
      "8                   0       0            0        0  \n",
      "9                   0       0            0        0  \n",
      "Adj Rand Score: 0.64\n"
     ]
    }
   ],
   "source": [
    "# Calculate predicted values.\n",
    "y_pred_kmeans_norm_lsa = kmeans_model.fit_predict(x_lsa_test_norm)\n",
    "\n",
    "# Check the solution against the data.\n",
    "print('Comparing k-means clusters against the data:')\n",
    "print(pd.crosstab(y_pred_kmeans_norm_lsa, y_test))\n",
    "\n",
    "ars_kmeans_norm_lsa = metrics.adjusted_rand_score(y_test, y_pred_kmeans_norm_lsa)\n",
    "print(\"Adj Rand Score: {:.2}\".format(ars_kmeans_norm_lsa))"
   ]
  },
  {
   "cell_type": "code",
   "execution_count": 79,
   "metadata": {},
   "outputs": [
    {
     "data": {
      "image/png": "[encoded data removed]",
      "text/plain": [
       "<Figure size 432x288 with 1 Axes>"
      ]
     },
     "metadata": {
      "needs_background": "light"
     },
     "output_type": "display_data"
    }
   ],
   "source": [
    "# Plot the solution.\n",
    "plt.scatter(x_lsa_test[:, 0], x_lsa_test[:, 1], c=y_pred_kmeans_norm_lsa)\n",
    "plt.show()"
   ]
  },
  {
   "cell_type": "markdown",
   "metadata": {},
   "source": [
    "# <font color='blue'>Mean Shift Model</font>"
   ]
  },
  {
   "cell_type": "code",
   "execution_count": 80,
   "metadata": {},
   "outputs": [
    {
     "name": "stdout",
     "output_type": "stream",
     "text": [
      "Estimated Bandwidth: 0.38524395481686197\n",
      "Number of estimated clusters: 1\n",
      "\n",
      "\n",
      "Comparing the assigned categories to the ones in the data:\n",
      "col_0         0\n",
      "text_source    \n",
      "austen       31\n",
      "bryant       33\n",
      "burgess      29\n",
      "carroll      34\n",
      "chesterton   31\n",
      "edgeworth    27\n",
      "melville     30\n",
      "milton       28\n",
      "shakespeare  30\n",
      "whitman      27\n",
      "Adj Rand Score: 0.0\n"
     ]
    }
   ],
   "source": [
    "from sklearn.cluster import MeanShift, estimate_bandwidth\n",
    "\n",
    "# Set the bandwidth. \n",
    "bandwidth = estimate_bandwidth(x_lsa_train, quantile=0.2, n_samples=500)\n",
    "print(\"Estimated Bandwidth: {}\".format(bandwidth))\n",
    "\n",
    "# Declare and fit the model.\n",
    "meanshift_model = MeanShift(bandwidth=bandwidth, bin_seeding=True)\n",
    "meanshift_model.fit(x_lsa_train)\n",
    "\n",
    "# Extract cluster assignments for each data point.\n",
    "labels = meanshift_model.labels_\n",
    "\n",
    "# Coordinates of the cluster centers.\n",
    "cluster_centers = meanshift_model.cluster_centers_\n",
    "\n",
    "# Count our clusters.\n",
    "n_clusters_ = len(np.unique(labels))\n",
    "\n",
    "print(\"Number of estimated clusters: {}\".format(n_clusters_))\n",
    "print('\\n')\n",
    "print('Comparing the assigned categories to the ones in the data:')\n",
    "print(pd.crosstab(y_train,labels))\n",
    "\n",
    "y_pred_meanshift_lsa = meanshift_model.predict(x_lsa_test)\n",
    "\n",
    "ars_meanshift_lsa = metrics.adjusted_rand_score(y_test, y_pred_meanshift_lsa)\n",
    "print(\"Adj Rand Score: {:.2}\".format(ars_meanshift_lsa))"
   ]
  },
  {
   "cell_type": "markdown",
   "metadata": {},
   "source": [
    "# <font color='blue'>Supervised Learning Models - LSA</font>"
   ]
  },
  {
   "cell_type": "markdown",
   "metadata": {},
   "source": [
    "# <font color='blue'>Random Forest</font>"
   ]
  },
  {
   "cell_type": "code",
   "execution_count": 81,
   "metadata": {},
   "outputs": [],
   "source": [
    "from sklearn import ensemble\n",
    "\n",
    "rfc = ensemble.RandomForestClassifier(random_state=1, class_weight = \"balanced\")"
   ]
  },
  {
   "cell_type": "code",
   "execution_count": 82,
   "metadata": {
    "scrolled": false
   },
   "outputs": [
    {
     "name": "stdout",
     "output_type": "stream",
     "text": [
      "Training set score: 0.9933333333333333\n",
      "\n",
      "Test set score: 0.91\n"
     ]
    }
   ],
   "source": [
    "#tfidf\n",
    "lsa_train = rfc.fit(x_lsa_train, y_train)\n",
    "\n",
    "print('Training set score:', rfc.score(x_lsa_train, y_train))\n",
    "print('\\nTest set score:', rfc.score(x_lsa_test, y_test))"
   ]
  },
  {
   "cell_type": "code",
   "execution_count": 83,
   "metadata": {},
   "outputs": [
    {
     "name": "stdout",
     "output_type": "stream",
     "text": [
      "              precision    recall  f1-score   support\n",
      "\n",
      "      austen       1.00      1.00      1.00         9\n",
      "      bryant       1.00      1.00      1.00         7\n",
      "     burgess       1.00      1.00      1.00        11\n",
      "     carroll       0.71      0.83      0.77         6\n",
      "  chesterton       0.80      0.89      0.84         9\n",
      "   edgeworth       1.00      0.85      0.92        13\n",
      "    melville       0.89      0.80      0.84        10\n",
      "      milton       1.00      0.92      0.96        12\n",
      " shakespeare       0.77      1.00      0.87        10\n",
      "     whitman       0.92      0.85      0.88        13\n",
      "\n",
      "    accuracy                           0.91       100\n",
      "   macro avg       0.91      0.91      0.91       100\n",
      "weighted avg       0.92      0.91      0.91       100\n",
      "\n"
     ]
    }
   ],
   "source": [
    "y_pred_rfc_lsa = rfc.predict(x_lsa_test)\n",
    "\n",
    "class_rep_rfc_lsa = classification_report(y_test, y_pred_rfc_lsa)\n",
    "\n",
    "print(class_rep_rfc_lsa)"
   ]
  },
  {
   "cell_type": "markdown",
   "metadata": {},
   "source": [
    "# <font color='blue'>Logistic Regression</font>"
   ]
  },
  {
   "cell_type": "code",
   "execution_count": 84,
   "metadata": {
    "scrolled": false
   },
   "outputs": [],
   "source": [
    "from sklearn.linear_model import LogisticRegression\n",
    "\n",
    "lr = LogisticRegression(class_weight = \"balanced\") "
   ]
  },
  {
   "cell_type": "code",
   "execution_count": 85,
   "metadata": {},
   "outputs": [
    {
     "name": "stdout",
     "output_type": "stream",
     "text": [
      "Training set score: 0.91\n",
      "\n",
      "Test set score: 0.91\n"
     ]
    }
   ],
   "source": [
    "#lsa\n",
    "lsa_train = lr.fit(x_lsa_train, y_train)\n",
    "\n",
    "print('Training set score:', lr.score(x_lsa_train, y_train))\n",
    "print('\\nTest set score:', lr.score(x_lsa_test, y_test))"
   ]
  },
  {
   "cell_type": "code",
   "execution_count": 86,
   "metadata": {},
   "outputs": [
    {
     "name": "stdout",
     "output_type": "stream",
     "text": [
      "              precision    recall  f1-score   support\n",
      "\n",
      "      austen       0.69      1.00      0.82         9\n",
      "      bryant       0.78      1.00      0.88         7\n",
      "     burgess       1.00      1.00      1.00        11\n",
      "     carroll       1.00      0.83      0.91         6\n",
      "  chesterton       0.89      0.89      0.89         9\n",
      "   edgeworth       0.89      0.62      0.73        13\n",
      "    melville       1.00      0.90      0.95        10\n",
      "      milton       1.00      1.00      1.00        12\n",
      " shakespeare       0.91      1.00      0.95        10\n",
      "     whitman       1.00      0.92      0.96        13\n",
      "\n",
      "    accuracy                           0.91       100\n",
      "   macro avg       0.92      0.92      0.91       100\n",
      "weighted avg       0.92      0.91      0.91       100\n",
      "\n"
     ]
    }
   ],
   "source": [
    "y_pred_lr_lsa = lr.predict(x_lsa_test)\n",
    "\n",
    "class_rep_lr_lsa = classification_report(y_test, y_pred_lr_lsa)\n",
    "\n",
    "print(class_rep_lr_lsa)"
   ]
  },
  {
   "cell_type": "markdown",
   "metadata": {},
   "source": [
    "# <font color='blue'>Gradient Boosting<font>"
   ]
  },
  {
   "cell_type": "code",
   "execution_count": 87,
   "metadata": {},
   "outputs": [],
   "source": [
    "clf = ensemble.GradientBoostingClassifier()"
   ]
  },
  {
   "cell_type": "code",
   "execution_count": 88,
   "metadata": {
    "scrolled": true
   },
   "outputs": [
    {
     "name": "stdout",
     "output_type": "stream",
     "text": [
      "Training set score: 1.0\n",
      "\n",
      "Test set score: 0.88\n"
     ]
    }
   ],
   "source": [
    "#lsa\n",
    "lsa_train = clf.fit(x_lsa_train, y_train)\n",
    "\n",
    "print('Training set score:', clf.score(x_lsa_train, y_train))\n",
    "print('\\nTest set score:', clf.score(x_lsa_test, y_test))"
   ]
  },
  {
   "cell_type": "code",
   "execution_count": 89,
   "metadata": {},
   "outputs": [
    {
     "name": "stdout",
     "output_type": "stream",
     "text": [
      "              precision    recall  f1-score   support\n",
      "\n",
      "      austen       1.00      1.00      1.00         9\n",
      "      bryant       0.78      1.00      0.88         7\n",
      "     burgess       1.00      0.73      0.84        11\n",
      "     carroll       0.67      0.67      0.67         6\n",
      "  chesterton       0.90      1.00      0.95         9\n",
      "   edgeworth       0.82      0.69      0.75        13\n",
      "    melville       1.00      0.90      0.95        10\n",
      "      milton       0.92      1.00      0.96        12\n",
      " shakespeare       0.91      1.00      0.95        10\n",
      "     whitman       0.79      0.85      0.81        13\n",
      "\n",
      "    accuracy                           0.88       100\n",
      "   macro avg       0.88      0.88      0.88       100\n",
      "weighted avg       0.89      0.88      0.88       100\n",
      "\n"
     ]
    }
   ],
   "source": [
    "y_pred_clf_lsa = clf.predict(x_lsa_test)\n",
    "\n",
    "class_rep_clf_lsa = classification_report(y_test, y_pred_clf_lsa)\n",
    "\n",
    "print(class_rep_clf_lsa)"
   ]
  },
  {
   "cell_type": "markdown",
   "metadata": {},
   "source": [
    "# <font color='blue'>Evaluation of Models</font>"
   ]
  },
  {
   "cell_type": "code",
   "execution_count": 90,
   "metadata": {
    "scrolled": false
   },
   "outputs": [
    {
     "name": "stdout",
     "output_type": "stream",
     "text": [
      "Random Forest Classifier\n",
      "Cross Validation Score: [0.86, 0.91, 0.81]\n",
      "Average: 0.86\n"
     ]
    }
   ],
   "source": [
    "from sklearn.model_selection import cross_val_score\n",
    "import statistics\n",
    "\n",
    "cvs_rfc_lsa = cross_val_score(rfc, x_lsa_test, y_test, cv=3)\n",
    "cvs_rfc_lsa = [\"%.2f\"%i for i in cvs_rfc_lsa]\n",
    "cvs_rfc_lsa = list(map(float, cvs_rfc_lsa))\n",
    "\n",
    "print('Random Forest Classifier')\n",
    "print('Cross Validation Score: {}'.format(cvs_rfc_lsa))\n",
    "print('Average: {0:.2f}'.format(statistics.mean(cvs_rfc_lsa)))"
   ]
  },
  {
   "cell_type": "code",
   "execution_count": 91,
   "metadata": {},
   "outputs": [
    {
     "name": "stdout",
     "output_type": "stream",
     "text": [
      "Logistic Regression\n",
      "Cross Validation Score: [0.92, 0.88, 0.87]\n",
      "Average: 0.89\n"
     ]
    }
   ],
   "source": [
    "cvs_lr_lsa = cross_val_score(lr, x_lsa_test, y_test, cv=3)\n",
    "cvs_lr_lsa = [\"%.2f\"%i for i in cvs_lr_lsa]\n",
    "cvs_lr_lsa = list(map(float, cvs_lr_lsa))\n",
    "\n",
    "print('Logistic Regression')\n",
    "print('Cross Validation Score: {}'.format(cvs_lr_lsa))\n",
    "print('Average: {0:.2f}'.format(statistics.mean(cvs_lr_lsa)))"
   ]
  },
  {
   "cell_type": "code",
   "execution_count": 92,
   "metadata": {},
   "outputs": [
    {
     "name": "stdout",
     "output_type": "stream",
     "text": [
      "Gradient Boosting\n",
      "Cross Validation Score: [0.81, 0.69, 0.65]\n",
      "Average: 0.72\n"
     ]
    }
   ],
   "source": [
    "cvs_clf_lsa = cross_val_score(clf, x_lsa_test, y_test, cv=3)\n",
    "cvs_clf_lsa = [\"%.2f\"%i for i in cvs_clf_lsa]\n",
    "cvs_clf_lsa = list(map(float, cvs_clf_lsa))\n",
    "\n",
    "print('Gradient Boosting')\n",
    "print('Cross Validation Score: {}'.format(cvs_clf_lsa))\n",
    "print('Average: {0:.2f}'.format(statistics.mean(cvs_clf_lsa)))"
   ]
  },
  {
   "cell_type": "markdown",
   "metadata": {},
   "source": [
    "# <font color='blue'>Unsupervised Learning Model</font>"
   ]
  },
  {
   "cell_type": "code",
   "execution_count": 93,
   "metadata": {},
   "outputs": [],
   "source": [
    "logistic = linear_model.LogisticRegression(#solver='newton-cg',\n",
    "                                           #tol=1,\n",
    "                                           #multi_class='multinomial'\n",
    "                                          )\n",
    "\n",
    "rbm = BernoulliRBM(random_state=2,\n",
    "                   verbose=True\n",
    "                  )\n",
    "\n",
    "rbm_features_classifier_lsa = Pipeline(\n",
    "    steps=[('rbm', rbm), ('logistic', logistic)])"
   ]
  },
  {
   "cell_type": "code",
   "execution_count": 94,
   "metadata": {},
   "outputs": [
    {
     "name": "stdout",
     "output_type": "stream",
     "text": [
      "[BernoulliRBM] Iteration 1, pseudo-likelihood = -0.11, time = 0.01s\n",
      "[BernoulliRBM] Iteration 2, pseudo-likelihood = -0.08, time = 0.02s\n",
      "[BernoulliRBM] Iteration 3, pseudo-likelihood = -0.08, time = 0.02s\n",
      "[BernoulliRBM] Iteration 4, pseudo-likelihood = -0.10, time = 0.03s\n",
      "[BernoulliRBM] Iteration 5, pseudo-likelihood = -0.09, time = 0.02s\n",
      "[BernoulliRBM] Iteration 6, pseudo-likelihood = -0.12, time = 0.02s\n",
      "[BernoulliRBM] Iteration 7, pseudo-likelihood = -0.10, time = 0.02s\n",
      "[BernoulliRBM] Iteration 8, pseudo-likelihood = -0.09, time = 0.02s\n",
      "[BernoulliRBM] Iteration 9, pseudo-likelihood = -0.03, time = 0.02s\n",
      "[BernoulliRBM] Iteration 10, pseudo-likelihood = -0.09, time = 0.02s\n"
     ]
    },
    {
     "data": {
      "text/plain": [
       "Pipeline(memory=None,\n",
       "         steps=[('rbm',\n",
       "                 BernoulliRBM(batch_size=10, learning_rate=0.1,\n",
       "                              n_components=256, n_iter=10, random_state=2,\n",
       "                              verbose=True)),\n",
       "                ('logistic',\n",
       "                 LogisticRegression(C=1.0, class_weight=None, dual=False,\n",
       "                                    fit_intercept=True, intercept_scaling=1,\n",
       "                                    l1_ratio=None, max_iter=100,\n",
       "                                    multi_class='warn', n_jobs=None,\n",
       "                                    penalty='l2', random_state=None,\n",
       "                                    solver='warn', tol=0.0001, verbose=0,\n",
       "                                    warm_start=False))],\n",
       "         verbose=False)"
      ]
     },
     "execution_count": 94,
     "metadata": {},
     "output_type": "execute_result"
    }
   ],
   "source": [
    "# Training RBM-Logistic Pipeline\n",
    "rbm_features_classifier_lsa.fit(x_lsa_train, y_train)"
   ]
  },
  {
   "cell_type": "code",
   "execution_count": 95,
   "metadata": {
    "scrolled": false
   },
   "outputs": [
    {
     "name": "stdout",
     "output_type": "stream",
     "text": [
      "Restricted Boltzmann Machine:\n",
      "              precision    recall  f1-score   support\n",
      "\n",
      "      austen       0.00      0.00      0.00         9\n",
      "      bryant       0.04      0.14      0.06         7\n",
      "     burgess       0.00      0.00      0.00        11\n",
      "     carroll       0.08      1.00      0.15         6\n",
      "  chesterton       0.00      0.00      0.00         9\n",
      "   edgeworth       0.00      0.00      0.00        13\n",
      "    melville       0.00      0.00      0.00        10\n",
      "      milton       0.00      0.00      0.00        12\n",
      " shakespeare       0.00      0.00      0.00        10\n",
      "     whitman       0.00      0.00      0.00        13\n",
      "\n",
      "    accuracy                           0.07       100\n",
      "   macro avg       0.01      0.11      0.02       100\n",
      "weighted avg       0.01      0.07      0.01       100\n",
      "\n"
     ]
    },
    {
     "name": "stderr",
     "output_type": "stream",
     "text": [
      "/Users/Kevin/anaconda3/lib/python3.7/site-packages/sklearn/metrics/classification.py:1437: UndefinedMetricWarning: Precision and F-score are ill-defined and being set to 0.0 in labels with no predicted samples.\n",
      "  'precision', 'predicted', average, warn_for)\n"
     ]
    }
   ],
   "source": [
    "# Evaluation\n",
    "y_pred_rbm_lsa = rbm_features_classifier_lsa.predict(x_lsa_test)\n",
    "class_rep_rbm_lsa = classification_report(y_test, y_pred_rbm_lsa)\n",
    "\n",
    "print(\"Restricted Boltzmann Machine:\")\n",
    "print(class_rep_rbm_lsa)"
   ]
  },
  {
   "cell_type": "markdown",
   "metadata": {},
   "source": [
    "# Score Comparison "
   ]
  },
  {
   "cell_type": "code",
   "execution_count": 96,
   "metadata": {},
   "outputs": [
    {
     "name": "stdout",
     "output_type": "stream",
     "text": [
      "Classification Reports - TF-IDF:\n",
      "\n",
      "\n",
      "Random forest classifier:\n",
      "              precision    recall  f1-score   support\n",
      "\n",
      "      austen       1.00      1.00      1.00         9\n",
      "      bryant       0.78      1.00      0.88         7\n",
      "     burgess       1.00      1.00      1.00        11\n",
      "     carroll       1.00      1.00      1.00         6\n",
      "  chesterton       1.00      1.00      1.00         9\n",
      "   edgeworth       1.00      0.85      0.92        13\n",
      "    melville       1.00      1.00      1.00        10\n",
      "      milton       1.00      0.92      0.96        12\n",
      " shakespeare       1.00      0.90      0.95        10\n",
      "     whitman       0.87      1.00      0.93        13\n",
      "\n",
      "    accuracy                           0.96       100\n",
      "   macro avg       0.96      0.97      0.96       100\n",
      "weighted avg       0.97      0.96      0.96       100\n",
      "\n",
      "\n",
      "\n",
      "Logistic regression classifier:\n",
      "              precision    recall  f1-score   support\n",
      "\n",
      "      austen       1.00      1.00      1.00         9\n",
      "      bryant       1.00      1.00      1.00         7\n",
      "     burgess       1.00      1.00      1.00        11\n",
      "     carroll       1.00      1.00      1.00         6\n",
      "  chesterton       1.00      1.00      1.00         9\n",
      "   edgeworth       1.00      1.00      1.00        13\n",
      "    melville       1.00      1.00      1.00        10\n",
      "      milton       1.00      1.00      1.00        12\n",
      " shakespeare       0.91      1.00      0.95        10\n",
      "     whitman       1.00      0.92      0.96        13\n",
      "\n",
      "    accuracy                           0.99       100\n",
      "   macro avg       0.99      0.99      0.99       100\n",
      "weighted avg       0.99      0.99      0.99       100\n",
      "\n",
      "\n",
      "\n",
      "Gradient Boosting:\n",
      "              precision    recall  f1-score   support\n",
      "\n",
      "      austen       1.00      1.00      1.00         9\n",
      "      bryant       0.86      0.86      0.86         7\n",
      "     burgess       1.00      1.00      1.00        11\n",
      "     carroll       0.80      0.67      0.73         6\n",
      "  chesterton       0.89      0.89      0.89         9\n",
      "   edgeworth       0.86      0.92      0.89        13\n",
      "    melville       0.90      0.90      0.90        10\n",
      "      milton       1.00      0.92      0.96        12\n",
      " shakespeare       0.91      1.00      0.95        10\n",
      "     whitman       1.00      1.00      1.00        13\n",
      "\n",
      "    accuracy                           0.93       100\n",
      "   macro avg       0.92      0.92      0.92       100\n",
      "weighted avg       0.93      0.93      0.93       100\n",
      "\n"
     ]
    }
   ],
   "source": [
    "# Classification Report for supervised models - TF-IDF\n",
    "print('Classification Reports - TF-IDF:')\n",
    "print('\\n')\n",
    "print('Random forest classifier:')\n",
    "print(class_rep_rfc)\n",
    "print('\\n')\n",
    "print('Logistic regression classifier:')\n",
    "print(class_rep_lr)\n",
    "print('\\n')\n",
    "print('Gradient Boosting:')\n",
    "print(class_rep_clf)"
   ]
  },
  {
   "cell_type": "code",
   "execution_count": 97,
   "metadata": {},
   "outputs": [
    {
     "name": "stdout",
     "output_type": "stream",
     "text": [
      "Classification Reports - LSA:\n",
      "\n",
      "\n",
      "Random forest classifier - LSA:\n",
      "              precision    recall  f1-score   support\n",
      "\n",
      "      austen       1.00      1.00      1.00         9\n",
      "      bryant       1.00      1.00      1.00         7\n",
      "     burgess       1.00      1.00      1.00        11\n",
      "     carroll       0.71      0.83      0.77         6\n",
      "  chesterton       0.80      0.89      0.84         9\n",
      "   edgeworth       1.00      0.85      0.92        13\n",
      "    melville       0.89      0.80      0.84        10\n",
      "      milton       1.00      0.92      0.96        12\n",
      " shakespeare       0.77      1.00      0.87        10\n",
      "     whitman       0.92      0.85      0.88        13\n",
      "\n",
      "    accuracy                           0.91       100\n",
      "   macro avg       0.91      0.91      0.91       100\n",
      "weighted avg       0.92      0.91      0.91       100\n",
      "\n",
      "\n",
      "\n",
      "Logistic regression classifier - LSA:\n",
      "              precision    recall  f1-score   support\n",
      "\n",
      "      austen       0.69      1.00      0.82         9\n",
      "      bryant       0.78      1.00      0.88         7\n",
      "     burgess       1.00      1.00      1.00        11\n",
      "     carroll       1.00      0.83      0.91         6\n",
      "  chesterton       0.89      0.89      0.89         9\n",
      "   edgeworth       0.89      0.62      0.73        13\n",
      "    melville       1.00      0.90      0.95        10\n",
      "      milton       1.00      1.00      1.00        12\n",
      " shakespeare       0.91      1.00      0.95        10\n",
      "     whitman       1.00      0.92      0.96        13\n",
      "\n",
      "    accuracy                           0.91       100\n",
      "   macro avg       0.92      0.92      0.91       100\n",
      "weighted avg       0.92      0.91      0.91       100\n",
      "\n",
      "\n",
      "\n",
      "Gradient Boosting - LSA:\n",
      "              precision    recall  f1-score   support\n",
      "\n",
      "      austen       1.00      1.00      1.00         9\n",
      "      bryant       0.78      1.00      0.88         7\n",
      "     burgess       1.00      0.73      0.84        11\n",
      "     carroll       0.67      0.67      0.67         6\n",
      "  chesterton       0.90      1.00      0.95         9\n",
      "   edgeworth       0.82      0.69      0.75        13\n",
      "    melville       1.00      0.90      0.95        10\n",
      "      milton       0.92      1.00      0.96        12\n",
      " shakespeare       0.91      1.00      0.95        10\n",
      "     whitman       0.79      0.85      0.81        13\n",
      "\n",
      "    accuracy                           0.88       100\n",
      "   macro avg       0.88      0.88      0.88       100\n",
      "weighted avg       0.89      0.88      0.88       100\n",
      "\n"
     ]
    }
   ],
   "source": [
    "# Classification Report for supervised models - LSA\n",
    "print('Classification Reports - LSA:')\n",
    "print('\\n')\n",
    "print('Random forest classifier - LSA:')\n",
    "print(class_rep_rfc_lsa)\n",
    "print('\\n')\n",
    "print('Logistic regression classifier - LSA:')\n",
    "print(class_rep_lr_lsa)\n",
    "print('\\n')\n",
    "print('Gradient Boosting - LSA:')\n",
    "print(class_rep_clf_lsa)"
   ]
  },
  {
   "cell_type": "markdown",
   "metadata": {},
   "source": [
    "Comparing between the supervised models, the models that just use the TF-IDF scores perform better than the LSA features. "
   ]
  },
  {
   "cell_type": "code",
   "execution_count": 98,
   "metadata": {},
   "outputs": [
    {
     "name": "stdout",
     "output_type": "stream",
     "text": [
      "Classification Reports - TF-IDF:\n",
      "\n",
      "\n",
      "Restricted Boltzmann Machine:\n",
      "              precision    recall  f1-score   support\n",
      "\n",
      "      austen       0.00      0.00      0.00         9\n",
      "      bryant       0.00      0.00      0.00         7\n",
      "     burgess       0.00      0.00      0.00        11\n",
      "     carroll       0.06      1.00      0.11         6\n",
      "  chesterton       0.00      0.00      0.00         9\n",
      "   edgeworth       0.00      0.00      0.00        13\n",
      "    melville       0.00      0.00      0.00        10\n",
      "      milton       0.00      0.00      0.00        12\n",
      " shakespeare       0.00      0.00      0.00        10\n",
      "     whitman       0.00      0.00      0.00        13\n",
      "\n",
      "    accuracy                           0.06       100\n",
      "   macro avg       0.01      0.10      0.01       100\n",
      "weighted avg       0.00      0.06      0.01       100\n",
      "\n",
      "\n",
      "\n",
      "Classification Reports - LSA:\n",
      "\n",
      "\n",
      "Restricted Boltzmann Machine:\n",
      "              precision    recall  f1-score   support\n",
      "\n",
      "      austen       0.00      0.00      0.00         9\n",
      "      bryant       0.04      0.14      0.06         7\n",
      "     burgess       0.00      0.00      0.00        11\n",
      "     carroll       0.08      1.00      0.15         6\n",
      "  chesterton       0.00      0.00      0.00         9\n",
      "   edgeworth       0.00      0.00      0.00        13\n",
      "    melville       0.00      0.00      0.00        10\n",
      "      milton       0.00      0.00      0.00        12\n",
      " shakespeare       0.00      0.00      0.00        10\n",
      "     whitman       0.00      0.00      0.00        13\n",
      "\n",
      "    accuracy                           0.07       100\n",
      "   macro avg       0.01      0.11      0.02       100\n",
      "weighted avg       0.01      0.07      0.01       100\n",
      "\n"
     ]
    }
   ],
   "source": [
    "# Classification Report for unsupervised models - TF-IDF\n",
    "print('Classification Reports - TF-IDF:')\n",
    "print('\\n')\n",
    "print('Restricted Boltzmann Machine:')\n",
    "print(class_rep_rbm)\n",
    "print('\\n')\n",
    "\n",
    "# Classification Report for unsupervised models - LSA\n",
    "print('Classification Reports - LSA:')\n",
    "print('\\n')\n",
    "print('Restricted Boltzmann Machine:')\n",
    "print(class_rep_rbm_lsa)"
   ]
  },
  {
   "cell_type": "code",
   "execution_count": 99,
   "metadata": {
    "scrolled": true
   },
   "outputs": [
    {
     "name": "stdout",
     "output_type": "stream",
     "text": [
      "Clustering Evaluation\n",
      "\n",
      "\n",
      "Adj Rand Score - TFIDF:\n",
      "Kmeans: 0.65\n",
      "Kmeans - PCA: 0.37\n",
      "Kmeans - Norm: 0.62\n",
      "Mean Shift: 0.26\n",
      "\n",
      "\n",
      "Adj Rand Score - LSA:\n",
      "Kmeans: 0.64\n",
      "Kmeans - Norm: 0.64\n",
      "Mean Shift: 0.0\n"
     ]
    }
   ],
   "source": [
    "print('Clustering Evaluation')\n",
    "print('\\n')\n",
    "\n",
    "print('Adj Rand Score - TFIDF:')\n",
    "print(\"Kmeans: {:.2}\".format(ars_kmeans))\n",
    "print(\"Kmeans - PCA: {:.2}\".format(ars_kmeans_pca))\n",
    "print(\"Kmeans - Norm: {:.2}\".format(ars_kmeans_norm))\n",
    "print(\"Mean Shift: {:.2}\".format(ars_meanshift))\n",
    "print('\\n')\n",
    "\n",
    "print('Adj Rand Score - LSA:')\n",
    "print(\"Kmeans: {:.2}\".format(ars_kmeans_lsa))\n",
    "print(\"Kmeans - Norm: {:.2}\".format(ars_kmeans_norm_lsa))\n",
    "print(\"Mean Shift: {:.2}\".format(ars_meanshift_lsa))"
   ]
  },
  {
   "cell_type": "code",
   "execution_count": null,
   "metadata": {},
   "outputs": [],
   "source": []
  }
 ],
 "metadata": {
  "kernelspec": {
   "display_name": "Python 3",
   "language": "python",
   "name": "python3"
  },
  "language_info": {
   "codemirror_mode": {
    "name": "ipython",
    "version": 3
   },
   "file_extension": ".py",
   "mimetype": "text/x-python",
   "name": "python",
   "nbconvert_exporter": "python",
   "pygments_lexer": "ipython3",
   "version": "3.7.3"
  }
 },
 "nbformat": 4,
 "nbformat_minor": 2
}
