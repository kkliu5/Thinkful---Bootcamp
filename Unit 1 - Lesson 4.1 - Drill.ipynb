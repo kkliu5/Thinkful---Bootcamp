{
 "cells": [
  {
   "cell_type": "markdown",
   "metadata": {},
   "source": [
    "# Does a new supplement help people sleep better?\n",
    "* The change from the control: \n",
    "    * New supplement and placebo pill\n",
    "* A sample:\n",
    "    * People with sleeping conditions\n",
    "* A hypothesis:\n",
    "    * The sample with the new supplement will have a better sleep\n",
    "* Outcome of interest:\n",
    "    * Monitor sleep duration and time it takes to fall asleep through brain activity. If subjects sleep longer or faster then the new supplement help people sleep better.\n",
    "* Other measured variables:\n",
    "    * Age, gender, medical conditions\n",
    "\n",
    "# Will new uniforms help a gym's business?\n",
    "* The change from the control:\n",
    "    * New uniforms and old uniforms\n",
    "* A sample:\n",
    "    * One gym location for a entire year\n",
    "* A hypothesis:\n",
    "    * The gym will increase in revenue if they wear new uniforms\n",
    "* Outcome of interest:\n",
    "    * Revenue \n",
    "* Other measured variables:\n",
    "    * Marketing expense for the year, equipment expenses for the year. \n",
    "    \n",
    "# Will a new homepage improve my online exotic pet rental business?\n",
    "* The change from the control: \n",
    "    * New homepage and old homepage\n",
    "* A sample:\n",
    "    * People on email listing. \n",
    "* A hypothesis:\n",
    "    * People that visit the new homepage will increase exotic pet rentals\n",
    "* Outcome of interest:\n",
    "    * Number of rentals or revenue\n",
    "* Other measured variables:\n",
    "    * Age, gender, location\n",
    "    \n",
    "# If I put 'please read' in the email subject will more people read my emails?\n",
    "* The change from the control:\n",
    "    * 'Please read' in email subject and without in email \n",
    "* A sample:\n",
    "    * People in email listing\n",
    "* A hypothesis:\n",
    "    * Emails sent with 'Please read' will open the email\n",
    "* Outcome of interest:\n",
    "    * Number of open emails\n",
    "* Other measured variables:\n",
    "    * "
   ]
  },
  {
   "cell_type": "code",
   "execution_count": null,
   "metadata": {},
   "outputs": [],
   "source": []
  }
 ],
 "metadata": {
  "kernelspec": {
   "display_name": "Python 3",
   "language": "python",
   "name": "python3"
  },
  "language_info": {
   "codemirror_mode": {
    "name": "ipython",
    "version": 3
   },
   "file_extension": ".py",
   "mimetype": "text/x-python",
   "name": "python",
   "nbconvert_exporter": "python",
   "pygments_lexer": "ipython3",
   "version": "3.7.2"
  }
 },
 "nbformat": 4,
 "nbformat_minor": 2
}
