{
 "cells": [
  {
   "cell_type": "code",
   "execution_count": 170,
   "metadata": {},
   "outputs": [],
   "source": [
    "%matplotlib inline\n",
    "import numpy as np\n",
    "import pandas as pd\n",
    "import matplotlib.pyplot as plt\n",
    "import seaborn as sns\n",
    "import scipy.stats as stats\n",
    "\n",
    "\n",
    "#Loading Working Data - https://www.kaggle.com/ronitf/heart-disease-uci\n",
    "df = pd.read_csv('/Users/Kevin/Files/Thinkful/Data Files/ESSdata_Thinkful.txt')"
   ]
  },
  {
   "cell_type": "code",
   "execution_count": 171,
   "metadata": {},
   "outputs": [
    {
     "name": "stdout",
     "output_type": "stream",
     "text": [
      "<class 'pandas.core.frame.DataFrame'>\n",
      "RangeIndex: 8594 entries, 0 to 8593\n",
      "Data columns (total 13 columns):\n",
      "cntry      8594 non-null object\n",
      "idno       8594 non-null float64\n",
      "year       8594 non-null int64\n",
      "tvtot      8586 non-null float64\n",
      "ppltrst    8580 non-null float64\n",
      "pplfair    8555 non-null float64\n",
      "pplhlp     8569 non-null float64\n",
      "happy      8563 non-null float64\n",
      "sclmeet    8579 non-null float64\n",
      "sclact     8500 non-null float64\n",
      "gndr       8584 non-null float64\n",
      "agea       8355 non-null float64\n",
      "partner    8577 non-null float64\n",
      "dtypes: float64(11), int64(1), object(1)\n",
      "memory usage: 872.9+ KB\n"
     ]
    }
   ],
   "source": [
    "df.info()"
   ]
  },
  {
   "cell_type": "code",
   "execution_count": 172,
   "metadata": {},
   "outputs": [
    {
     "data": {
      "text/html": [
       "<div>\n",
       "<style scoped>\n",
       "    .dataframe tbody tr th:only-of-type {\n",
       "        vertical-align: middle;\n",
       "    }\n",
       "\n",
       "    .dataframe tbody tr th {\n",
       "        vertical-align: top;\n",
       "    }\n",
       "\n",
       "    .dataframe thead th {\n",
       "        text-align: right;\n",
       "    }\n",
       "</style>\n",
       "<table border=\"1\" class=\"dataframe\">\n",
       "  <thead>\n",
       "    <tr style=\"text-align: right;\">\n",
       "      <th></th>\n",
       "      <th>cntry</th>\n",
       "      <th>idno</th>\n",
       "      <th>year</th>\n",
       "      <th>tvtot</th>\n",
       "      <th>ppltrst</th>\n",
       "      <th>pplfair</th>\n",
       "      <th>pplhlp</th>\n",
       "      <th>happy</th>\n",
       "      <th>sclmeet</th>\n",
       "      <th>sclact</th>\n",
       "      <th>gndr</th>\n",
       "      <th>agea</th>\n",
       "      <th>partner</th>\n",
       "    </tr>\n",
       "  </thead>\n",
       "  <tbody>\n",
       "    <tr>\n",
       "      <th>0</th>\n",
       "      <td>CH</td>\n",
       "      <td>5.0</td>\n",
       "      <td>6</td>\n",
       "      <td>3.0</td>\n",
       "      <td>3.0</td>\n",
       "      <td>10.0</td>\n",
       "      <td>5.0</td>\n",
       "      <td>8.0</td>\n",
       "      <td>5.0</td>\n",
       "      <td>4.0</td>\n",
       "      <td>2.0</td>\n",
       "      <td>60.0</td>\n",
       "      <td>1.0</td>\n",
       "    </tr>\n",
       "    <tr>\n",
       "      <th>1</th>\n",
       "      <td>CH</td>\n",
       "      <td>25.0</td>\n",
       "      <td>6</td>\n",
       "      <td>6.0</td>\n",
       "      <td>5.0</td>\n",
       "      <td>7.0</td>\n",
       "      <td>5.0</td>\n",
       "      <td>9.0</td>\n",
       "      <td>3.0</td>\n",
       "      <td>2.0</td>\n",
       "      <td>2.0</td>\n",
       "      <td>59.0</td>\n",
       "      <td>1.0</td>\n",
       "    </tr>\n",
       "    <tr>\n",
       "      <th>2</th>\n",
       "      <td>CH</td>\n",
       "      <td>26.0</td>\n",
       "      <td>6</td>\n",
       "      <td>1.0</td>\n",
       "      <td>8.0</td>\n",
       "      <td>8.0</td>\n",
       "      <td>8.0</td>\n",
       "      <td>7.0</td>\n",
       "      <td>6.0</td>\n",
       "      <td>3.0</td>\n",
       "      <td>1.0</td>\n",
       "      <td>24.0</td>\n",
       "      <td>2.0</td>\n",
       "    </tr>\n",
       "    <tr>\n",
       "      <th>3</th>\n",
       "      <td>CH</td>\n",
       "      <td>28.0</td>\n",
       "      <td>6</td>\n",
       "      <td>4.0</td>\n",
       "      <td>6.0</td>\n",
       "      <td>6.0</td>\n",
       "      <td>7.0</td>\n",
       "      <td>10.0</td>\n",
       "      <td>6.0</td>\n",
       "      <td>2.0</td>\n",
       "      <td>2.0</td>\n",
       "      <td>64.0</td>\n",
       "      <td>1.0</td>\n",
       "    </tr>\n",
       "    <tr>\n",
       "      <th>4</th>\n",
       "      <td>CH</td>\n",
       "      <td>29.0</td>\n",
       "      <td>6</td>\n",
       "      <td>5.0</td>\n",
       "      <td>6.0</td>\n",
       "      <td>7.0</td>\n",
       "      <td>5.0</td>\n",
       "      <td>8.0</td>\n",
       "      <td>7.0</td>\n",
       "      <td>2.0</td>\n",
       "      <td>2.0</td>\n",
       "      <td>55.0</td>\n",
       "      <td>1.0</td>\n",
       "    </tr>\n",
       "  </tbody>\n",
       "</table>\n",
       "</div>"
      ],
      "text/plain": [
       "  cntry  idno  year  tvtot  ppltrst  pplfair  pplhlp  happy  sclmeet  sclact  \\\n",
       "0    CH   5.0     6    3.0      3.0     10.0     5.0    8.0      5.0     4.0   \n",
       "1    CH  25.0     6    6.0      5.0      7.0     5.0    9.0      3.0     2.0   \n",
       "2    CH  26.0     6    1.0      8.0      8.0     8.0    7.0      6.0     3.0   \n",
       "3    CH  28.0     6    4.0      6.0      6.0     7.0   10.0      6.0     2.0   \n",
       "4    CH  29.0     6    5.0      6.0      7.0     5.0    8.0      7.0     2.0   \n",
       "\n",
       "   gndr  agea  partner  \n",
       "0   2.0  60.0      1.0  \n",
       "1   2.0  59.0      1.0  \n",
       "2   1.0  24.0      2.0  \n",
       "3   2.0  64.0      1.0  \n",
       "4   2.0  55.0      1.0  "
      ]
     },
     "execution_count": 172,
     "metadata": {},
     "output_type": "execute_result"
    }
   ],
   "source": [
    "df.head()"
   ]
  },
  {
   "cell_type": "code",
   "execution_count": 173,
   "metadata": {},
   "outputs": [
    {
     "data": {
      "text/plain": [
       "cntry        0\n",
       "idno         0\n",
       "year         0\n",
       "tvtot        8\n",
       "ppltrst     14\n",
       "pplfair     39\n",
       "pplhlp      25\n",
       "happy       31\n",
       "sclmeet     15\n",
       "sclact      94\n",
       "gndr        10\n",
       "agea       239\n",
       "partner     17\n",
       "dtype: int64"
      ]
     },
     "execution_count": 173,
     "metadata": {},
     "output_type": "execute_result"
    }
   ],
   "source": [
    "df.isna().sum()"
   ]
  },
  {
   "cell_type": "code",
   "execution_count": 174,
   "metadata": {},
   "outputs": [],
   "source": [
    "df = df.dropna()"
   ]
  },
  {
   "cell_type": "markdown",
   "metadata": {},
   "source": [
    "# 1. Did people become less trusting from 2012 to 2014? Compute results for each country in the sample."
   ]
  },
  {
   "cell_type": "code",
   "execution_count": 175,
   "metadata": {},
   "outputs": [
    {
     "name": "stdout",
     "output_type": "stream",
     "text": [
      "year\n",
      "6    5.578482\n",
      "7    5.571394\n",
      "Name: ppltrst, dtype: float64\n"
     ]
    }
   ],
   "source": [
    "q1 = df.groupby('year')['ppltrst'].mean()\n",
    "\n",
    "print(q1)"
   ]
  },
  {
   "cell_type": "code",
   "execution_count": 176,
   "metadata": {},
   "outputs": [
    {
     "data": {
      "image/png": "[encoded data removed]",
      "text/plain": [
       "<Figure size 432x288 with 1 Axes>"
      ]
     },
     "metadata": {
      "needs_background": "light"
     },
     "output_type": "display_data"
    },
    {
     "data": {
      "image/png": "[encoded data removed]",
      "text/plain": [
       "<Figure size 432x288 with 1 Axes>"
      ]
     },
     "metadata": {
      "needs_background": "light"
     },
     "output_type": "display_data"
    }
   ],
   "source": [
    "# plot data.\n",
    "df.groupby('year')['ppltrst'].hist(by = df['year'], sharey=True, sharex=True)\n",
    "plt.show()"
   ]
  },
  {
   "cell_type": "code",
   "execution_count": 177,
   "metadata": {},
   "outputs": [
    {
     "name": "stdout",
     "output_type": "stream",
     "text": [
      "F Statistic: 0.15797212748857214\n",
      "P-Value: 0.8744865987427111\n"
     ]
    }
   ],
   "source": [
    "df1 = pd.DataFrame()\n",
    "\n",
    "ppltrst_2012 = list(df.loc[df['year'] == 6,'ppltrst'])\n",
    "ppltrst_2014 = list(df.loc[df['year'] == 7,'ppltrst'])\n",
    "\n",
    "# creating even lentgh lists. taking the shortest list and truncating longer list\n",
    "if len(ppltrst_2012) < len(ppltrst_2014):\n",
    "    short_list = len(ppltrst_2012)\n",
    "else:\n",
    "    short_list = len(ppltrst_2014)\n",
    "    \n",
    "ppltrst_2012 = ppltrst_2012[:short_list]\n",
    "ppltrst_2014 = ppltrst_2014[:short_list]\n",
    "\n",
    "#combining data into dataframe\n",
    "df1['2012'] = ppltrst_2012\n",
    "df1['2014'] = ppltrst_2014\n",
    "\n",
    "#calculating comparision test\n",
    "F, p = stats.ttest_rel(\n",
    "    df1['2012'],\n",
    "    df1['2014']\n",
    "    )\n",
    "\n",
    "# The F statistic.\n",
    "print('F Statistic:', F)\n",
    "\n",
    "# The p-value\n",
    "print('P-Value:', p)\n",
    "\n",
    "\n",
    "#paired t test\n",
    "# comparing data, with users from the same group, two groups"
   ]
  },
  {
   "cell_type": "markdown",
   "metadata": {},
   "source": [
    "People did not became less trusting from 2012 to 2014, since the p-value of 0.87 is not < 0.05"
   ]
  },
  {
   "cell_type": "markdown",
   "metadata": {},
   "source": [
    "# 2. Did people become happier from 2012 to 2014? Compute results for each country in the sample."
   ]
  },
  {
   "cell_type": "code",
   "execution_count": 178,
   "metadata": {},
   "outputs": [
    {
     "name": "stdout",
     "output_type": "stream",
     "text": [
      "year  cntry\n",
      "6     CH       8.083333\n",
      "      CZ       6.790349\n",
      "      DE       7.307692\n",
      "      ES       7.557858\n",
      "      NO       8.252825\n",
      "      SE       7.901048\n",
      "7     CH       8.142665\n",
      "      CZ       6.922442\n",
      "      DE       7.857143\n",
      "      ES       7.450617\n",
      "      NO       7.919944\n",
      "      SE       7.938870\n",
      "Name: happy, dtype: float64\n"
     ]
    }
   ],
   "source": [
    "q2 = df.groupby(['year','cntry'])['happy'].mean()\n",
    "\n",
    "print(q2)"
   ]
  },
  {
   "cell_type": "code",
   "execution_count": 179,
   "metadata": {},
   "outputs": [
    {
     "data": {
      "text/plain": [
       "<seaborn.axisgrid.FacetGrid at 0x1a25e95b70>"
      ]
     },
     "execution_count": 179,
     "metadata": {},
     "output_type": "execute_result"
    },
    {
     "data": {
      "image/png": "[encoded data removed]",
      "text/plain": [
       "<Figure size 432x1296 with 12 Axes>"
      ]
     },
     "metadata": {
      "needs_background": "light"
     },
     "output_type": "display_data"
    }
   ],
   "source": [
    "g = sns.FacetGrid(df,\n",
    "                  row=\"cntry\",\n",
    "                  col=\"year\",\n",
    "                  margin_titles=True\n",
    "                 )\n",
    "\n",
    "g.map(plt.hist,\n",
    "      \"happy\",\n",
    "      color=\"steelblue\",\n",
    "     )"
   ]
  },
  {
   "cell_type": "code",
   "execution_count": 186,
   "metadata": {},
   "outputs": [
    {
     "name": "stdout",
     "output_type": "stream",
     "text": [
      "CH - F Statistic: -0.7800633792362622\n",
      "CZ - F Statistic: -1.0703576573050146\n",
      "DE - F Statistic: -0.7030499101780563\n",
      "ES - F Statistic: 1.3860590934427537\n",
      "NO - F Statistic: 4.149373860727647\n",
      "SE - F Statistic: -0.48955055558479654\n",
      "\n",
      "CH - P-Value: 0.43560606784786937\n",
      "CZ - P-Value: 0.2848887319230953\n",
      "DE - P-Value: 0.49543876166584\n",
      "ES - P-Value: 0.16600158102705556\n",
      "NO - P-Value: 3.739949572463859e-05\n",
      "SE - P-Value: 0.6245771053748665\n"
     ]
    }
   ],
   "source": [
    "#paired t test\n",
    "# comparing data, with users from the same group, two groups\n",
    "\n",
    "#creating dataframes\n",
    "df2_CH = pd.DataFrame()\n",
    "df2_CZ = pd.DataFrame()\n",
    "df2_DE = pd.DataFrame()\n",
    "df2_ES = pd.DataFrame()\n",
    "df2_NO = pd.DataFrame()\n",
    "df2_SE = pd.DataFrame()\n",
    "\n",
    "#CH\n",
    "happy_CH_2012 = list(df.loc[(df['year'] == 6) & (df['cntry'] == 'CH'),'happy'])\n",
    "happy_CH_2014 = list(df.loc[(df['year'] == 7) & (df['cntry'] == 'CH'),'happy'])\n",
    "#CZ\n",
    "happy_CZ_2012 = list(df.loc[(df['year'] == 6) & (df['cntry'] == 'CZ'),'happy'])\n",
    "happy_CZ_2014 = list(df.loc[(df['year'] == 7) & (df['cntry'] == 'CZ'),'happy'])\n",
    "#DE\n",
    "happy_DE_2012 = list(df.loc[(df['year'] == 6) & (df['cntry'] == 'DE'),'happy'])\n",
    "happy_DE_2014 = list(df.loc[(df['year'] == 7) & (df['cntry'] == 'DE'),'happy'])\n",
    "#ES\n",
    "happy_ES_2012 = list(df.loc[(df['year'] == 6) & (df['cntry'] == 'ES'),'happy'])\n",
    "happy_ES_2014 = list(df.loc[(df['year'] == 7) & (df['cntry'] == 'ES'),'happy'])\n",
    "#NO\n",
    "happy_NO_2012 = list(df.loc[(df['year'] == 6) & (df['cntry'] == 'NO'),'happy'])\n",
    "happy_NO_2014 = list(df.loc[(df['year'] == 7) & (df['cntry'] == 'NO'),'happy'])\n",
    "#SE\n",
    "happy_SE_2012 = list(df.loc[(df['year'] == 6) & (df['cntry'] == 'SE'),'happy'])\n",
    "happy_SE_2014 = list(df.loc[(df['year'] == 7) & (df['cntry'] == 'SE'),'happy'])\n",
    "\n",
    "# creating even lentgh lists. taking the shortest list and truncating longer list\n",
    "def even_list(list_1, list_2):\n",
    "    if len(list_1) < len(list_2):\n",
    "        short_list = len(list_1)\n",
    "    else:\n",
    "        short_list = len(list_2)\n",
    "    \n",
    "    list_1 = list_1[:short_list]\n",
    "    list_2 = list_2[:short_list]\n",
    "    \n",
    "    return list_1, list_2\n",
    "\n",
    "\n",
    "happy_CH_2012, happy_CH_2014 = even_list(happy_CH_2012, happy_CH_2014)\n",
    "happy_CZ_2012, happy_CZ_2014 = even_list(happy_CZ_2012, happy_CZ_2014)\n",
    "happy_DE_2012, happy_DE_2014 = even_list(happy_DE_2012, happy_DE_2014)\n",
    "happy_ES_2012, happy_ES_2014 = even_list(happy_ES_2012, happy_ES_2014)\n",
    "happy_NO_2012, happy_NO_2014 = even_list(happy_NO_2012, happy_NO_2014)\n",
    "happy_SE_2012, happy_SE_2014 = even_list(happy_SE_2012, happy_SE_2014)\n",
    "\n",
    "#combining data into dataframe\n",
    "df2_CH['2012'] = happy_CH_2012\n",
    "df2_CH['2014'] = happy_CH_2014\n",
    "df2_CZ['2012'] = happy_CZ_2012\n",
    "df2_CZ['2014'] = happy_CZ_2014\n",
    "df2_DE['2012'] = happy_DE_2012\n",
    "df2_DE['2014'] = happy_DE_2014\n",
    "df2_ES['2012'] = happy_ES_2012\n",
    "df2_ES['2014'] = happy_ES_2014\n",
    "df2_NO['2012'] = happy_NO_2012\n",
    "df2_NO['2014'] = happy_NO_2014\n",
    "df2_SE['2012'] = happy_SE_2012\n",
    "df2_SE['2014'] = happy_SE_2014\n",
    "\n",
    "#calculating comparision test\n",
    "F_CH, p_CH = stats.ttest_rel(df2_CH['2012'], df2_CH['2014'])\n",
    "F_CZ, p_CZ = stats.ttest_rel(df2_CZ['2012'], df2_CZ['2014'])\n",
    "F_DE, p_DE = stats.ttest_rel(df2_DE['2012'], df2_DE['2014'])\n",
    "F_ES, p_ES = stats.ttest_rel(df2_ES['2012'], df2_ES['2014'])\n",
    "F_NO, p_NO = stats.ttest_rel(df2_NO['2012'], df2_NO['2014'])\n",
    "F_SE, p_SE = stats.ttest_rel(df2_SE['2012'], df2_SE['2014'])\n",
    "\n",
    "# The F statistic.\n",
    "print('CH - F Statistic:', F_CH)\n",
    "print('CZ - F Statistic:', F_CZ)\n",
    "print('DE - F Statistic:', F_DE)\n",
    "print('ES - F Statistic:', F_ES)\n",
    "print('NO - F Statistic:', F_NO)\n",
    "print('SE - F Statistic:', F_SE)\n",
    "\n",
    "print('')\n",
    "\n",
    "# The p-value\n",
    "print('CH - P-Value:', p_CH)\n",
    "print('CZ - P-Value:', p_CZ)\n",
    "print('DE - P-Value:', p_DE)\n",
    "print('ES - P-Value:', p_ES)\n",
    "print('NO - P-Value:', p_NO)\n",
    "print('SE - P-Value:', p_SE)"
   ]
  },
  {
   "cell_type": "markdown",
   "metadata": {},
   "source": [
    "Every country except NO changed their happiness. From the averages we can see that NO became less happy. "
   ]
  },
  {
   "cell_type": "markdown",
   "metadata": {},
   "source": [
    "# 3. Who reported watching more TV in 2012, men or women?"
   ]
  },
  {
   "cell_type": "code",
   "execution_count": 12,
   "metadata": {},
   "outputs": [
    {
     "name": "stdout",
     "output_type": "stream",
     "text": [
      "year  gndr\n",
      "6     1.0     3.901906\n",
      "      2.0     3.944393\n",
      "7     1.0     3.749653\n",
      "      2.0     3.840395\n",
      "Name: tvtot, dtype: float64\n"
     ]
    }
   ],
   "source": [
    "q3 = df.groupby(['year','gndr'])['tvtot'].mean()\n",
    "\n",
    "print(q3)"
   ]
  },
  {
   "cell_type": "code",
   "execution_count": 188,
   "metadata": {},
   "outputs": [
    {
     "data": {
      "text/plain": [
       "<seaborn.axisgrid.FacetGrid at 0x1a26b79080>"
      ]
     },
     "execution_count": 188,
     "metadata": {},
     "output_type": "execute_result"
    },
    {
     "data": {
      "image/png": "[encoded data removed]",
      "text/plain": [
       "<Figure size 432x432 with 4 Axes>"
      ]
     },
     "metadata": {
      "needs_background": "light"
     },
     "output_type": "display_data"
    }
   ],
   "source": [
    "g = sns.FacetGrid(df,\n",
    "                  row=\"gndr\",\n",
    "                  col=\"year\",\n",
    "                  margin_titles=True\n",
    "                 )\n",
    "\n",
    "g.map(plt.hist,\n",
    "      \"tvtot\",\n",
    "      color=\"steelblue\",\n",
    "     )"
   ]
  },
  {
   "cell_type": "code",
   "execution_count": 189,
   "metadata": {},
   "outputs": [
    {
     "name": "stdout",
     "output_type": "stream",
     "text": [
      "F Statistic: -0.5567477634927981\n",
      "P-Value: 0.577730662452264\n"
     ]
    }
   ],
   "source": [
    "df3 = pd.DataFrame()\n",
    "\n",
    "tvtot_M_2012 = list(df.loc[(df['year'] == 6) & (df['gndr'] == 1),'tvtot'])\n",
    "tvtot_F_2012 = list(df.loc[(df['year'] == 6) & (df['gndr'] == 2),'tvtot'])\n",
    "\n",
    "# creating even lentgh lists. taking the shortest list and truncating longer list\n",
    "tvtot_M_2012, tvtot_F_2012 = even_list(tvtot_M_2012, tvtot_F_2012)\n",
    "\n",
    "#combining data into dataframe\n",
    "df3['male'] = tvtot_M_2012\n",
    "df3['female'] = tvtot_F_2012\n",
    "\n",
    "#calculating comparision test\n",
    "F, p = stats.ttest_ind(\n",
    "    df3['male'],\n",
    "    df3['female']\n",
    "    )\n",
    "\n",
    "# The F statistic.\n",
    "print('F Statistic:', F)\n",
    "\n",
    "# The p-value\n",
    "print('P-Value:', p)\n",
    "\n",
    "#2 sample t test\n",
    "# comparing data, with users from the different group, two groups"
   ]
  },
  {
   "cell_type": "markdown",
   "metadata": {},
   "source": [
    "Both men and women reported that they watched the same amount of television in 2012. Since p-value of 0.57 is not < 0.05. "
   ]
  },
  {
   "cell_type": "markdown",
   "metadata": {},
   "source": [
    "# 4. Who was more likely to believe people were fair in 2012, people living with a partner or people living alone?"
   ]
  },
  {
   "cell_type": "code",
   "execution_count": 13,
   "metadata": {},
   "outputs": [
    {
     "name": "stdout",
     "output_type": "stream",
     "text": [
      "year  partner\n",
      "6     1.0        6.080736\n",
      "      2.0        5.856965\n",
      "7     1.0        6.046610\n",
      "      2.0        5.963517\n",
      "Name: pplfair, dtype: float64\n"
     ]
    }
   ],
   "source": [
    "q4 = df.groupby(['year','partner'])['pplfair'].mean()\n",
    "\n",
    "print(q4)"
   ]
  },
  {
   "cell_type": "code",
   "execution_count": 190,
   "metadata": {},
   "outputs": [
    {
     "data": {
      "text/plain": [
       "<seaborn.axisgrid.FacetGrid at 0x1a270dcb38>"
      ]
     },
     "execution_count": 190,
     "metadata": {},
     "output_type": "execute_result"
    },
    {
     "data": {
      "image/png": "[encoded data removed]",
      "text/plain": [
       "<Figure size 432x432 with 4 Axes>"
      ]
     },
     "metadata": {
      "needs_background": "light"
     },
     "output_type": "display_data"
    }
   ],
   "source": [
    "g = sns.FacetGrid(df,\n",
    "                  row=\"partner\",\n",
    "                  col=\"year\",\n",
    "                  margin_titles=True\n",
    "                 )\n",
    "\n",
    "g.map(plt.hist,\n",
    "      \"pplfair\",\n",
    "      color=\"steelblue\",\n",
    "     )"
   ]
  },
  {
   "cell_type": "code",
   "execution_count": 191,
   "metadata": {},
   "outputs": [
    {
     "name": "stdout",
     "output_type": "stream",
     "text": [
      "F Statistic: -3.1544268331945524\n",
      "P-Value: 0.0016237528699586136\n"
     ]
    }
   ],
   "source": [
    "df4 = pd.DataFrame()\n",
    "\n",
    "pplfair_p1_2012 = list(df.loc[(df['year'] == 6) & (df['partner'] == 1),'pplfair'])\n",
    "pplfair_p2_2012 = list(df.loc[(df['year'] == 6) & (df['partner'] == 2),'pplfair'])\n",
    "\n",
    "# creating even lentgh lists. taking the shortest list and truncating longer list\n",
    "pplfair_p1_2012, pplfair_p2_2012 = even_list(pplfair_p1_2012, pplfair_p2_2012)\n",
    "\n",
    "#combining data into dataframe\n",
    "df4['partner'] = pplfair_p1_2012\n",
    "df4['alone'] = pplfair_p2_2012\n",
    "\n",
    "#calculating comparision test\n",
    "F, p = stats.ttest_ind(\n",
    "    df4['partner'],\n",
    "    df4['alone']\n",
    "    )\n",
    "\n",
    "# The F statistic.\n",
    "print('F Statistic:', F)\n",
    "\n",
    "# The p-value\n",
    "print('P-Value:', p)\n",
    "\n",
    "#2 sample t test\n",
    "# comparing data, with users from the different group, two groups"
   ]
  },
  {
   "cell_type": "markdown",
   "metadata": {},
   "source": [
    "People living with a partner believe that people are fair. Since p-value of 0.0016 is < 0.05. "
   ]
  },
  {
   "cell_type": "markdown",
   "metadata": {},
   "source": [
    "# 5. Pick three or four of the countries in the sample and compare how often people met socially in 2014. Are there differences, and if so, which countries stand out?"
   ]
  },
  {
   "cell_type": "code",
   "execution_count": 14,
   "metadata": {},
   "outputs": [
    {
     "name": "stdout",
     "output_type": "stream",
     "text": [
      "year  cntry\n",
      "6     CH       5.080519\n",
      "      CZ       4.648855\n",
      "      DE       5.000000\n",
      "      ES       5.228737\n",
      "      NO       5.530780\n",
      "      SE       5.528115\n",
      "7     CH       5.160622\n",
      "      CZ       4.445802\n",
      "      DE       4.428571\n",
      "      ES       5.260116\n",
      "      NO       5.302326\n",
      "      SE       5.426211\n",
      "Name: sclmeet, dtype: float64\n"
     ]
    }
   ],
   "source": [
    "q5 = df.groupby(['year','cntry'])['sclmeet'].mean()\n",
    "\n",
    "print(q5)"
   ]
  },
  {
   "cell_type": "code",
   "execution_count": 192,
   "metadata": {
    "scrolled": true
   },
   "outputs": [
    {
     "data": {
      "text/plain": [
       "<seaborn.axisgrid.FacetGrid at 0x1a274dab70>"
      ]
     },
     "execution_count": 192,
     "metadata": {},
     "output_type": "execute_result"
    },
    {
     "data": {
      "image/png": "[encoded data removed]",
      "text/plain": [
       "<Figure size 432x1296 with 12 Axes>"
      ]
     },
     "metadata": {
      "needs_background": "light"
     },
     "output_type": "display_data"
    }
   ],
   "source": [
    "g = sns.FacetGrid(df,\n",
    "                  row=\"cntry\",\n",
    "                  col=\"year\",\n",
    "                  margin_titles=True\n",
    "                 )\n",
    "\n",
    "g.map(plt.hist,\n",
    "      \"sclmeet\",\n",
    "      color=\"steelblue\",\n",
    "     )"
   ]
  },
  {
   "cell_type": "code",
   "execution_count": 203,
   "metadata": {},
   "outputs": [
    {
     "name": "stdout",
     "output_type": "stream",
     "text": [
      "F Statistic: 51.57170831289908\n",
      "P-Value: 2.632946728404087e-32\n"
     ]
    }
   ],
   "source": [
    "df5 = pd.DataFrame()\n",
    "\n",
    "sclmeet_CH_2014 = list(df.loc[(df['year'] == 7) & (df['cntry'] == 'CH'),'sclmeet'])\n",
    "sclmeet_CZ_2014 = list(df.loc[(df['year'] == 7) & (df['cntry'] == 'CZ'),'sclmeet'])\n",
    "sclmeet_ES_2014 = list(df.loc[(df['year'] == 7) & (df['cntry'] == 'ES'),'sclmeet'])\n",
    "sclmeet_NO_2014 = list(df.loc[(df['year'] == 7) & (df['cntry'] == 'NO'),'sclmeet'])\n",
    "\n",
    "# creating even lentgh lists. taking the shortest list and truncating longer list\n",
    "def multi_even_list(list_1, list_2, list_3, list_4):\n",
    "    short_list = min(len(list_1),len(list_2),len(list_3),len(list_4))\n",
    "    \n",
    "    list_1 = list_1[:short_list]\n",
    "    list_2 = list_2[:short_list]\n",
    "    list_3 = list_3[:short_list]\n",
    "    list_4 = list_4[:short_list]\n",
    "    \n",
    "    return list_1, list_2, list_3, list_4\n",
    "\n",
    "\n",
    "# creating even lentgh lists. taking the shortest list and truncating longer list\n",
    "sclmeet_CH_2014, sclmeet_CZ_2014, sclmeet_ES_2014, sclmeet_NO_2014 = multi_even_list(sclmeet_CH_2014, sclmeet_CZ_2014, sclmeet_ES_2014, sclmeet_NO_2014)\n",
    "\n",
    "#combining data into dataframe\n",
    "df5['CH'] = sclmeet_CH_2014\n",
    "df5['CZ'] = sclmeet_CZ_2014\n",
    "df5['ES'] = sclmeet_ES_2014\n",
    "df5['NO'] = sclmeet_NO_2014\n",
    "\n",
    "#calculating comparision test\n",
    "F, p = stats.f_oneway(\n",
    "    df5['CH'],\n",
    "    df5['CZ']\n",
    "    ,df5['ES']\n",
    "    ,df5['NO']\n",
    "    )\n",
    "\n",
    "# The F statistic.\n",
    "print('F Statistic:', F)\n",
    "\n",
    "# The p-value\n",
    "print('P-Value:', p)\n",
    "\n",
    "#ANOVA Test\n",
    "# comparing data, with users from the different group, more than 3 groups"
   ]
  },
  {
   "cell_type": "markdown",
   "metadata": {},
   "source": [
    "Countries(CH, CZ, ES, NO) in 2014 differed in how often they met socially. Since p-value of 0.0 is < 0.05. The country that stood out was CZ.  "
   ]
  },
  {
   "cell_type": "markdown",
   "metadata": {},
   "source": [
    "# 6. Pick three or four of the countries in the sample and compare how often people took part in social activities, relative to others their age, in 2014. Are there differences, and if so, which countries stand out?"
   ]
  },
  {
   "cell_type": "code",
   "execution_count": 15,
   "metadata": {
    "scrolled": true
   },
   "outputs": [
    {
     "name": "stdout",
     "output_type": "stream",
     "text": [
      "year  cntry\n",
      "6     CH       2.704724\n",
      "      CZ       2.613354\n",
      "      DE       2.857143\n",
      "      ES       2.560266\n",
      "      NO       2.965565\n",
      "      SE       2.917960\n",
      "7     CH       2.781699\n",
      "      CZ       2.703077\n",
      "      DE       2.714286\n",
      "      ES       2.616878\n",
      "      NO       2.859097\n",
      "      SE       2.879425\n",
      "Name: sclact, dtype: float64\n"
     ]
    }
   ],
   "source": [
    "q6 = df.groupby(['year','cntry'])['sclact'].mean()\n",
    "\n",
    "print(q6)"
   ]
  },
  {
   "cell_type": "code",
   "execution_count": 204,
   "metadata": {
    "scrolled": true
   },
   "outputs": [
    {
     "data": {
      "text/plain": [
       "<seaborn.axisgrid.FacetGrid at 0x1a27c74b38>"
      ]
     },
     "execution_count": 204,
     "metadata": {},
     "output_type": "execute_result"
    },
    {
     "data": {
      "image/png": "[encoded data removed]",
      "text/plain": [
       "<Figure size 432x1296 with 12 Axes>"
      ]
     },
     "metadata": {
      "needs_background": "light"
     },
     "output_type": "display_data"
    }
   ],
   "source": [
    "g = sns.FacetGrid(df,\n",
    "                  row=\"cntry\",\n",
    "                  col=\"year\",\n",
    "                  margin_titles=True\n",
    "                 )\n",
    "\n",
    "g.map(plt.hist,\n",
    "      \"sclact\",\n",
    "      color=\"steelblue\",\n",
    "     )"
   ]
  },
  {
   "cell_type": "code",
   "execution_count": 213,
   "metadata": {},
   "outputs": [
    {
     "name": "stdout",
     "output_type": "stream",
     "text": [
      "F Statistic: 9.909240150710145\n",
      "P-Value: 1.7138102989066455e-06\n"
     ]
    }
   ],
   "source": [
    "df6 = pd.DataFrame()\n",
    "\n",
    "sclact_CH_2014 = list(df.loc[(df['year'] == 7) & (df['cntry'] == 'CH'),'sclact'])\n",
    "sclact_CZ_2014 = list(df.loc[(df['year'] == 7) & (df['cntry'] == 'CZ'),'sclact'])\n",
    "sclact_ES_2014 = list(df.loc[(df['year'] == 7) & (df['cntry'] == 'ES'),'sclact'])\n",
    "sclact_NO_2014 = list(df.loc[(df['year'] == 7) & (df['cntry'] == 'NO'),'sclact'])\n",
    "\n",
    "# creating even lentgh lists. taking the shortest list and truncating longer list\n",
    "sclact_CH_2014, sclact_CZ_2014, sclact_ES_2014, sclact_NO_2014 = multi_even_list(sclact_CH_2014, sclact_CZ_2014, sclact_ES_2014, sclact_NO_2014)\n",
    "\n",
    "#combining data into dataframe\n",
    "df6['CH'] = sclact_CH_2014\n",
    "df6['CZ'] = sclact_CZ_2014\n",
    "df6['ES'] = sclact_ES_2014\n",
    "df6['NO'] = sclact_NO_2014\n",
    "\n",
    "#calculating comparision test\n",
    "F, p = stats.f_oneway(\n",
    "    df6['CH'],\n",
    "    df6['CZ'],\n",
    "    df6['ES'],\n",
    "    df6['NO']\n",
    "    )\n",
    "\n",
    "# The F statistic.\n",
    "print('F Statistic:', F)\n",
    "\n",
    "# The p-value\n",
    "print('P-Value:', p)\n",
    "\n",
    "#ANOVA Test\n",
    "# comparing data, with users from the different group, more than 3 groups"
   ]
  },
  {
   "cell_type": "markdown",
   "metadata": {},
   "source": [
    "Countries(CH, CZ, ES, NO) in 2014 differed in how often they took part in social activities, relative to others their age. Since p-value of 0.0 is < 0.05. The country that stood out was ES and NO.  "
   ]
  },
  {
   "cell_type": "code",
   "execution_count": null,
   "metadata": {},
   "outputs": [],
   "source": []
  }
 ],
 "metadata": {
  "kernelspec": {
   "display_name": "Python 3",
   "language": "python",
   "name": "python3"
  },
  "language_info": {
   "codemirror_mode": {
    "name": "ipython",
    "version": 3
   },
   "file_extension": ".py",
   "mimetype": "text/x-python",
   "name": "python",
   "nbconvert_exporter": "python",
   "pygments_lexer": "ipython3",
   "version": "3.7.3"
  }
 },
 "nbformat": 4,
 "nbformat_minor": 2
}
