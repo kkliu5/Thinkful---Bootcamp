{
 "cells": [
  {
   "cell_type": "markdown",
   "metadata": {},
   "source": [
    "1. Since the experiment has two different people reading slogans, it could be that Emperor Palpatine is more persuasive than Darth Vader, and not because of the slogan specifically. Can correct this by having one peson read both the slogans.\n",
    "\n",
    "2. Since Jar Jar Binks visited friendly planets and Mace Windu visted unfriendly planets it could be that regardless of who went to what planet, whoever spoke at the unfriendly planet will have the lower percentage regardless. Can fix this by having each person do 2 friendly and 2 unfriendly planets. Also each planet might not be comparable if the population size is different.\n",
    "\n",
    "3. Since HR workers are concentrated to three countries while IT workers are in all five countries. There could be some bias related to the countries. Can compare the HR and IT department of the three countries and exclude the other two countries.\n",
    "\n",
    "4. Since people have to voluntarily opt in the data collection, there is some bias and could be potentially exclude groups of people that do not want their data to be collected. They should rephrase their statement or use a more representative population.\n",
    "\n",
    "5. Since the exams were not given out randomly but systematically, \n"
   ]
  }
 ],
 "metadata": {
  "kernelspec": {
   "display_name": "Python 3",
   "language": "python",
   "name": "python3"
  },
  "language_info": {
   "codemirror_mode": {
    "name": "ipython",
    "version": 3
   },
   "file_extension": ".py",
   "mimetype": "text/x-python",
   "name": "python",
   "nbconvert_exporter": "python",
   "pygments_lexer": "ipython3",
   "version": "3.7.2"
  }
 },
 "nbformat": 4,
 "nbformat_minor": 2
}
