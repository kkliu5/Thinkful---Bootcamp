{
 "cells": [
  {
   "cell_type": "markdown",
   "metadata": {},
   "source": [
    "1. Bad - Can be answered with a data point\n",
    "2. Bad - Is very broad \n",
    "3. Good\n",
    "4. Bad - Can be answered with a data point\n",
    "5. Good \n",
    "6. Bad - Does not quantify what attraction is\n",
    "7. Bad - Can be answered from Google search\n",
    "8. Good \n",
    "9. Bad - Does not quantify what it means to be 'better to read'\n",
    "10. Bad - Can be answered from Google search \n"
   ]
  },
  {
   "cell_type": "code",
   "execution_count": null,
   "metadata": {},
   "outputs": [],
   "source": []
  }
 ],
 "metadata": {
  "kernelspec": {
   "display_name": "Python 3",
   "language": "python",
   "name": "python3"
  },
  "language_info": {
   "codemirror_mode": {
    "name": "ipython",
    "version": 3
   },
   "file_extension": ".py",
   "mimetype": "text/x-python",
   "name": "python",
   "nbconvert_exporter": "python",
   "pygments_lexer": "ipython3",
   "version": "3.7.2"
  }
 },
 "nbformat": 4,
 "nbformat_minor": 2
}
