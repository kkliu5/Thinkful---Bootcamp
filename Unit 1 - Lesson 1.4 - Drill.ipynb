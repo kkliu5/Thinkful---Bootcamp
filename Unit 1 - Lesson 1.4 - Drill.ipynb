{
 "cells": [
  {
   "cell_type": "markdown",
   "metadata": {},
   "source": [
    "1. To maximize profits for the company, I would calculate the product that would yield the highest return and chose that product to advertise. If the company wanted to increase the individuals to become purchasers of the product, we can calculate which product had the most page views and least amount of purchases. Therefore we can identify some type of improvement of the product and advertise it effectively. \n",
    "\n",
    "2. We can calculate the conversion rate of potential sign-ups to actual sign-up and break it down by the three different stages (email and password sign-up, plan choice, and payment). Whichever stage loses the most people could signal difficulties in completing that stage. We can also analyze the correlation of marketing spend to the amount of sign-ups on a weekly basis. \n",
    "\n",
    "3. To improve the website we can measure whether or not the new ranking system generates more profits or more purchases. We can do sample tests to rank the hotels based on different factors to see which system generates the most purchases. After we figure out which factors play the biggest role in generating purchases we can create an hybrid ranking system that accounts for the most effective factors.\n",
    "\n",
    "4. We can calculate the churn rate throughout historical data and see the pattern of change. We can set a baseline of how much churn we would like or how much churn is normal. Then we can find the deviation from the baseline. \n"
   ]
  },
  {
   "cell_type": "code",
   "execution_count": null,
   "metadata": {},
   "outputs": [],
   "source": []
  }
 ],
 "metadata": {
  "kernelspec": {
   "display_name": "Python 3",
   "language": "python",
   "name": "python3"
  },
  "language_info": {
   "codemirror_mode": {
    "name": "ipython",
    "version": 3
   },
   "file_extension": ".py",
   "mimetype": "text/x-python",
   "name": "python",
   "nbconvert_exporter": "python",
   "pygments_lexer": "ipython3",
   "version": "3.7.2"
  }
 },
 "nbformat": 4,
 "nbformat_minor": 2
}
