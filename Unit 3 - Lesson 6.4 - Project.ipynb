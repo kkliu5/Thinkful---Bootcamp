{
 "cells": [
  {
   "cell_type": "code",
   "execution_count": 86,
   "metadata": {},
   "outputs": [],
   "source": [
    "#Initializing\n",
    "%matplotlib inline\n",
    "import numpy as np\n",
    "import pandas as pd\n",
    "import matplotlib.pyplot as plt\n",
    "import seaborn as sns\n",
    "import sklearn\n",
    "\n",
    "\n",
    "from sklearn import linear_model\n",
    "from sklearn import neighbors\n",
    "from sklearn import ensemble\n",
    "from sklearn.model_selection import cross_val_score\n",
    "\n",
    "# import warnings filter\n",
    "from warnings import simplefilter\n",
    "# ignore all future warnings\n",
    "simplefilter(action='ignore', category=FutureWarning)\n",
    "\n",
    "#source\n",
    "#https://www.kaggle.com/anthonypino/melbourne-housing-market\n",
    "\n",
    "#Loading Data\n",
    "df = pd.read_csv('/Users/Kevin/Files/Thinkful/Data Files/Melbourne_housing_FULL.csv')"
   ]
  },
  {
   "cell_type": "markdown",
   "metadata": {},
   "source": [
    "# Description and codes\n",
    "\n",
    "- Suburb: Suburb\n",
    "\n",
    "- Address: Address \n",
    "\n",
    "- Rooms: Number of rooms\n",
    "\n",
    "- Type: \n",
    "    - br - bedroom(s);\n",
    "    - h - house,cottage,villa, semi,terrace;\n",
    "    - u - unit, duplex; t - townhouse;\n",
    "    - dev site - development site;\n",
    "    - o res - other residential.\n",
    "    \n",
    "- Price: Price in Australian dollars\n",
    "\n",
    "- Method: \n",
    "    - S - property sold;\n",
    "    - SP - property sold prior;\n",
    "    - PI - property passed in;\n",
    "    - PN - sold prior not disclosed;\n",
    "    - SN - sold not disclosed;\n",
    "    - NB - no bid; VB - vendor bid;\n",
    "    - W - withdrawn prior to auction;\n",
    "    - SA - sold after auction;\n",
    "    - SS - sold after auction price not disclosed.\n",
    "    - N/A - price or highest bid not available.\n",
    "    \n",
    "- SellerG: Real Estate Agent\n",
    "\n",
    "- Date: Date sold\n",
    "\n",
    "- Distance: Distance from CBD in Kilometres\n",
    "\n",
    "- Regionname: General Region (West, North West, North, North east ...etc)\n",
    "\n",
    "- Propertycount: Number of properties that exist in the suburb.\n",
    "\n",
    "- Bedroom2 : Scraped # of Bedrooms (from different source)\n",
    "\n",
    "- Bathroom: Number of Bathrooms\n",
    "\n",
    "- Car: Number of carspots\n",
    "\n",
    "- Landsize: Land Size in Metres\n",
    "\n",
    "- BuildingArea: Building Size in Metres\n",
    "\n",
    "- YearBuilt: Year the house was built\n",
    "\n",
    "- CouncilArea: Governing council for the area\n",
    "\n",
    "- Lattitude: Lattitude\n",
    "\n",
    "- Longtitude: Longtitude\n"
   ]
  },
  {
   "cell_type": "code",
   "execution_count": 87,
   "metadata": {},
   "outputs": [
    {
     "name": "stdout",
     "output_type": "stream",
     "text": [
      "<class 'pandas.core.frame.DataFrame'>\n",
      "RangeIndex: 34857 entries, 0 to 34856\n",
      "Data columns (total 21 columns):\n",
      "Suburb           34857 non-null object\n",
      "Address          34857 non-null object\n",
      "Rooms            34857 non-null int64\n",
      "Type             34857 non-null object\n",
      "Price            27247 non-null float64\n",
      "Method           34857 non-null object\n",
      "SellerG          34857 non-null object\n",
      "Date             34857 non-null object\n",
      "Distance         34856 non-null float64\n",
      "Postcode         34856 non-null float64\n",
      "Bedroom2         26640 non-null float64\n",
      "Bathroom         26631 non-null float64\n",
      "Car              26129 non-null float64\n",
      "Landsize         23047 non-null float64\n",
      "BuildingArea     13742 non-null float64\n",
      "YearBuilt        15551 non-null float64\n",
      "CouncilArea      34854 non-null object\n",
      "Lattitude        26881 non-null float64\n",
      "Longtitude       26881 non-null float64\n",
      "Regionname       34854 non-null object\n",
      "Propertycount    34854 non-null float64\n",
      "dtypes: float64(12), int64(1), object(8)\n",
      "memory usage: 5.6+ MB\n"
     ]
    }
   ],
   "source": [
    "df.info()"
   ]
  },
  {
   "cell_type": "code",
   "execution_count": 88,
   "metadata": {},
   "outputs": [
    {
     "name": "stdout",
     "output_type": "stream",
     "text": [
      "Suburb\n",
      "351\n",
      "Address\n",
      "34009\n",
      "Type\n",
      "3\n",
      "Method\n",
      "9\n",
      "SellerG\n",
      "388\n",
      "Date\n",
      "78\n",
      "CouncilArea\n",
      "33\n",
      "Regionname\n",
      "8\n"
     ]
    }
   ],
   "source": [
    "#counting unique vales to see if 'get dummies' can handle this data\n",
    "categorical = df.select_dtypes(include=['object'])\n",
    "for i in categorical:\n",
    "    column = categorical[i]\n",
    "    print(i)\n",
    "    print(column.nunique())"
   ]
  },
  {
   "cell_type": "code",
   "execution_count": 89,
   "metadata": {},
   "outputs": [
    {
     "data": {
      "text/plain": [
       "Price             7610\n",
       "Distance             1\n",
       "Postcode             1\n",
       "Bedroom2          8217\n",
       "Bathroom          8226\n",
       "Car               8728\n",
       "Landsize         11810\n",
       "BuildingArea     21115\n",
       "YearBuilt        19306\n",
       "CouncilArea          3\n",
       "Lattitude         7976\n",
       "Longtitude        7976\n",
       "Regionname           3\n",
       "Propertycount        3\n",
       "dtype: int64"
      ]
     },
     "execution_count": 89,
     "metadata": {},
     "output_type": "execute_result"
    }
   ],
   "source": [
    "# Count nulls test\n",
    "null_count = df.isnull().sum()\n",
    "null_count[null_count>0]"
   ]
  },
  {
   "cell_type": "code",
   "execution_count": 90,
   "metadata": {},
   "outputs": [
    {
     "data": {
      "text/plain": [
       "Suburb     0\n",
       "Address    0\n",
       "Rooms      0\n",
       "Type       0\n",
       "Method     0\n",
       "SellerG    0\n",
       "Date       0\n",
       "dtype: int64"
      ]
     },
     "execution_count": 90,
     "metadata": {},
     "output_type": "execute_result"
    }
   ],
   "source": [
    "# Count nulls test\n",
    "null_count[null_count==0]"
   ]
  },
  {
   "cell_type": "code",
   "execution_count": 91,
   "metadata": {},
   "outputs": [],
   "source": [
    "#drop null values\n",
    "df1 = df.dropna(axis=0)"
   ]
  },
  {
   "cell_type": "code",
   "execution_count": 92,
   "metadata": {},
   "outputs": [],
   "source": [
    "#replacing NaN values with 0s\n",
    "#df1 = df.fillna(0)"
   ]
  },
  {
   "cell_type": "code",
   "execution_count": 93,
   "metadata": {},
   "outputs": [
    {
     "data": {
      "text/plain": [
       "Series([], dtype: int64)"
      ]
     },
     "execution_count": 93,
     "metadata": {},
     "output_type": "execute_result"
    }
   ],
   "source": [
    "# Count nulls test\n",
    "null_count = df1.isnull().sum()\n",
    "null_count[null_count>0]"
   ]
  },
  {
   "cell_type": "code",
   "execution_count": 94,
   "metadata": {},
   "outputs": [],
   "source": [
    "#Creating variables - dropping Address since \n",
    "X = df1.drop(['Price', 'Address'], 1)\n",
    "Y = df1['Price']\n"
   ]
  },
  {
   "cell_type": "code",
   "execution_count": 95,
   "metadata": {},
   "outputs": [],
   "source": [
    "X = pd.get_dummies(X)"
   ]
  },
  {
   "cell_type": "markdown",
   "metadata": {},
   "source": [
    "# Random Forest Model"
   ]
  },
  {
   "cell_type": "code",
   "execution_count": 96,
   "metadata": {},
   "outputs": [],
   "source": [
    "from sklearn import ensemble\n",
    "from sklearn.ensemble import RandomForestRegressor\n",
    "from sklearn.model_selection import cross_val_score, GridSearchCV\n",
    "from sklearn.preprocessing import MinMaxScaler"
   ]
  },
  {
   "cell_type": "code",
   "execution_count": 97,
   "metadata": {},
   "outputs": [],
   "source": [
    "# Split dataset into training set and test set\n",
    "from sklearn.model_selection import train_test_split\n",
    "\n",
    "# 70% training and 30% test\n",
    "x_train, x_test, y_train, y_test = train_test_split(X, Y, test_size=0.3) "
   ]
  },
  {
   "cell_type": "code",
   "execution_count": 98,
   "metadata": {},
   "outputs": [
    {
     "data": {
      "text/plain": [
       "array([0.78997921, 0.81636605, 0.68903546, 0.76945006, 0.77109153,\n",
       "       0.83133097, 0.67383469, 0.7744019 , 0.84180653, 0.80391116])"
      ]
     },
     "execution_count": 98,
     "metadata": {},
     "output_type": "execute_result"
    }
   ],
   "source": [
    "# Blind model - using all the features\n",
    "rfr = ensemble.RandomForestRegressor()\n",
    "cross_val_score(rfc, X, Y, cv=10)"
   ]
  },
  {
   "cell_type": "code",
   "execution_count": 105,
   "metadata": {},
   "outputs": [
    {
     "data": {
      "text/plain": [
       "RandomForestRegressor(bootstrap=True, criterion='mse', max_depth=None,\n",
       "           max_features='auto', max_leaf_nodes=None,\n",
       "           min_impurity_decrease=0.0, min_impurity_split=None,\n",
       "           min_samples_leaf=1, min_samples_split=2,\n",
       "           min_weight_fraction_leaf=0.0, n_estimators=10, n_jobs=None,\n",
       "           oob_score=False, random_state=None, verbose=0, warm_start=False)"
      ]
     },
     "execution_count": 105,
     "metadata": {},
     "output_type": "execute_result"
    }
   ],
   "source": [
    "rfr.fit(X,Y)\n",
    "#print(rfr.feature_importances_)"
   ]
  },
  {
   "cell_type": "code",
   "execution_count": 100,
   "metadata": {},
   "outputs": [],
   "source": [
    "feature_importances = pd.DataFrame(rfr.feature_importances_, index = X.columns, columns=['importance']).sort_values('importance',ascending=False)"
   ]
  },
  {
   "cell_type": "code",
   "execution_count": 102,
   "metadata": {},
   "outputs": [
    {
     "name": "stdout",
     "output_type": "stream",
     "text": [
      "                                  importance\n",
      "BuildingArea                        0.347193\n",
      "Regionname_Southern Metropolitan    0.170340\n",
      "YearBuilt                           0.116454\n",
      "Distance                            0.072319\n",
      "Landsize                            0.055417\n",
      "Lattitude                           0.044593\n",
      "Longtitude                          0.037282\n",
      "SellerG_Hall                        0.013116\n",
      "Bathroom                            0.012109\n",
      "Postcode                            0.010659\n",
      "Rooms                               0.009259\n",
      "Propertycount                       0.008945\n",
      "Type_u                              0.007326\n",
      "Type_h                              0.007058\n",
      "Bedroom2                            0.006949\n",
      "Car                                 0.005882\n",
      "Suburb_Middle Park                  0.004951\n",
      "Regionname_Eastern Metropolitan     0.003072\n",
      "CouncilArea_Yarra City Council      0.002222\n",
      "Method_S                            0.002010\n"
     ]
    }
   ],
   "source": [
    "print(feature_importances.head(20))"
   ]
  },
  {
   "cell_type": "markdown",
   "metadata": {},
   "source": [
    "After creating a random forest model, the most important features within the model were:\n",
    "    - Building Area\n",
    "    - Region name: Southern Metropolitan \n",
    "    - Year built\n",
    "    - Distance \n",
    "    - Land size \n",
    "    \n",
    "The features above represent 75% explanatory power of the model. Therefore if we were a real estate developer we would want:\n",
    "    - A large/spacious house (Building Area)\n",
    "    - In the southern Metropolitan area\n",
    "    - Newly built (Year Built)\n",
    "    - Close proximity to the CBD (Distance)\n",
    "    - Large land(Land size)\n",
    "    "
   ]
  },
  {
   "cell_type": "code",
   "execution_count": 77,
   "metadata": {},
   "outputs": [],
   "source": [
    "# Perform Grid-Search\n",
    "gsc = GridSearchCV(\n",
    "    estimator=RandomForestRegressor(),\n",
    "    param_grid={\n",
    "        'max_depth': range(3,7),\n",
    "        'n_estimators': (10, 50, 100, 1000),\n",
    "        },\n",
    "    cv=5, \n",
    "    scoring='neg_mean_squared_error', \n",
    "    verbose=0, \n",
    "    n_jobs=-1)\n",
    "    \n",
    "grid_result = gsc.fit(X, Y)\n",
    "best_params = grid_result.best_params_"
   ]
  },
  {
   "cell_type": "code",
   "execution_count": 78,
   "metadata": {},
   "outputs": [
    {
     "name": "stdout",
     "output_type": "stream",
     "text": [
      "{'max_depth': 6, 'n_estimators': 1000}\n"
     ]
    }
   ],
   "source": [
    "print(best_params)"
   ]
  },
  {
   "cell_type": "code",
   "execution_count": 79,
   "metadata": {},
   "outputs": [
    {
     "name": "stdout",
     "output_type": "stream",
     "text": [
      "[0.73966082 0.66123871]\n"
     ]
    }
   ],
   "source": [
    "# Model using grid search best paramters\n",
    "rfr = RandomForestRegressor(max_depth=best_params[\"max_depth\"], n_estimators=best_params[\"n_estimators\"],                               random_state=False, verbose=False)\n",
    "\n",
    "# Perform K-Fold CV\n",
    "scores = cross_val_score(rfr, X, Y, cv=2)\n",
    "\n",
    "print(scores)"
   ]
  },
  {
   "cell_type": "code",
   "execution_count": null,
   "metadata": {},
   "outputs": [],
   "source": []
  }
 ],
 "metadata": {
  "kernelspec": {
   "display_name": "Python 3",
   "language": "python",
   "name": "python3"
  },
  "language_info": {
   "codemirror_mode": {
    "name": "ipython",
    "version": 3
   },
   "file_extension": ".py",
   "mimetype": "text/x-python",
   "name": "python",
   "nbconvert_exporter": "python",
   "pygments_lexer": "ipython3",
   "version": "3.7.3"
  }
 },
 "nbformat": 4,
 "nbformat_minor": 2
}
