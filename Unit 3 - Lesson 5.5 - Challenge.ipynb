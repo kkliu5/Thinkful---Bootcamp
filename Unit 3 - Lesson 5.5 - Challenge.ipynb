{
 "cells": [
  {
   "cell_type": "markdown",
   "metadata": {},
   "source": [
    "1. Predict the running times of prospective Olympic sprinters using data from the last 20 Olympics.\n",
    "    - Logistic Regression\n",
    "    - Good for cases where features are expected to be roughly linear\n",
    "2. You have more features (columns) than rows in your dataset.\n",
    "    - Support Vector Machine\n",
    "    - Automatic nonlinear feature creation\n",
    "3. Identify the most important characteristic predicting likelihood of being jailed before age 20.\n",
    "    - Gradient Boost\n",
    "    - Best in class predictor\n",
    "4. Implement a filter to “highlight” emails that might be important to the recipient\n",
    "    - Naive Bayes\n",
    "    - Easy and fast to implement\n",
    "5. You have 1000+ features.\n",
    "    - Lasso Regression \n",
    "    - \n",
    "6. Predict whether someone who adds items to their cart on a website will purchase the items.\n",
    "    - Logistic Regression\n",
    "    - Simple and features can be fairly linear \n",
    "7. Your dataset dimensions are 982400 x 500\n",
    "    - Linear Regression\n",
    "    - Fast to train\n",
    "8. Identify faces in an image.\n",
    "    - Neural Networks or Naive Bayes or K Nearest neighbor\n",
    "    - Read on internet / Easy and fast to implement / Can constantly evolve and improve \n",
    "9. Predict which of three flavors of ice cream will be most popular with boys vs girls.\n",
    "    - Random Forest\n",
    "    - Can work in parallel"
   ]
  },
  {
   "cell_type": "code",
   "execution_count": null,
   "metadata": {},
   "outputs": [],
   "source": []
  }
 ],
 "metadata": {
  "kernelspec": {
   "display_name": "Python 3",
   "language": "python",
   "name": "python3"
  },
  "language_info": {
   "codemirror_mode": {
    "name": "ipython",
    "version": 3
   },
   "file_extension": ".py",
   "mimetype": "text/x-python",
   "name": "python",
   "nbconvert_exporter": "python",
   "pygments_lexer": "ipython3",
   "version": "3.7.3"
  }
 },
 "nbformat": 4,
 "nbformat_minor": 2
}
