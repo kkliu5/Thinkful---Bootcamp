{
 "cells": [
  {
   "cell_type": "code",
   "execution_count": 47,
   "metadata": {},
   "outputs": [],
   "source": [
    "#Initializing\n",
    "import numpy as np\n",
    "import pandas as pd\n",
    "import scipy\n",
    "import matplotlib.pyplot as plt\n",
    "import seaborn as sns\n",
    "%matplotlib inline"
   ]
  },
  {
   "cell_type": "code",
   "execution_count": 48,
   "metadata": {},
   "outputs": [],
   "source": [
    "df = pd.read_csv('https://tf-assets-prod.s3.amazonaws.com/tf-curric/data-science/epi_r.csv')"
   ]
  },
  {
   "cell_type": "code",
   "execution_count": 49,
   "metadata": {},
   "outputs": [],
   "source": [
    "#df.head()"
   ]
  },
  {
   "cell_type": "code",
   "execution_count": 50,
   "metadata": {},
   "outputs": [
    {
     "name": "stdout",
     "output_type": "stream",
     "text": [
      "<class 'pandas.core.frame.DataFrame'>\n",
      "RangeIndex: 20052 entries, 0 to 20051\n",
      "Columns: 680 entries, title to turkey\n",
      "dtypes: float64(679), object(1)\n",
      "memory usage: 104.0+ MB\n"
     ]
    }
   ],
   "source": [
    "df.info()"
   ]
  },
  {
   "cell_type": "code",
   "execution_count": 51,
   "metadata": {},
   "outputs": [
    {
     "data": {
      "text/plain": [
       "calories    4117\n",
       "protein     4162\n",
       "fat         4183\n",
       "sodium      4119\n",
       "dtype: int64"
      ]
     },
     "execution_count": 51,
     "metadata": {},
     "output_type": "execute_result"
    }
   ],
   "source": [
    "# Count nulls \n",
    "null_count = df.isnull().sum()\n",
    "null_count[null_count>0]"
   ]
  },
  {
   "cell_type": "code",
   "execution_count": 52,
   "metadata": {},
   "outputs": [],
   "source": [
    "#Calculating the columns frequency excluding NaN and 0s\n",
    "df1 = df.count() - (df == 0).astype(int).sum(axis=0)"
   ]
  },
  {
   "cell_type": "code",
   "execution_count": 53,
   "metadata": {},
   "outputs": [],
   "source": [
    "#sorting values to show the columns with the most data\n",
    "df1 = df1.sort_values(ascending=False)"
   ]
  },
  {
   "cell_type": "code",
   "execution_count": 54,
   "metadata": {},
   "outputs": [
    {
     "name": "stdout",
     "output_type": "stream",
     "text": [
      "title                20052\n",
      "rating               18216\n",
      "calories             15922\n",
      "sodium               15872\n",
      "protein              15039\n",
      "fat                  14646\n",
      "bon appétit           9355\n",
      "peanut free           8390\n",
      "soy free              8088\n",
      "tree nut free         7044\n",
      "vegetarian            6846\n",
      "gourmet               6648\n",
      "kosher                6175\n",
      "pescatarian           6042\n",
      "quick & easy          5372\n",
      "wheat/gluten-free     4906\n",
      "bake                  4413\n",
      "summer                4151\n",
      "dessert               3573\n",
      "dairy free            3206\n",
      "side                  3151\n",
      "no sugar added        3132\n",
      "winter                3099\n",
      "fall                  3015\n",
      "dinner                2705\n",
      "sugar conscious       2466\n",
      "healthy               2351\n",
      "kidney friendly       2313\n",
      "onion                 2238\n",
      "tomato                2140\n",
      "vegetable             2087\n",
      "sauté                 2044\n",
      "milk/cream            1995\n",
      "fruit                 1958\n",
      "vegan                 1851\n",
      "dtype: int64\n"
     ]
    }
   ],
   "source": [
    "df1 = df1.nlargest(35)\n",
    "print(df1)"
   ]
  },
  {
   "cell_type": "code",
   "execution_count": 55,
   "metadata": {},
   "outputs": [],
   "source": [
    "keep_list = [\n",
    "#'title'\n",
    "'rating',\n",
    "#'calories',\n",
    "#'sodium',\n",
    "#'protein',\n",
    "#'fat',\n",
    "'bon appétit',\n",
    "'peanut free',\n",
    "'soy free',\n",
    "'tree nut free',\n",
    "'vegetarian',\n",
    "'gourmet',\n",
    "'kosher',\n",
    "'pescatarian',\n",
    "'quick & easy',\n",
    "'wheat/gluten-free',\n",
    "'bake',\n",
    "'summer',\n",
    "'dessert',\n",
    "'dairy free',\n",
    "'side',\n",
    "'no sugar added',\n",
    "'winter',\n",
    "'fall',\n",
    "'dinner',\n",
    "'sugar conscious',\n",
    "'healthy',\n",
    "'kidney friendly',\n",
    "'onion',\n",
    "'tomato',\n",
    "'vegetable',\n",
    "'sauté',\n",
    "'milk/cream',\n",
    "'fruit',\n",
    "'vegan'\n",
    "]"
   ]
  },
  {
   "cell_type": "code",
   "execution_count": 56,
   "metadata": {},
   "outputs": [],
   "source": [
    "df2 = df.filter(keep_list)\n",
    "#print(df2)"
   ]
  },
  {
   "cell_type": "code",
   "execution_count": 57,
   "metadata": {},
   "outputs": [
    {
     "name": "stderr",
     "output_type": "stream",
     "text": [
      "/usr/local/lib/python3.7/site-packages/sklearn/svm/base.py:196: FutureWarning: The default value of gamma will change from 'auto' to 'scale' in version 0.22 to account better for unscaled features. Set gamma explicitly to 'auto' or 'scale' to avoid this warning.\n",
      "  \"avoid this warning.\", FutureWarning)\n"
     ]
    },
    {
     "name": "stdout",
     "output_type": "stream",
     "text": [
      "R²:\n",
      "0.9968537450236218\n"
     ]
    }
   ],
   "source": [
    "from sklearn.svm import SVR\n",
    "svr = SVR()\n",
    "X = df2.sample(frac=0.3, replace=True, random_state=1)\n",
    "Y = df2.rating.sample(frac=0.3, replace=True, random_state=1)\n",
    "svr.fit(X,Y)\n",
    "\n",
    "print('R²:')\n",
    "print(svr.score(X, Y))"
   ]
  },
  {
   "cell_type": "code",
   "execution_count": null,
   "metadata": {},
   "outputs": [],
   "source": []
  }
 ],
 "metadata": {
  "kernelspec": {
   "display_name": "Python 3",
   "language": "python",
   "name": "python3"
  },
  "language_info": {
   "codemirror_mode": {
    "name": "ipython",
    "version": 3
   },
   "file_extension": ".py",
   "mimetype": "text/x-python",
   "name": "python",
   "nbconvert_exporter": "python",
   "pygments_lexer": "ipython3",
   "version": "3.7.3"
  }
 },
 "nbformat": 4,
 "nbformat_minor": 2
}
