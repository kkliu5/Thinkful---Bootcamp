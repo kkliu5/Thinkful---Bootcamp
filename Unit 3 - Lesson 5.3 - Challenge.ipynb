{
 "cells": [
  {
   "cell_type": "code",
   "execution_count": 49,
   "metadata": {},
   "outputs": [],
   "source": [
    "import pandas as pd\n",
    "import numpy as np\n",
    "import scipy\n",
    "import matplotlib.pyplot as plt\n",
    "%matplotlib inline\n",
    "\n",
    "from sklearn import ensemble\n",
    "from sklearn import datasets\n",
    "from sklearn.utils import shuffle\n",
    "from sklearn.metrics import mean_squared_error"
   ]
  },
  {
   "cell_type": "code",
   "execution_count": 50,
   "metadata": {},
   "outputs": [],
   "source": [
    "df = pd.read_csv((\n",
    "    \"https://raw.githubusercontent.com/Thinkful-Ed/data-201-resources/\"\n",
    "    \"master/ESS_practice_data/ESSdata_Thinkful.csv\")).dropna()\n",
    "\n",
    "# Definine outcome and predictors.\n",
    "# Set our outcome to 0 and 1.\n",
    "y = df['partner'] - 1\n",
    "X = df.loc[:, ~df.columns.isin(['partner', 'cntry', 'idno'])]\n",
    "\n",
    "# Make the categorical variable 'country' into dummies.\n",
    "X = pd.concat([X, pd.get_dummies(df['cntry'])], axis=1)\n",
    "\n",
    "# Create training and test sets.\n",
    "offset = int(X.shape[0] * 0.8)\n",
    "\n",
    "# Put 80% of the data in the training set.\n",
    "X_train, y_train = X[:offset], y[:offset]\n",
    "\n",
    "# And put 10% in the test set.\n",
    "X_test, y_test = X[offset:], y[offset:]"
   ]
  },
  {
   "cell_type": "markdown",
   "metadata": {},
   "source": [
    "From example\n",
    "\n",
    "Training set accuracy: <br/>\n",
    "Percent Type I errors: 0.04650845608292417<br/>\n",
    "Percent Type II errors: 0.17607746863066012\n",
    "\n",
    "Test set accuracy:<br/>\n",
    "Percent Type I errors: 0.06257668711656442<br/>\n",
    "Percent Type II errors: 0.18527607361963191"
   ]
  },
  {
   "cell_type": "markdown",
   "metadata": {},
   "source": [
    "# Testing iteration changes"
   ]
  },
  {
   "cell_type": "code",
   "execution_count": 51,
   "metadata": {},
   "outputs": [],
   "source": [
    "# 100 iteration\n",
    "params = {'n_estimators': 100,\n",
    "          'max_depth': 5,\n",
    "          'loss': 'deviance'}\n",
    "\n",
    "# Initialize and fit the model.\n",
    "clf = ensemble.GradientBoostingClassifier(**params)\n",
    "clf.fit(X_train, y_train)\n",
    "\n",
    "predict_train = clf.predict(X_train)\n",
    "predict_test = clf.predict(X_test)\n",
    "\n",
    "# Accuracy tables.\n",
    "table_train = pd.crosstab(y_train, predict_train, margins=True)\n",
    "table_test = pd.crosstab(y_test, predict_test, margins=True)\n",
    "\n",
    "train_tI_errors_1 = table_train.loc[0.0,1.0] / table_train.loc['All','All']\n",
    "train_tII_errors_1 = table_train.loc[1.0,0.0] / table_train.loc['All','All']\n",
    "\n",
    "test_tI_errors_1 = table_test.loc[0.0,1.0]/table_test.loc['All','All']\n",
    "test_tII_errors_1 = table_test.loc[1.0,0.0]/table_test.loc['All','All']"
   ]
  },
  {
   "cell_type": "code",
   "execution_count": 52,
   "metadata": {},
   "outputs": [],
   "source": [
    "# 500 iterations, \n",
    "params = {'n_estimators': 500,\n",
    "          'max_depth': 5,\n",
    "          'loss': 'deviance'}\n",
    "\n",
    "# Initialize and fit the model.\n",
    "clf = ensemble.GradientBoostingClassifier(**params)\n",
    "clf.fit(X_train, y_train)\n",
    "\n",
    "predict_train = clf.predict(X_train)\n",
    "predict_test = clf.predict(X_test)\n",
    "\n",
    "# Accuracy tables.\n",
    "table_train = pd.crosstab(y_train, predict_train, margins=True)\n",
    "table_test = pd.crosstab(y_test, predict_test, margins=True)\n",
    "\n",
    "train_tI_errors_2 = table_train.loc[0.0,1.0] / table_train.loc['All','All']\n",
    "train_tII_errors_2 = table_train.loc[1.0,0.0] / table_train.loc['All','All']\n",
    "\n",
    "test_tI_errors_2 = table_test.loc[0.0,1.0]/table_test.loc['All','All']\n",
    "test_tII_errors_2 = table_test.loc[1.0,0.0]/table_test.loc['All','All']"
   ]
  },
  {
   "cell_type": "code",
   "execution_count": 53,
   "metadata": {},
   "outputs": [],
   "source": [
    "# 700 iterations\n",
    "params = {'n_estimators': 700,\n",
    "          'max_depth': 5,\n",
    "          'loss': 'deviance'}\n",
    "\n",
    "# Initialize and fit the model.\n",
    "clf = ensemble.GradientBoostingClassifier(**params)\n",
    "clf.fit(X_train, y_train)\n",
    "\n",
    "predict_train = clf.predict(X_train)\n",
    "predict_test = clf.predict(X_test)\n",
    "\n",
    "# Accuracy tables.\n",
    "table_train = pd.crosstab(y_train, predict_train, margins=True)\n",
    "table_test = pd.crosstab(y_test, predict_test, margins=True)\n",
    "\n",
    "train_tI_errors_3 = table_train.loc[0.0,1.0] / table_train.loc['All','All']\n",
    "train_tII_errors_3 = table_train.loc[1.0,0.0] / table_train.loc['All','All']\n",
    "\n",
    "test_tI_errors_3 = table_test.loc[0.0,1.0]/table_test.loc['All','All']\n",
    "test_tII_errors_3 = table_test.loc[1.0,0.0]/table_test.loc['All','All']"
   ]
  },
  {
   "cell_type": "code",
   "execution_count": 54,
   "metadata": {},
   "outputs": [],
   "source": [
    "# 1000 iterations, changed max depth to 5\n",
    "params = {'n_estimators': 1000,\n",
    "          'max_depth': 5,\n",
    "          'loss': 'deviance'}\n",
    "\n",
    "# Initialize and fit the model.\n",
    "clf = ensemble.GradientBoostingClassifier(**params)\n",
    "clf.fit(X_train, y_train)\n",
    "\n",
    "predict_train = clf.predict(X_train)\n",
    "predict_test = clf.predict(X_test)\n",
    "\n",
    "# Accuracy tables.\n",
    "table_train = pd.crosstab(y_train, predict_train, margins=True)\n",
    "table_test = pd.crosstab(y_test, predict_test, margins=True)\n",
    "\n",
    "train_tI_errors_4 = table_train.loc[0.0,1.0] / table_train.loc['All','All']\n",
    "train_tII_errors_4 = table_train.loc[1.0,0.0] / table_train.loc['All','All']\n",
    "\n",
    "test_tI_errors_4 = table_test.loc[0.0,1.0]/table_test.loc['All','All']\n",
    "test_tII_errors_4 = table_test.loc[1.0,0.0]/table_test.loc['All','All']"
   ]
  },
  {
   "cell_type": "code",
   "execution_count": 55,
   "metadata": {},
   "outputs": [
    {
     "name": "stdout",
     "output_type": "stream",
     "text": [
      "Training set accuracy:\n",
      "Percent Type I errors:\n",
      "0.0261\n",
      "0.0049\n",
      "0.0012\n",
      "0.0003\n",
      "\n",
      "Percent Type II errors:\n",
      "0.1495\n",
      "0.0640\n",
      "0.0381\n",
      "0.0129\n",
      "\n",
      "Test set accuracy:\n",
      "Percent Type I errors:\n",
      "0.1141\n",
      "0.1184\n",
      "0.1399\n",
      "0.1233\n",
      "\n",
      "Percent Type II errors:\n",
      "0.1411\n",
      "0.1552\n",
      "0.1448\n",
      "0.1534\n"
     ]
    }
   ],
   "source": [
    "print((\n",
    "    'Training set accuracy:\\n'\n",
    "    'Percent Type I errors:\\n'\n",
    "    '{:.4f}\\n{:.4f}\\n{:.4f}\\n{:.4f}\\n\\n'\n",
    "    'Percent Type II errors:\\n'\n",
    "    '{:.4f}\\n{:.4f}\\n{:.4f}\\n{:.4f}\\n\\n'\n",
    "    'Test set accuracy:\\n'\n",
    "    'Percent Type I errors:\\n'\n",
    "    '{:.4f}\\n{:.4f}\\n{:.4f}\\n{:.4f}\\n\\n'\n",
    "    'Percent Type II errors:\\n'\n",
    "    '{:.4f}\\n{:.4f}\\n{:.4f}\\n{:.4f}'\n",
    ").format(train_tI_errors_1, train_tI_errors_2, train_tI_errors_3, train_tI_errors_4,\n",
    "         train_tII_errors_1, train_tII_errors_2, train_tII_errors_3, train_tII_errors_4,\n",
    "         test_tI_errors_1, test_tI_errors_2, test_tI_errors_3, test_tI_errors_4,\n",
    "         test_tII_errors_1, test_tII_errors_2, test_tII_errors_3, test_tII_errors_4))"
   ]
  },
  {
   "cell_type": "markdown",
   "metadata": {},
   "source": [
    "more iterations the better - looking at training data\n",
    "\n",
    "setting iterations to 1000"
   ]
  },
  {
   "cell_type": "markdown",
   "metadata": {},
   "source": [
    "# Testing Max Depth"
   ]
  },
  {
   "cell_type": "code",
   "execution_count": 78,
   "metadata": {},
   "outputs": [],
   "source": [
    "# 5 max_depth\n",
    "params = {'n_estimators': 1000,\n",
    "          'max_depth': 5,\n",
    "          'loss': 'deviance'}\n",
    "\n",
    "# Initialize and fit the model.\n",
    "clf = ensemble.GradientBoostingClassifier(**params)\n",
    "clf.fit(X_train, y_train)\n",
    "\n",
    "predict_train = clf.predict(X_train)\n",
    "predict_test = clf.predict(X_test)\n",
    "\n",
    "# Accuracy tables.\n",
    "table_train = pd.crosstab(y_train, predict_train, margins=True)\n",
    "table_test = pd.crosstab(y_test, predict_test, margins=True)\n",
    "\n",
    "train_tI_errors_1 = table_train.loc[0.0,1.0] / table_train.loc['All','All']\n",
    "train_tII_errors_1 = table_train.loc[1.0,0.0] / table_train.loc['All','All']\n",
    "\n",
    "test_tI_errors_1 = table_test.loc[0.0,1.0]/table_test.loc['All','All']\n",
    "test_tII_errors_1 = table_test.loc[1.0,0.0]/table_test.loc['All','All']"
   ]
  },
  {
   "cell_type": "code",
   "execution_count": 79,
   "metadata": {},
   "outputs": [],
   "source": [
    "# 20 max_depth \n",
    "params = {'n_estimators': 1000,\n",
    "          'max_depth': 20,\n",
    "          'loss': 'deviance'}\n",
    "\n",
    "# Initialize and fit the model.\n",
    "clf = ensemble.GradientBoostingClassifier(**params)\n",
    "clf.fit(X_train, y_train)\n",
    "\n",
    "predict_train = clf.predict(X_train)\n",
    "predict_test = clf.predict(X_test)\n",
    "\n",
    "# Accuracy tables.\n",
    "table_train = pd.crosstab(y_train, predict_train, margins=True)\n",
    "table_test = pd.crosstab(y_test, predict_test, margins=True)\n",
    "\n",
    "train_tI_errors_2 = table_train.loc[0.0,1.0] / table_train.loc['All','All']\n",
    "train_tII_errors_2 = table_train.loc[1.0,0.0] / table_train.loc['All','All']\n",
    "\n",
    "test_tI_errors_2 = table_test.loc[0.0,1.0]/table_test.loc['All','All']\n",
    "test_tII_errors_2 = table_test.loc[1.0,0.0]/table_test.loc['All','All']"
   ]
  },
  {
   "cell_type": "code",
   "execution_count": 80,
   "metadata": {},
   "outputs": [],
   "source": [
    "# 50 max_depth\n",
    "params = {'n_estimators': 1000,\n",
    "          'max_depth': 50,\n",
    "          'loss': 'deviance'}\n",
    "\n",
    "# Initialize and fit the model.\n",
    "clf = ensemble.GradientBoostingClassifier(**params)\n",
    "clf.fit(X_train, y_train)\n",
    "\n",
    "predict_train = clf.predict(X_train)\n",
    "predict_test = clf.predict(X_test)\n",
    "\n",
    "# Accuracy tables.\n",
    "table_train = pd.crosstab(y_train, predict_train, margins=True)\n",
    "table_test = pd.crosstab(y_test, predict_test, margins=True)\n",
    "\n",
    "train_tI_errors_3 = table_train.loc[0.0,1.0] / table_train.loc['All','All']\n",
    "train_tII_errors_3 = table_train.loc[1.0,0.0] / table_train.loc['All','All']\n",
    "\n",
    "test_tI_errors_3 = table_test.loc[0.0,1.0]/table_test.loc['All','All']\n",
    "test_tII_errors_3 = table_test.loc[1.0,0.0]/table_test.loc['All','All']"
   ]
  },
  {
   "cell_type": "code",
   "execution_count": 81,
   "metadata": {},
   "outputs": [],
   "source": [
    "# 100 max_depth\n",
    "params = {'n_estimators': 1000,\n",
    "          'max_depth': 100,\n",
    "          'loss': 'deviance'}\n",
    "\n",
    "# Initialize and fit the model.\n",
    "clf = ensemble.GradientBoostingClassifier(**params)\n",
    "clf.fit(X_train, y_train)\n",
    "\n",
    "predict_train = clf.predict(X_train)\n",
    "predict_test = clf.predict(X_test)\n",
    "\n",
    "# Accuracy tables.\n",
    "table_train = pd.crosstab(y_train, predict_train, margins=True)\n",
    "table_test = pd.crosstab(y_test, predict_test, margins=True)\n",
    "\n",
    "train_tI_errors_4 = table_train.loc[0.0,1.0] / table_train.loc['All','All']\n",
    "train_tII_errors_4 = table_train.loc[1.0,0.0] / table_train.loc['All','All']\n",
    "\n",
    "test_tI_errors_4 = table_test.loc[0.0,1.0]/table_test.loc['All','All']\n",
    "test_tII_errors_4 = table_test.loc[1.0,0.0]/table_test.loc['All','All']"
   ]
  },
  {
   "cell_type": "code",
   "execution_count": 82,
   "metadata": {},
   "outputs": [
    {
     "name": "stdout",
     "output_type": "stream",
     "text": [
      "Training set accuracy:\n",
      "Percent Type I errors:\n",
      "0.0003\n",
      "0.0000\n",
      "0.0000\n",
      "0.0000\n",
      "\n",
      "Percent Type II errors:\n",
      "0.0123\n",
      "0.0000\n",
      "0.0000\n",
      "0.0000\n",
      "\n",
      "Test set accuracy:\n",
      "Percent Type I errors:\n",
      "0.1411\n",
      "0.1190\n",
      "0.1595\n",
      "0.1613\n",
      "\n",
      "Percent Type II errors:\n",
      "0.1405\n",
      "0.1687\n",
      "0.1644\n",
      "0.1663\n"
     ]
    }
   ],
   "source": [
    "print((\n",
    "    'Training set accuracy:\\n'\n",
    "    'Percent Type I errors:\\n'\n",
    "    '{:.4f}\\n{:.4f}\\n{:.4f}\\n{:.4f}\\n\\n'\n",
    "    'Percent Type II errors:\\n'\n",
    "    '{:.4f}\\n{:.4f}\\n{:.4f}\\n{:.4f}\\n\\n'\n",
    "    'Test set accuracy:\\n'\n",
    "    'Percent Type I errors:\\n'\n",
    "    '{:.4f}\\n{:.4f}\\n{:.4f}\\n{:.4f}\\n\\n'\n",
    "    'Percent Type II errors:\\n'\n",
    "    '{:.4f}\\n{:.4f}\\n{:.4f}\\n{:.4f}'\n",
    ").format(train_tI_errors_1, train_tI_errors_2, train_tI_errors_3, train_tI_errors_4,\n",
    "         train_tII_errors_1, train_tII_errors_2, train_tII_errors_3, train_tII_errors_4,\n",
    "         test_tI_errors_1, test_tI_errors_2, test_tI_errors_3, test_tI_errors_4,\n",
    "         test_tII_errors_1, test_tII_errors_2, test_tII_errors_3, test_tII_errors_4))"
   ]
  },
  {
   "cell_type": "markdown",
   "metadata": {},
   "source": [
    "# Testing exponential"
   ]
  },
  {
   "cell_type": "code",
   "execution_count": 83,
   "metadata": {},
   "outputs": [],
   "source": [
    "params = {'n_estimators': 1000,\n",
    "          'max_depth': 5,\n",
    "          'loss': 'exponential'}\n",
    "\n",
    "# Initialize and fit the model.\n",
    "clf = ensemble.GradientBoostingClassifier(**params)\n",
    "clf.fit(X_train, y_train)\n",
    "\n",
    "predict_train = clf.predict(X_train)\n",
    "predict_test = clf.predict(X_test)\n",
    "\n",
    "# Accuracy tables.\n",
    "table_train = pd.crosstab(y_train, predict_train, margins=True)\n",
    "table_test = pd.crosstab(y_test, predict_test, margins=True)\n",
    "\n",
    "train_tI_errors_2 = table_train.loc[0.0,1.0] / table_train.loc['All','All']\n",
    "train_tII_errors_2 = table_train.loc[1.0,0.0] / table_train.loc['All','All']\n",
    "\n",
    "test_tI_errors_2 = table_test.loc[0.0,1.0]/table_test.loc['All','All']\n",
    "test_tII_errors_2 = table_test.loc[1.0,0.0]/table_test.loc['All','All']"
   ]
  },
  {
   "cell_type": "code",
   "execution_count": 85,
   "metadata": {},
   "outputs": [
    {
     "name": "stdout",
     "output_type": "stream",
     "text": [
      "Training set accuracy:\n",
      "Percent Type I errors:\n",
      "0.0008\n",
      "\n",
      "Percent Type II errors:\n",
      "0.0153\n",
      "\n",
      "Test set accuracy:\n",
      "Percent Type I errors:\n",
      "0.1067\n",
      "\n",
      "Percent Type II errors:\n",
      "0.1638\n"
     ]
    }
   ],
   "source": [
    "print((\n",
    "    'Training set accuracy:\\n'\n",
    "    'Percent Type I errors:\\n'\n",
    "    '{:.4f}\\n\\n'\n",
    "    'Percent Type II errors:\\n'\n",
    "    '{:.4f}\\n\\n'\n",
    "    'Test set accuracy:\\n'\n",
    "    'Percent Type I errors:\\n'\n",
    "    '{:.4f}\\n\\n'\n",
    "    'Percent Type II errors:\\n'\n",
    "    '{:.4f}'\n",
    ").format(train_tI_errors_2, \n",
    "        train_tII_errors_2,\n",
    "        test_tI_errors_2,\n",
    "        test_tII_errors_2))"
   ]
  },
  {
   "cell_type": "markdown",
   "metadata": {},
   "source": [
    "Exponential is slightly better than deviance \n",
    "\n",
    "Compared to beginning example the training set has very little errors and the test set has improved"
   ]
  },
  {
   "cell_type": "markdown",
   "metadata": {},
   "source": [
    "From example\n",
    "\n",
    "Training set accuracy: <br/>\n",
    "Percent Type I errors: 0.04650845608292417<br/>\n",
    "Percent Type II errors: 0.17607746863066012\n",
    "\n",
    "Test set accuracy:<br/>\n",
    "Percent Type I errors: 0.06257668711656442<br/>\n",
    "Percent Type II errors: 0.18527607361963191"
   ]
  },
  {
   "cell_type": "code",
   "execution_count": null,
   "metadata": {},
   "outputs": [],
   "source": []
  }
 ],
 "metadata": {
  "kernelspec": {
   "display_name": "Python 3",
   "language": "python",
   "name": "python3"
  },
  "language_info": {
   "codemirror_mode": {
    "name": "ipython",
    "version": 3
   },
   "file_extension": ".py",
   "mimetype": "text/x-python",
   "name": "python",
   "nbconvert_exporter": "python",
   "pygments_lexer": "ipython3",
   "version": "3.7.3"
  }
 },
 "nbformat": 4,
 "nbformat_minor": 2
}
