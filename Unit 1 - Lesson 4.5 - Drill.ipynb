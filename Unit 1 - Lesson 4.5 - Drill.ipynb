{
 "cells": [
  {
   "cell_type": "markdown",
   "metadata": {},
   "source": [
    "# Original problem\n",
    "To prevent cheating, a teacher writes three versions of a test. She stacks the three versions together, first all copies of Version A, then all copies of Version B, then all copies of Version C. As students arrive for the exam, each student takes a test. When grading the test, the teacher finds that students who took Version B scored higher than students who took either Version A or Version C. She concludes from this that Version B is easier, and discards it.\n",
    "***\n",
    "# Research Proposal \n",
    "## The problem\n",
    "- The teacher wants to prevent cheating\n",
    "\n",
    "## The potential solution\n",
    "- Distributing multiple tests versions at random \n",
    "\n",
    "## The method of testing solution\n",
    "1. Split the class into two groups randomly\n",
    "2. Have one group all take the same test\n",
    "3. Have other group take multiple tests versions distributed randomly\n",
    "4. Make sure all tests contain the same questions\n",
    "5. Calculate the averages of the tests\n",
    "6. Compare the averages. If the averages of the group that all taken the same test is higher than the group that had taken multiple versions of the test by more than one standard deviation, we can say that group one can be cheating and group two makes it harder to cheat. "
   ]
  },
  {
   "cell_type": "code",
   "execution_count": null,
   "metadata": {},
   "outputs": [],
   "source": []
  }
 ],
 "metadata": {
  "kernelspec": {
   "display_name": "Python 3",
   "language": "python",
   "name": "python3"
  },
  "language_info": {
   "codemirror_mode": {
    "name": "ipython",
    "version": 3
   },
   "file_extension": ".py",
   "mimetype": "text/x-python",
   "name": "python",
   "nbconvert_exporter": "python",
   "pygments_lexer": "ipython3",
   "version": "3.7.2"
  }
 },
 "nbformat": 4,
 "nbformat_minor": 2
}
